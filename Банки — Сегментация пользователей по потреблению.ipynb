{
 "cells": [
  {
   "cell_type": "markdown",
   "metadata": {},
   "source": [
    "# Банки — Сегментация пользователей по потреблению"
   ]
  },
  {
   "cell_type": "markdown",
   "metadata": {},
   "source": [
    "## Задача**:**\n",
    "\n",
    "Проанализируйте клиентов регионального банка и сегментируйте пользователей по количеству потребляемых продуктов.\n",
    "\n",
    "- Проведите исследовательский анализ данных,\n",
    "- Сегментируйте пользователей на основе данных о количестве потребляемых продуктов,\n",
    "- Сформулируйте и проверьте статистические гипотезы.\n",
    "    \n",
    "    *Проверьте гипотезу различия дохода между теми клиентами, которые пользуются двумя продуктами банка, и теми, которые пользуются одним.*\n",
    "    \n",
    "    *Сформулируйте и проверьте статистическую гипотезу относительно представленных данных.*"
   ]
  },
  {
   "cell_type": "markdown",
   "metadata": {},
   "source": [
    "## Описание данных\n",
    "\n",
    "Датасет содержит данные о клиентах банка «Метанпром». Банк располагается в Ярославле и областных городах: Ростов Великий и Рыбинск.\n",
    "\n",
    "Колонки:\n",
    "\n",
    "- `userid` — идентификатор пользователя,\n",
    "- `score` — баллы кредитного скоринга,\n",
    "- `City` — город,\n",
    "- `Gender` — пол,\n",
    "- `Age` — возраст,\n",
    "- `Objects` — количество объектов в собственности,\n",
    "- `Balance` — баланс на счёте,\n",
    "- `Products` — количество продуктов, которыми пользуется клиент,\n",
    "- `CreditCard` — есть ли кредитная карта,\n",
    "- `Loyalty` — активный клиент,\n",
    "- `estimated_salary` — заработная плата клиента,\n",
    "- `Churn` — ушёл или нет."
   ]
  },
  {
   "cell_type": "markdown",
   "metadata": {},
   "source": [
    "## Загрузка и обработка данных"
   ]
  },
  {
   "cell_type": "code",
   "execution_count": 1,
   "metadata": {
    "scrolled": true
   },
   "outputs": [],
   "source": [
    "# импорт библиотек\n",
    "import pandas as pd\n",
    "import matplotlib.pyplot as plt\n",
    "import seaborn as sns\n",
    "from scipy import stats as st"
   ]
  },
  {
   "cell_type": "code",
   "execution_count": 2,
   "metadata": {
    "scrolled": false
   },
   "outputs": [
    {
     "data": {
      "text/html": [
       "<div>\n",
       "<style scoped>\n",
       "    .dataframe tbody tr th:only-of-type {\n",
       "        vertical-align: middle;\n",
       "    }\n",
       "\n",
       "    .dataframe tbody tr th {\n",
       "        vertical-align: top;\n",
       "    }\n",
       "\n",
       "    .dataframe thead th {\n",
       "        text-align: right;\n",
       "    }\n",
       "</style>\n",
       "<table border=\"1\" class=\"dataframe\">\n",
       "  <thead>\n",
       "    <tr style=\"text-align: right;\">\n",
       "      <th></th>\n",
       "      <th>userid</th>\n",
       "      <th>score</th>\n",
       "      <th>City</th>\n",
       "      <th>Gender</th>\n",
       "      <th>Age</th>\n",
       "      <th>Objects</th>\n",
       "      <th>Balance</th>\n",
       "      <th>Products</th>\n",
       "      <th>CreditCard</th>\n",
       "      <th>Loyalty</th>\n",
       "      <th>estimated_salary</th>\n",
       "      <th>Churn</th>\n",
       "    </tr>\n",
       "  </thead>\n",
       "  <tbody>\n",
       "    <tr>\n",
       "      <th>0</th>\n",
       "      <td>15677338</td>\n",
       "      <td>619</td>\n",
       "      <td>Ярославль</td>\n",
       "      <td>Ж</td>\n",
       "      <td>42</td>\n",
       "      <td>2</td>\n",
       "      <td>NaN</td>\n",
       "      <td>1</td>\n",
       "      <td>1</td>\n",
       "      <td>1</td>\n",
       "      <td>101348.88</td>\n",
       "      <td>1</td>\n",
       "    </tr>\n",
       "    <tr>\n",
       "      <th>1</th>\n",
       "      <td>15690047</td>\n",
       "      <td>608</td>\n",
       "      <td>Рыбинск</td>\n",
       "      <td>Ж</td>\n",
       "      <td>41</td>\n",
       "      <td>1</td>\n",
       "      <td>83807.86</td>\n",
       "      <td>1</td>\n",
       "      <td>0</td>\n",
       "      <td>1</td>\n",
       "      <td>112542.58</td>\n",
       "      <td>0</td>\n",
       "    </tr>\n",
       "    <tr>\n",
       "      <th>2</th>\n",
       "      <td>15662040</td>\n",
       "      <td>502</td>\n",
       "      <td>Ярославль</td>\n",
       "      <td>Ж</td>\n",
       "      <td>42</td>\n",
       "      <td>8</td>\n",
       "      <td>159660.80</td>\n",
       "      <td>3</td>\n",
       "      <td>1</td>\n",
       "      <td>0</td>\n",
       "      <td>113931.57</td>\n",
       "      <td>1</td>\n",
       "    </tr>\n",
       "    <tr>\n",
       "      <th>3</th>\n",
       "      <td>15744090</td>\n",
       "      <td>699</td>\n",
       "      <td>Ярославль</td>\n",
       "      <td>Ж</td>\n",
       "      <td>39</td>\n",
       "      <td>1</td>\n",
       "      <td>NaN</td>\n",
       "      <td>2</td>\n",
       "      <td>0</td>\n",
       "      <td>0</td>\n",
       "      <td>93826.63</td>\n",
       "      <td>0</td>\n",
       "    </tr>\n",
       "    <tr>\n",
       "      <th>4</th>\n",
       "      <td>15780624</td>\n",
       "      <td>850</td>\n",
       "      <td>Рыбинск</td>\n",
       "      <td>Ж</td>\n",
       "      <td>43</td>\n",
       "      <td>2</td>\n",
       "      <td>125510.82</td>\n",
       "      <td>1</td>\n",
       "      <td>1</td>\n",
       "      <td>1</td>\n",
       "      <td>79084.10</td>\n",
       "      <td>0</td>\n",
       "    </tr>\n",
       "  </tbody>\n",
       "</table>\n",
       "</div>"
      ],
      "text/plain": [
       "     userid  score       City Gender  Age  Objects    Balance  Products  \\\n",
       "0  15677338    619  Ярославль      Ж   42        2        NaN         1   \n",
       "1  15690047    608    Рыбинск      Ж   41        1   83807.86         1   \n",
       "2  15662040    502  Ярославль      Ж   42        8  159660.80         3   \n",
       "3  15744090    699  Ярославль      Ж   39        1        NaN         2   \n",
       "4  15780624    850    Рыбинск      Ж   43        2  125510.82         1   \n",
       "\n",
       "   CreditCard  Loyalty  estimated_salary  Churn  \n",
       "0           1        1         101348.88      1  \n",
       "1           0        1         112542.58      0  \n",
       "2           1        0         113931.57      1  \n",
       "3           0        0          93826.63      0  \n",
       "4           1        1          79084.10      0  "
      ]
     },
     "execution_count": 2,
     "metadata": {},
     "output_type": "execute_result"
    }
   ],
   "source": [
    "# загрузим данные\n",
    "df = pd.read_csv('/datasets/bank_dataset.csv')\n",
    "df.head()"
   ]
  },
  {
   "cell_type": "code",
   "execution_count": 3,
   "metadata": {},
   "outputs": [],
   "source": [
    "# приведем названия столбцов к нижнему регистру\n",
    "df.columns = df.columns.str.lower()"
   ]
  },
  {
   "cell_type": "code",
   "execution_count": 4,
   "metadata": {
    "scrolled": false
   },
   "outputs": [
    {
     "name": "stdout",
     "output_type": "stream",
     "text": [
      "<class 'pandas.core.frame.DataFrame'>\n",
      "RangeIndex: 10000 entries, 0 to 9999\n",
      "Data columns (total 12 columns):\n",
      " #   Column            Non-Null Count  Dtype  \n",
      "---  ------            --------------  -----  \n",
      " 0   userid            10000 non-null  int64  \n",
      " 1   score             10000 non-null  int64  \n",
      " 2   city              10000 non-null  object \n",
      " 3   gender            10000 non-null  object \n",
      " 4   age               10000 non-null  int64  \n",
      " 5   objects           10000 non-null  int64  \n",
      " 6   balance           6383 non-null   float64\n",
      " 7   products          10000 non-null  int64  \n",
      " 8   creditcard        10000 non-null  int64  \n",
      " 9   loyalty           10000 non-null  int64  \n",
      " 10  estimated_salary  10000 non-null  float64\n",
      " 11  churn             10000 non-null  int64  \n",
      "dtypes: float64(2), int64(8), object(2)\n",
      "memory usage: 937.6+ KB\n"
     ]
    }
   ],
   "source": [
    "# общая информация\n",
    "df.info()"
   ]
  },
  {
   "cell_type": "code",
   "execution_count": 5,
   "metadata": {
    "scrolled": true
   },
   "outputs": [
    {
     "data": {
      "text/plain": [
       "Ярославль         5014\n",
       "Ростов Великий    2509\n",
       "Рыбинск           2477\n",
       "Name: city, dtype: int64"
      ]
     },
     "execution_count": 5,
     "metadata": {},
     "output_type": "execute_result"
    }
   ],
   "source": [
    "# проверим столбец с городом\n",
    "df['city'].value_counts()"
   ]
  },
  {
   "cell_type": "code",
   "execution_count": 6,
   "metadata": {},
   "outputs": [
    {
     "data": {
      "text/html": [
       "<div>\n",
       "<style scoped>\n",
       "    .dataframe tbody tr th:only-of-type {\n",
       "        vertical-align: middle;\n",
       "    }\n",
       "\n",
       "    .dataframe tbody tr th {\n",
       "        vertical-align: top;\n",
       "    }\n",
       "\n",
       "    .dataframe thead th {\n",
       "        text-align: right;\n",
       "    }\n",
       "</style>\n",
       "<table border=\"1\" class=\"dataframe\">\n",
       "  <thead>\n",
       "    <tr style=\"text-align: right;\">\n",
       "      <th></th>\n",
       "      <th>count</th>\n",
       "      <th>mean</th>\n",
       "      <th>std</th>\n",
       "      <th>min</th>\n",
       "      <th>25%</th>\n",
       "      <th>50%</th>\n",
       "      <th>75%</th>\n",
       "      <th>max</th>\n",
       "    </tr>\n",
       "  </thead>\n",
       "  <tbody>\n",
       "    <tr>\n",
       "      <th>userid</th>\n",
       "      <td>10000.0</td>\n",
       "      <td>1.573368e+07</td>\n",
       "      <td>71936.186123</td>\n",
       "      <td>15608437.00</td>\n",
       "      <td>1.567126e+07</td>\n",
       "      <td>1.573347e+07</td>\n",
       "      <td>1.579597e+07</td>\n",
       "      <td>15858426.00</td>\n",
       "    </tr>\n",
       "    <tr>\n",
       "      <th>score</th>\n",
       "      <td>10000.0</td>\n",
       "      <td>6.505288e+02</td>\n",
       "      <td>96.653299</td>\n",
       "      <td>350.00</td>\n",
       "      <td>5.840000e+02</td>\n",
       "      <td>6.520000e+02</td>\n",
       "      <td>7.180000e+02</td>\n",
       "      <td>850.00</td>\n",
       "    </tr>\n",
       "    <tr>\n",
       "      <th>age</th>\n",
       "      <td>10000.0</td>\n",
       "      <td>3.892180e+01</td>\n",
       "      <td>10.487806</td>\n",
       "      <td>18.00</td>\n",
       "      <td>3.200000e+01</td>\n",
       "      <td>3.700000e+01</td>\n",
       "      <td>4.400000e+01</td>\n",
       "      <td>92.00</td>\n",
       "    </tr>\n",
       "    <tr>\n",
       "      <th>objects</th>\n",
       "      <td>10000.0</td>\n",
       "      <td>5.012800e+00</td>\n",
       "      <td>2.892174</td>\n",
       "      <td>0.00</td>\n",
       "      <td>3.000000e+00</td>\n",
       "      <td>5.000000e+00</td>\n",
       "      <td>7.000000e+00</td>\n",
       "      <td>10.00</td>\n",
       "    </tr>\n",
       "    <tr>\n",
       "      <th>balance</th>\n",
       "      <td>6383.0</td>\n",
       "      <td>1.198275e+05</td>\n",
       "      <td>30095.056462</td>\n",
       "      <td>3768.69</td>\n",
       "      <td>1.001820e+05</td>\n",
       "      <td>1.198397e+05</td>\n",
       "      <td>1.395123e+05</td>\n",
       "      <td>250898.09</td>\n",
       "    </tr>\n",
       "    <tr>\n",
       "      <th>products</th>\n",
       "      <td>10000.0</td>\n",
       "      <td>1.530200e+00</td>\n",
       "      <td>0.581654</td>\n",
       "      <td>1.00</td>\n",
       "      <td>1.000000e+00</td>\n",
       "      <td>1.000000e+00</td>\n",
       "      <td>2.000000e+00</td>\n",
       "      <td>4.00</td>\n",
       "    </tr>\n",
       "    <tr>\n",
       "      <th>creditcard</th>\n",
       "      <td>10000.0</td>\n",
       "      <td>7.055000e-01</td>\n",
       "      <td>0.455840</td>\n",
       "      <td>0.00</td>\n",
       "      <td>0.000000e+00</td>\n",
       "      <td>1.000000e+00</td>\n",
       "      <td>1.000000e+00</td>\n",
       "      <td>1.00</td>\n",
       "    </tr>\n",
       "    <tr>\n",
       "      <th>loyalty</th>\n",
       "      <td>10000.0</td>\n",
       "      <td>5.151000e-01</td>\n",
       "      <td>0.499797</td>\n",
       "      <td>0.00</td>\n",
       "      <td>0.000000e+00</td>\n",
       "      <td>1.000000e+00</td>\n",
       "      <td>1.000000e+00</td>\n",
       "      <td>1.00</td>\n",
       "    </tr>\n",
       "    <tr>\n",
       "      <th>estimated_salary</th>\n",
       "      <td>10000.0</td>\n",
       "      <td>1.000902e+05</td>\n",
       "      <td>57510.492818</td>\n",
       "      <td>11.58</td>\n",
       "      <td>5.100211e+04</td>\n",
       "      <td>1.001939e+05</td>\n",
       "      <td>1.493882e+05</td>\n",
       "      <td>199992.48</td>\n",
       "    </tr>\n",
       "    <tr>\n",
       "      <th>churn</th>\n",
       "      <td>10000.0</td>\n",
       "      <td>2.037000e-01</td>\n",
       "      <td>0.402769</td>\n",
       "      <td>0.00</td>\n",
       "      <td>0.000000e+00</td>\n",
       "      <td>0.000000e+00</td>\n",
       "      <td>0.000000e+00</td>\n",
       "      <td>1.00</td>\n",
       "    </tr>\n",
       "  </tbody>\n",
       "</table>\n",
       "</div>"
      ],
      "text/plain": [
       "                    count          mean           std          min  \\\n",
       "userid            10000.0  1.573368e+07  71936.186123  15608437.00   \n",
       "score             10000.0  6.505288e+02     96.653299       350.00   \n",
       "age               10000.0  3.892180e+01     10.487806        18.00   \n",
       "objects           10000.0  5.012800e+00      2.892174         0.00   \n",
       "balance            6383.0  1.198275e+05  30095.056462      3768.69   \n",
       "products          10000.0  1.530200e+00      0.581654         1.00   \n",
       "creditcard        10000.0  7.055000e-01      0.455840         0.00   \n",
       "loyalty           10000.0  5.151000e-01      0.499797         0.00   \n",
       "estimated_salary  10000.0  1.000902e+05  57510.492818        11.58   \n",
       "churn             10000.0  2.037000e-01      0.402769         0.00   \n",
       "\n",
       "                           25%           50%           75%          max  \n",
       "userid            1.567126e+07  1.573347e+07  1.579597e+07  15858426.00  \n",
       "score             5.840000e+02  6.520000e+02  7.180000e+02       850.00  \n",
       "age               3.200000e+01  3.700000e+01  4.400000e+01        92.00  \n",
       "objects           3.000000e+00  5.000000e+00  7.000000e+00        10.00  \n",
       "balance           1.001820e+05  1.198397e+05  1.395123e+05    250898.09  \n",
       "products          1.000000e+00  1.000000e+00  2.000000e+00         4.00  \n",
       "creditcard        0.000000e+00  1.000000e+00  1.000000e+00         1.00  \n",
       "loyalty           0.000000e+00  1.000000e+00  1.000000e+00         1.00  \n",
       "estimated_salary  5.100211e+04  1.001939e+05  1.493882e+05    199992.48  \n",
       "churn             0.000000e+00  0.000000e+00  0.000000e+00         1.00  "
      ]
     },
     "execution_count": 6,
     "metadata": {},
     "output_type": "execute_result"
    }
   ],
   "source": [
    "df.describe().T"
   ]
  },
  {
   "cell_type": "code",
   "execution_count": 7,
   "metadata": {
    "scrolled": true
   },
   "outputs": [
    {
     "data": {
      "text/html": [
       "<div>\n",
       "<style scoped>\n",
       "    .dataframe tbody tr th:only-of-type {\n",
       "        vertical-align: middle;\n",
       "    }\n",
       "\n",
       "    .dataframe tbody tr th {\n",
       "        vertical-align: top;\n",
       "    }\n",
       "\n",
       "    .dataframe thead th {\n",
       "        text-align: right;\n",
       "    }\n",
       "</style>\n",
       "<table border=\"1\" class=\"dataframe\">\n",
       "  <thead>\n",
       "    <tr style=\"text-align: right;\">\n",
       "      <th></th>\n",
       "      <th>userid</th>\n",
       "      <th>score</th>\n",
       "      <th>city</th>\n",
       "      <th>gender</th>\n",
       "      <th>age</th>\n",
       "      <th>objects</th>\n",
       "      <th>balance</th>\n",
       "      <th>products</th>\n",
       "      <th>creditcard</th>\n",
       "      <th>loyalty</th>\n",
       "      <th>estimated_salary</th>\n",
       "      <th>churn</th>\n",
       "    </tr>\n",
       "  </thead>\n",
       "  <tbody>\n",
       "    <tr>\n",
       "      <th>0</th>\n",
       "      <td>15677338</td>\n",
       "      <td>619</td>\n",
       "      <td>Ярославль</td>\n",
       "      <td>Ж</td>\n",
       "      <td>42</td>\n",
       "      <td>2</td>\n",
       "      <td>NaN</td>\n",
       "      <td>1</td>\n",
       "      <td>1</td>\n",
       "      <td>1</td>\n",
       "      <td>101348.88</td>\n",
       "      <td>1</td>\n",
       "    </tr>\n",
       "    <tr>\n",
       "      <th>3</th>\n",
       "      <td>15744090</td>\n",
       "      <td>699</td>\n",
       "      <td>Ярославль</td>\n",
       "      <td>Ж</td>\n",
       "      <td>39</td>\n",
       "      <td>1</td>\n",
       "      <td>NaN</td>\n",
       "      <td>2</td>\n",
       "      <td>0</td>\n",
       "      <td>0</td>\n",
       "      <td>93826.63</td>\n",
       "      <td>0</td>\n",
       "    </tr>\n",
       "    <tr>\n",
       "      <th>6</th>\n",
       "      <td>15635267</td>\n",
       "      <td>822</td>\n",
       "      <td>Ярославль</td>\n",
       "      <td>М</td>\n",
       "      <td>50</td>\n",
       "      <td>7</td>\n",
       "      <td>NaN</td>\n",
       "      <td>2</td>\n",
       "      <td>1</td>\n",
       "      <td>1</td>\n",
       "      <td>10062.80</td>\n",
       "      <td>0</td>\n",
       "    </tr>\n",
       "    <tr>\n",
       "      <th>11</th>\n",
       "      <td>15779909</td>\n",
       "      <td>497</td>\n",
       "      <td>Рыбинск</td>\n",
       "      <td>М</td>\n",
       "      <td>24</td>\n",
       "      <td>3</td>\n",
       "      <td>NaN</td>\n",
       "      <td>2</td>\n",
       "      <td>1</td>\n",
       "      <td>0</td>\n",
       "      <td>76390.01</td>\n",
       "      <td>0</td>\n",
       "    </tr>\n",
       "    <tr>\n",
       "      <th>12</th>\n",
       "      <td>15675000</td>\n",
       "      <td>476</td>\n",
       "      <td>Ярославль</td>\n",
       "      <td>Ж</td>\n",
       "      <td>34</td>\n",
       "      <td>10</td>\n",
       "      <td>NaN</td>\n",
       "      <td>2</td>\n",
       "      <td>1</td>\n",
       "      <td>0</td>\n",
       "      <td>26260.98</td>\n",
       "      <td>0</td>\n",
       "    </tr>\n",
       "    <tr>\n",
       "      <th>13</th>\n",
       "      <td>15734219</td>\n",
       "      <td>549</td>\n",
       "      <td>Ярославль</td>\n",
       "      <td>Ж</td>\n",
       "      <td>25</td>\n",
       "      <td>5</td>\n",
       "      <td>NaN</td>\n",
       "      <td>2</td>\n",
       "      <td>0</td>\n",
       "      <td>0</td>\n",
       "      <td>190857.79</td>\n",
       "      <td>0</td>\n",
       "    </tr>\n",
       "    <tr>\n",
       "      <th>14</th>\n",
       "      <td>15643618</td>\n",
       "      <td>635</td>\n",
       "      <td>Рыбинск</td>\n",
       "      <td>Ж</td>\n",
       "      <td>35</td>\n",
       "      <td>7</td>\n",
       "      <td>NaN</td>\n",
       "      <td>2</td>\n",
       "      <td>1</td>\n",
       "      <td>1</td>\n",
       "      <td>65951.65</td>\n",
       "      <td>0</td>\n",
       "    </tr>\n",
       "    <tr>\n",
       "      <th>17</th>\n",
       "      <td>15830954</td>\n",
       "      <td>549</td>\n",
       "      <td>Рыбинск</td>\n",
       "      <td>Ж</td>\n",
       "      <td>24</td>\n",
       "      <td>9</td>\n",
       "      <td>NaN</td>\n",
       "      <td>2</td>\n",
       "      <td>1</td>\n",
       "      <td>1</td>\n",
       "      <td>14406.41</td>\n",
       "      <td>0</td>\n",
       "    </tr>\n",
       "    <tr>\n",
       "      <th>18</th>\n",
       "      <td>15704243</td>\n",
       "      <td>587</td>\n",
       "      <td>Рыбинск</td>\n",
       "      <td>М</td>\n",
       "      <td>45</td>\n",
       "      <td>6</td>\n",
       "      <td>NaN</td>\n",
       "      <td>1</td>\n",
       "      <td>0</td>\n",
       "      <td>0</td>\n",
       "      <td>158684.81</td>\n",
       "      <td>0</td>\n",
       "    </tr>\n",
       "    <tr>\n",
       "      <th>19</th>\n",
       "      <td>15611718</td>\n",
       "      <td>726</td>\n",
       "      <td>Ярославль</td>\n",
       "      <td>Ж</td>\n",
       "      <td>24</td>\n",
       "      <td>6</td>\n",
       "      <td>NaN</td>\n",
       "      <td>2</td>\n",
       "      <td>1</td>\n",
       "      <td>1</td>\n",
       "      <td>54724.03</td>\n",
       "      <td>0</td>\n",
       "    </tr>\n",
       "  </tbody>\n",
       "</table>\n",
       "</div>"
      ],
      "text/plain": [
       "      userid  score       city gender  age  objects  balance  products  \\\n",
       "0   15677338    619  Ярославль      Ж   42        2      NaN         1   \n",
       "3   15744090    699  Ярославль      Ж   39        1      NaN         2   \n",
       "6   15635267    822  Ярославль      М   50        7      NaN         2   \n",
       "11  15779909    497    Рыбинск      М   24        3      NaN         2   \n",
       "12  15675000    476  Ярославль      Ж   34       10      NaN         2   \n",
       "13  15734219    549  Ярославль      Ж   25        5      NaN         2   \n",
       "14  15643618    635    Рыбинск      Ж   35        7      NaN         2   \n",
       "17  15830954    549    Рыбинск      Ж   24        9      NaN         2   \n",
       "18  15704243    587    Рыбинск      М   45        6      NaN         1   \n",
       "19  15611718    726  Ярославль      Ж   24        6      NaN         2   \n",
       "\n",
       "    creditcard  loyalty  estimated_salary  churn  \n",
       "0            1        1         101348.88      1  \n",
       "3            0        0          93826.63      0  \n",
       "6            1        1          10062.80      0  \n",
       "11           1        0          76390.01      0  \n",
       "12           1        0          26260.98      0  \n",
       "13           0        0         190857.79      0  \n",
       "14           1        1          65951.65      0  \n",
       "17           1        1          14406.41      0  \n",
       "18           0        0         158684.81      0  \n",
       "19           1        1          54724.03      0  "
      ]
     },
     "execution_count": 7,
     "metadata": {},
     "output_type": "execute_result"
    }
   ],
   "source": [
    "# проверим пропуски\n",
    "df_null = df[df['balance'].isnull()]\n",
    "df_null.head(10)"
   ]
  },
  {
   "cell_type": "code",
   "execution_count": 8,
   "metadata": {},
   "outputs": [
    {
     "data": {
      "text/plain": [
       "Ярославль    2418\n",
       "Рыбинск      1199\n",
       "Name: city, dtype: int64"
      ]
     },
     "execution_count": 8,
     "metadata": {},
     "output_type": "execute_result"
    }
   ],
   "source": [
    "# проверим в каких городах есть пропуски\n",
    "df_null['city'].value_counts()"
   ]
  },
  {
   "cell_type": "code",
   "execution_count": 9,
   "metadata": {},
   "outputs": [
    {
     "data": {
      "text/html": [
       "<style  type=\"text/css\" >\n",
       "</style><table id=\"T_23087_\" ><thead>    <tr>        <th class=\"index_name level0\" >balance</th>        <th class=\"col_heading level0 col0\" >False</th>        <th class=\"col_heading level0 col1\" >True</th>    </tr></thead><tbody>\n",
       "                <tr>\n",
       "                        <th id=\"T_23087_level0_row0\" class=\"row_heading level0 row0\" >score</th>\n",
       "                        <td id=\"T_23087_row0_col0\" class=\"data row0 col0\" >651.1</td>\n",
       "                        <td id=\"T_23087_row0_col1\" class=\"data row0 col1\" >649.5</td>\n",
       "            </tr>\n",
       "            <tr>\n",
       "                        <th id=\"T_23087_level0_row1\" class=\"row_heading level0 row1\" >gender</th>\n",
       "                        <td id=\"T_23087_row1_col0\" class=\"data row1 col0\" >0.5</td>\n",
       "                        <td id=\"T_23087_row1_col1\" class=\"data row1 col1\" >0.5</td>\n",
       "            </tr>\n",
       "            <tr>\n",
       "                        <th id=\"T_23087_level0_row2\" class=\"row_heading level0 row2\" >age</th>\n",
       "                        <td id=\"T_23087_row2_col0\" class=\"data row2 col0\" >39.2</td>\n",
       "                        <td id=\"T_23087_row2_col1\" class=\"data row2 col1\" >38.4</td>\n",
       "            </tr>\n",
       "            <tr>\n",
       "                        <th id=\"T_23087_level0_row3\" class=\"row_heading level0 row3\" >objects</th>\n",
       "                        <td id=\"T_23087_row3_col0\" class=\"data row3 col0\" >5.0</td>\n",
       "                        <td id=\"T_23087_row3_col1\" class=\"data row3 col1\" >5.1</td>\n",
       "            </tr>\n",
       "            <tr>\n",
       "                        <th id=\"T_23087_level0_row4\" class=\"row_heading level0 row4\" >balance</th>\n",
       "                        <td id=\"T_23087_row4_col0\" class=\"data row4 col0\" >119827.5</td>\n",
       "                        <td id=\"T_23087_row4_col1\" class=\"data row4 col1\" >nan</td>\n",
       "            </tr>\n",
       "            <tr>\n",
       "                        <th id=\"T_23087_level0_row5\" class=\"row_heading level0 row5\" >products</th>\n",
       "                        <td id=\"T_23087_row5_col0\" class=\"data row5 col0\" >1.4</td>\n",
       "                        <td id=\"T_23087_row5_col1\" class=\"data row5 col1\" >1.8</td>\n",
       "            </tr>\n",
       "            <tr>\n",
       "                        <th id=\"T_23087_level0_row6\" class=\"row_heading level0 row6\" >creditcard</th>\n",
       "                        <td id=\"T_23087_row6_col0\" class=\"data row6 col0\" >0.7</td>\n",
       "                        <td id=\"T_23087_row6_col1\" class=\"data row6 col1\" >0.7</td>\n",
       "            </tr>\n",
       "            <tr>\n",
       "                        <th id=\"T_23087_level0_row7\" class=\"row_heading level0 row7\" >loyalty</th>\n",
       "                        <td id=\"T_23087_row7_col0\" class=\"data row7 col0\" >0.5</td>\n",
       "                        <td id=\"T_23087_row7_col1\" class=\"data row7 col1\" >0.5</td>\n",
       "            </tr>\n",
       "            <tr>\n",
       "                        <th id=\"T_23087_level0_row8\" class=\"row_heading level0 row8\" >estimated_salary</th>\n",
       "                        <td id=\"T_23087_row8_col0\" class=\"data row8 col0\" >100717.4</td>\n",
       "                        <td id=\"T_23087_row8_col1\" class=\"data row8 col1\" >98983.6</td>\n",
       "            </tr>\n",
       "            <tr>\n",
       "                        <th id=\"T_23087_level0_row9\" class=\"row_heading level0 row9\" >churn</th>\n",
       "                        <td id=\"T_23087_row9_col0\" class=\"data row9 col0\" >0.2</td>\n",
       "                        <td id=\"T_23087_row9_col1\" class=\"data row9 col1\" >0.1</td>\n",
       "            </tr>\n",
       "            <tr>\n",
       "                        <th id=\"T_23087_level0_row10\" class=\"row_heading level0 row10\" >city_Ростов Великий</th>\n",
       "                        <td id=\"T_23087_row10_col0\" class=\"data row10 col0\" >0.4</td>\n",
       "                        <td id=\"T_23087_row10_col1\" class=\"data row10 col1\" >0.0</td>\n",
       "            </tr>\n",
       "            <tr>\n",
       "                        <th id=\"T_23087_level0_row11\" class=\"row_heading level0 row11\" >city_Рыбинск</th>\n",
       "                        <td id=\"T_23087_row11_col0\" class=\"data row11 col0\" >0.2</td>\n",
       "                        <td id=\"T_23087_row11_col1\" class=\"data row11 col1\" >0.3</td>\n",
       "            </tr>\n",
       "            <tr>\n",
       "                        <th id=\"T_23087_level0_row12\" class=\"row_heading level0 row12\" >city_Ярославль</th>\n",
       "                        <td id=\"T_23087_row12_col0\" class=\"data row12 col0\" >0.4</td>\n",
       "                        <td id=\"T_23087_row12_col1\" class=\"data row12 col1\" >0.7</td>\n",
       "            </tr>\n",
       "    </tbody></table>"
      ],
      "text/plain": [
       "<pandas.io.formats.style.Styler at 0x7f7228873190>"
      ]
     },
     "execution_count": 9,
     "metadata": {},
     "output_type": "execute_result"
    }
   ],
   "source": [
    "### КОД РЕВЬЮЕРА\n",
    "pd.get_dummies(df.assign(gender=(df.gender == \"М\")*1)).drop(\"userid\",axis=1)\\\n",
    "    .groupby(df.balance.isna()).agg('mean').T\\\n",
    "    .style.format(\"{:.1f}\")"
   ]
  },
  {
   "cell_type": "code",
   "execution_count": 11,
   "metadata": {},
   "outputs": [
    {
     "data": {
      "text/plain": [
       "0"
      ]
     },
     "execution_count": 11,
     "metadata": {},
     "output_type": "execute_result"
    }
   ],
   "source": [
    "# проверим дубликаты\n",
    "df.duplicated().sum()"
   ]
  },
  {
   "cell_type": "code",
   "execution_count": 12,
   "metadata": {},
   "outputs": [
    {
     "data": {
      "text/plain": [
       "10000"
      ]
     },
     "execution_count": 12,
     "metadata": {},
     "output_type": "execute_result"
    }
   ],
   "source": [
    "# проверим уникальность клиентов\n",
    "len(df['userid'].unique())"
   ]
  },
  {
   "cell_type": "code",
   "execution_count": 13,
   "metadata": {},
   "outputs": [],
   "source": [
    "# удалим столбец с индификатором пользователя\n",
    "df = df.drop(['userid'], axis=1)"
   ]
  },
  {
   "cell_type": "code",
   "execution_count": 14,
   "metadata": {},
   "outputs": [
    {
     "data": {
      "text/html": [
       "<div>\n",
       "<style scoped>\n",
       "    .dataframe tbody tr th:only-of-type {\n",
       "        vertical-align: middle;\n",
       "    }\n",
       "\n",
       "    .dataframe tbody tr th {\n",
       "        vertical-align: top;\n",
       "    }\n",
       "\n",
       "    .dataframe thead th {\n",
       "        text-align: right;\n",
       "    }\n",
       "</style>\n",
       "<table border=\"1\" class=\"dataframe\">\n",
       "  <thead>\n",
       "    <tr style=\"text-align: right;\">\n",
       "      <th></th>\n",
       "      <th>score</th>\n",
       "      <th>city</th>\n",
       "      <th>gender</th>\n",
       "      <th>age</th>\n",
       "      <th>objects</th>\n",
       "      <th>balance</th>\n",
       "      <th>products</th>\n",
       "      <th>creditcard</th>\n",
       "      <th>loyalty</th>\n",
       "      <th>estimated_salary</th>\n",
       "      <th>churn</th>\n",
       "      <th>city_Ростов Великий</th>\n",
       "      <th>city_Рыбинск</th>\n",
       "      <th>city_Ярославль</th>\n",
       "      <th>gender_Ж</th>\n",
       "      <th>gender_М</th>\n",
       "    </tr>\n",
       "  </thead>\n",
       "  <tbody>\n",
       "    <tr>\n",
       "      <th>0</th>\n",
       "      <td>619</td>\n",
       "      <td>Ярославль</td>\n",
       "      <td>Ж</td>\n",
       "      <td>42</td>\n",
       "      <td>2</td>\n",
       "      <td>NaN</td>\n",
       "      <td>1</td>\n",
       "      <td>1</td>\n",
       "      <td>1</td>\n",
       "      <td>101348.88</td>\n",
       "      <td>1</td>\n",
       "      <td>0</td>\n",
       "      <td>0</td>\n",
       "      <td>1</td>\n",
       "      <td>1</td>\n",
       "      <td>0</td>\n",
       "    </tr>\n",
       "    <tr>\n",
       "      <th>1</th>\n",
       "      <td>608</td>\n",
       "      <td>Рыбинск</td>\n",
       "      <td>Ж</td>\n",
       "      <td>41</td>\n",
       "      <td>1</td>\n",
       "      <td>83807.86</td>\n",
       "      <td>1</td>\n",
       "      <td>0</td>\n",
       "      <td>1</td>\n",
       "      <td>112542.58</td>\n",
       "      <td>0</td>\n",
       "      <td>0</td>\n",
       "      <td>1</td>\n",
       "      <td>0</td>\n",
       "      <td>1</td>\n",
       "      <td>0</td>\n",
       "    </tr>\n",
       "    <tr>\n",
       "      <th>2</th>\n",
       "      <td>502</td>\n",
       "      <td>Ярославль</td>\n",
       "      <td>Ж</td>\n",
       "      <td>42</td>\n",
       "      <td>8</td>\n",
       "      <td>159660.80</td>\n",
       "      <td>3</td>\n",
       "      <td>1</td>\n",
       "      <td>0</td>\n",
       "      <td>113931.57</td>\n",
       "      <td>1</td>\n",
       "      <td>0</td>\n",
       "      <td>0</td>\n",
       "      <td>1</td>\n",
       "      <td>1</td>\n",
       "      <td>0</td>\n",
       "    </tr>\n",
       "    <tr>\n",
       "      <th>3</th>\n",
       "      <td>699</td>\n",
       "      <td>Ярославль</td>\n",
       "      <td>Ж</td>\n",
       "      <td>39</td>\n",
       "      <td>1</td>\n",
       "      <td>NaN</td>\n",
       "      <td>2</td>\n",
       "      <td>0</td>\n",
       "      <td>0</td>\n",
       "      <td>93826.63</td>\n",
       "      <td>0</td>\n",
       "      <td>0</td>\n",
       "      <td>0</td>\n",
       "      <td>1</td>\n",
       "      <td>1</td>\n",
       "      <td>0</td>\n",
       "    </tr>\n",
       "    <tr>\n",
       "      <th>4</th>\n",
       "      <td>850</td>\n",
       "      <td>Рыбинск</td>\n",
       "      <td>Ж</td>\n",
       "      <td>43</td>\n",
       "      <td>2</td>\n",
       "      <td>125510.82</td>\n",
       "      <td>1</td>\n",
       "      <td>1</td>\n",
       "      <td>1</td>\n",
       "      <td>79084.10</td>\n",
       "      <td>0</td>\n",
       "      <td>0</td>\n",
       "      <td>1</td>\n",
       "      <td>0</td>\n",
       "      <td>1</td>\n",
       "      <td>0</td>\n",
       "    </tr>\n",
       "    <tr>\n",
       "      <th>...</th>\n",
       "      <td>...</td>\n",
       "      <td>...</td>\n",
       "      <td>...</td>\n",
       "      <td>...</td>\n",
       "      <td>...</td>\n",
       "      <td>...</td>\n",
       "      <td>...</td>\n",
       "      <td>...</td>\n",
       "      <td>...</td>\n",
       "      <td>...</td>\n",
       "      <td>...</td>\n",
       "      <td>...</td>\n",
       "      <td>...</td>\n",
       "      <td>...</td>\n",
       "      <td>...</td>\n",
       "      <td>...</td>\n",
       "    </tr>\n",
       "    <tr>\n",
       "      <th>9995</th>\n",
       "      <td>771</td>\n",
       "      <td>Ярославль</td>\n",
       "      <td>М</td>\n",
       "      <td>39</td>\n",
       "      <td>5</td>\n",
       "      <td>NaN</td>\n",
       "      <td>2</td>\n",
       "      <td>1</td>\n",
       "      <td>0</td>\n",
       "      <td>96270.64</td>\n",
       "      <td>0</td>\n",
       "      <td>0</td>\n",
       "      <td>0</td>\n",
       "      <td>1</td>\n",
       "      <td>0</td>\n",
       "      <td>1</td>\n",
       "    </tr>\n",
       "    <tr>\n",
       "      <th>9996</th>\n",
       "      <td>516</td>\n",
       "      <td>Ярославль</td>\n",
       "      <td>М</td>\n",
       "      <td>35</td>\n",
       "      <td>10</td>\n",
       "      <td>57369.61</td>\n",
       "      <td>1</td>\n",
       "      <td>1</td>\n",
       "      <td>1</td>\n",
       "      <td>101699.77</td>\n",
       "      <td>0</td>\n",
       "      <td>0</td>\n",
       "      <td>0</td>\n",
       "      <td>1</td>\n",
       "      <td>0</td>\n",
       "      <td>1</td>\n",
       "    </tr>\n",
       "    <tr>\n",
       "      <th>9997</th>\n",
       "      <td>709</td>\n",
       "      <td>Ярославль</td>\n",
       "      <td>Ж</td>\n",
       "      <td>36</td>\n",
       "      <td>7</td>\n",
       "      <td>NaN</td>\n",
       "      <td>1</td>\n",
       "      <td>0</td>\n",
       "      <td>1</td>\n",
       "      <td>42085.58</td>\n",
       "      <td>1</td>\n",
       "      <td>0</td>\n",
       "      <td>0</td>\n",
       "      <td>1</td>\n",
       "      <td>1</td>\n",
       "      <td>0</td>\n",
       "    </tr>\n",
       "    <tr>\n",
       "      <th>9998</th>\n",
       "      <td>772</td>\n",
       "      <td>Ростов Великий</td>\n",
       "      <td>М</td>\n",
       "      <td>42</td>\n",
       "      <td>3</td>\n",
       "      <td>75075.31</td>\n",
       "      <td>2</td>\n",
       "      <td>1</td>\n",
       "      <td>0</td>\n",
       "      <td>92888.52</td>\n",
       "      <td>1</td>\n",
       "      <td>1</td>\n",
       "      <td>0</td>\n",
       "      <td>0</td>\n",
       "      <td>0</td>\n",
       "      <td>1</td>\n",
       "    </tr>\n",
       "    <tr>\n",
       "      <th>9999</th>\n",
       "      <td>792</td>\n",
       "      <td>Ярославль</td>\n",
       "      <td>Ж</td>\n",
       "      <td>28</td>\n",
       "      <td>4</td>\n",
       "      <td>130142.79</td>\n",
       "      <td>1</td>\n",
       "      <td>1</td>\n",
       "      <td>0</td>\n",
       "      <td>38190.78</td>\n",
       "      <td>0</td>\n",
       "      <td>0</td>\n",
       "      <td>0</td>\n",
       "      <td>1</td>\n",
       "      <td>1</td>\n",
       "      <td>0</td>\n",
       "    </tr>\n",
       "  </tbody>\n",
       "</table>\n",
       "<p>10000 rows × 16 columns</p>\n",
       "</div>"
      ],
      "text/plain": [
       "      score            city gender  age  objects    balance  products  \\\n",
       "0       619       Ярославль      Ж   42        2        NaN         1   \n",
       "1       608         Рыбинск      Ж   41        1   83807.86         1   \n",
       "2       502       Ярославль      Ж   42        8  159660.80         3   \n",
       "3       699       Ярославль      Ж   39        1        NaN         2   \n",
       "4       850         Рыбинск      Ж   43        2  125510.82         1   \n",
       "...     ...             ...    ...  ...      ...        ...       ...   \n",
       "9995    771       Ярославль      М   39        5        NaN         2   \n",
       "9996    516       Ярославль      М   35       10   57369.61         1   \n",
       "9997    709       Ярославль      Ж   36        7        NaN         1   \n",
       "9998    772  Ростов Великий      М   42        3   75075.31         2   \n",
       "9999    792       Ярославль      Ж   28        4  130142.79         1   \n",
       "\n",
       "      creditcard  loyalty  estimated_salary  churn  city_Ростов Великий  \\\n",
       "0              1        1         101348.88      1                    0   \n",
       "1              0        1         112542.58      0                    0   \n",
       "2              1        0         113931.57      1                    0   \n",
       "3              0        0          93826.63      0                    0   \n",
       "4              1        1          79084.10      0                    0   \n",
       "...          ...      ...               ...    ...                  ...   \n",
       "9995           1        0          96270.64      0                    0   \n",
       "9996           1        1         101699.77      0                    0   \n",
       "9997           0        1          42085.58      1                    0   \n",
       "9998           1        0          92888.52      1                    1   \n",
       "9999           1        0          38190.78      0                    0   \n",
       "\n",
       "      city_Рыбинск  city_Ярославль  gender_Ж  gender_М  \n",
       "0                0               1         1         0  \n",
       "1                1               0         1         0  \n",
       "2                0               1         1         0  \n",
       "3                0               1         1         0  \n",
       "4                1               0         1         0  \n",
       "...            ...             ...       ...       ...  \n",
       "9995             0               1         0         1  \n",
       "9996             0               1         0         1  \n",
       "9997             0               1         1         0  \n",
       "9998             0               0         0         1  \n",
       "9999             0               1         1         0  \n",
       "\n",
       "[10000 rows x 16 columns]"
      ]
     },
     "execution_count": 14,
     "metadata": {},
     "output_type": "execute_result"
    }
   ],
   "source": [
    "df['city_index'] = df['city']\n",
    "df['gender_index'] = df['gender']\n",
    "df = pd.get_dummies(df, columns=[\"city_index\", \"gender_index\"], prefix=[\"city\", \"gender\"])\n",
    "df"
   ]
  },
  {
   "cell_type": "markdown",
   "metadata": {},
   "source": [
    "### Вывод\n",
    "\n",
    "Мы загрузили и предварительно ознакомились с данными о клиентах банка. Отрицательных значений нет, все клиенты совершеннолетние. Город проживания клиентов соответствует заданию. \n",
    "\n",
    "Столбцы были приведены к нижнему регистру. Дубликаты в данных отсутствуют. В столбце с балансом счета есть пропущенные значения. Причина может быть как технической неполадкой, так и пропуски могут быть связаны с нулевым балансом счета. Отдельно стоит отметить что у клиентов их Ростова Великого нет пропущенных значений в отличии от Ярославля и Рыбинска.\n",
    "\n",
    "Был удален столбец с индификаторами пользователей для коректного отображения графиков. Можно перейти к анализу."
   ]
  },
  {
   "cell_type": "markdown",
   "metadata": {},
   "source": [
    "## Исследовательский анализ данных"
   ]
  },
  {
   "cell_type": "code",
   "execution_count": 15,
   "metadata": {
    "scrolled": true
   },
   "outputs": [
    {
     "data": {
      "text/html": [
       "<div>\n",
       "<style scoped>\n",
       "    .dataframe tbody tr th:only-of-type {\n",
       "        vertical-align: middle;\n",
       "    }\n",
       "\n",
       "    .dataframe tbody tr th {\n",
       "        vertical-align: top;\n",
       "    }\n",
       "\n",
       "    .dataframe thead th {\n",
       "        text-align: right;\n",
       "    }\n",
       "</style>\n",
       "<table border=\"1\" class=\"dataframe\">\n",
       "  <thead>\n",
       "    <tr style=\"text-align: right;\">\n",
       "      <th></th>\n",
       "      <th>churn</th>\n",
       "      <th>score</th>\n",
       "      <th>age</th>\n",
       "      <th>objects</th>\n",
       "      <th>balance</th>\n",
       "      <th>products</th>\n",
       "      <th>creditcard</th>\n",
       "      <th>loyalty</th>\n",
       "      <th>estimated_salary</th>\n",
       "      <th>city_Ростов Великий</th>\n",
       "      <th>city_Рыбинск</th>\n",
       "      <th>city_Ярославль</th>\n",
       "      <th>gender_Ж</th>\n",
       "      <th>gender_М</th>\n",
       "    </tr>\n",
       "  </thead>\n",
       "  <tbody>\n",
       "    <tr>\n",
       "      <th>0</th>\n",
       "      <td>0</td>\n",
       "      <td>651.853196</td>\n",
       "      <td>37.408389</td>\n",
       "      <td>5.033279</td>\n",
       "      <td>119535.864270</td>\n",
       "      <td>1.544267</td>\n",
       "      <td>0.707146</td>\n",
       "      <td>0.554565</td>\n",
       "      <td>99738.391772</td>\n",
       "      <td>0.212859</td>\n",
       "      <td>0.259199</td>\n",
       "      <td>0.527942</td>\n",
       "      <td>0.427477</td>\n",
       "      <td>0.572523</td>\n",
       "    </tr>\n",
       "    <tr>\n",
       "      <th>1</th>\n",
       "      <td>1</td>\n",
       "      <td>645.351497</td>\n",
       "      <td>44.837997</td>\n",
       "      <td>4.932744</td>\n",
       "      <td>120746.971132</td>\n",
       "      <td>1.475209</td>\n",
       "      <td>0.699067</td>\n",
       "      <td>0.360825</td>\n",
       "      <td>101465.677531</td>\n",
       "      <td>0.399607</td>\n",
       "      <td>0.202749</td>\n",
       "      <td>0.397644</td>\n",
       "      <td>0.559156</td>\n",
       "      <td>0.440844</td>\n",
       "    </tr>\n",
       "  </tbody>\n",
       "</table>\n",
       "</div>"
      ],
      "text/plain": [
       "   churn       score        age   objects        balance  products  \\\n",
       "0      0  651.853196  37.408389  5.033279  119535.864270  1.544267   \n",
       "1      1  645.351497  44.837997  4.932744  120746.971132  1.475209   \n",
       "\n",
       "   creditcard   loyalty  estimated_salary  city_Ростов Великий  city_Рыбинск  \\\n",
       "0    0.707146  0.554565      99738.391772             0.212859      0.259199   \n",
       "1    0.699067  0.360825     101465.677531             0.399607      0.202749   \n",
       "\n",
       "   city_Ярославль  gender_Ж  gender_М  \n",
       "0        0.527942  0.427477  0.572523  \n",
       "1        0.397644  0.559156  0.440844  "
      ]
     },
     "execution_count": 15,
     "metadata": {},
     "output_type": "execute_result"
    }
   ],
   "source": [
    "# посмотрим на средние значения признаков в двух группах — тех, кто ушел в отток и тех, кто остался\n",
    "df.groupby('churn').mean().reset_index()"
   ]
  },
  {
   "cell_type": "code",
   "execution_count": 16,
   "metadata": {},
   "outputs": [
    {
     "data": {
      "image/png": "[encoded data removed]",
      "text/plain": [
       "<Figure size 432x288 with 1 Axes>"
      ]
     },
     "metadata": {
      "needs_background": "light"
     },
     "output_type": "display_data"
    },
    {
     "data": {
      "image/png": "[encoded data removed]",
      "text/plain": [
       "<Figure size 432x288 with 1 Axes>"
      ]
     },
     "metadata": {
      "needs_background": "light"
     },
     "output_type": "display_data"
    },
    {
     "data": {
      "image/png": "[encoded data removed]",
      "text/plain": [
       "<Figure size 432x288 with 1 Axes>"
      ]
     },
     "metadata": {
      "needs_background": "light"
     },
     "output_type": "display_data"
    },
    {
     "data": {
      "image/png": "[encoded data removed]",
      "text/plain": [
       "<Figure size 432x288 with 1 Axes>"
      ]
     },
     "metadata": {
      "needs_background": "light"
     },
     "output_type": "display_data"
    },
    {
     "data": {
      "image/png": "[encoded data removed]",
      "text/plain": [
       "<Figure size 432x288 with 1 Axes>"
      ]
     },
     "metadata": {
      "needs_background": "light"
     },
     "output_type": "display_data"
    },
    {
     "data": {
      "image/png": "[encoded data removed]",
      "text/plain": [
       "<Figure size 432x288 with 1 Axes>"
      ]
     },
     "metadata": {
      "needs_background": "light"
     },
     "output_type": "display_data"
    },
    {
     "data": {
      "image/png": "[encoded data removed]",
      "text/plain": [
       "<Figure size 432x288 with 1 Axes>"
      ]
     },
     "metadata": {
      "needs_background": "light"
     },
     "output_type": "display_data"
    },
    {
     "data": {
      "image/png": "[encoded data removed]",
      "text/plain": [
       "<Figure size 432x288 with 1 Axes>"
      ]
     },
     "metadata": {
      "needs_background": "light"
     },
     "output_type": "display_data"
    },
    {
     "data": {
      "image/png": "[encoded data removed]",
      "text/plain": [
       "<Figure size 432x288 with 1 Axes>"
      ]
     },
     "metadata": {
      "needs_background": "light"
     },
     "output_type": "display_data"
    },
    {
     "data": {
      "image/png": "[encoded data removed]",
      "text/plain": [
       "<Figure size 432x288 with 1 Axes>"
      ]
     },
     "metadata": {
      "needs_background": "light"
     },
     "output_type": "display_data"
    },
    {
     "data": {
      "image/png": "[encoded data removed]",
      "text/plain": [
       "<Figure size 432x288 with 1 Axes>"
      ]
     },
     "metadata": {
      "needs_background": "light"
     },
     "output_type": "display_data"
    },
    {
     "data": {
      "image/png": "[encoded data removed]",
      "text/plain": [
       "<Figure size 432x288 with 1 Axes>"
      ]
     },
     "metadata": {
      "needs_background": "light"
     },
     "output_type": "display_data"
    },
    {
     "data": {
      "image/png": "[encoded data removed]",
      "text/plain": [
       "<Figure size 432x288 with 1 Axes>"
      ]
     },
     "metadata": {
      "needs_background": "light"
     },
     "output_type": "display_data"
    },
    {
     "data": {
      "image/png": "[encoded data removed]",
      "text/plain": [
       "<Figure size 432x288 with 1 Axes>"
      ]
     },
     "metadata": {
      "needs_background": "light"
     },
     "output_type": "display_data"
    },
    {
     "data": {
      "image/png": "[encoded data removed]",
      "text/plain": [
       "<Figure size 432x288 with 1 Axes>"
      ]
     },
     "metadata": {
      "needs_background": "light"
     },
     "output_type": "display_data"
    }
   ],
   "source": [
    "# построим столбчатые гистограммы и распределения признаков\n",
    "# для тех, кто ушёл (отток) и тех, кто остался (не попали в отток)\n",
    "for i in df.drop('churn', axis=1).columns:\n",
    "    df.query('churn == 0')[i].hist(label='Оставшиеся', grid=False, density=True, alpha=0.5)\n",
    "    df.query('churn == 1')[i].hist(label='Ушедшие', grid=False, density=True, alpha=0.3, color='purple')\n",
    "    plt.title('Гистограмма распределения признаков')\n",
    "    plt.xlabel(i)\n",
    "    plt.ylabel('Плотность распределения')\n",
    "    plt.legend()\n",
    "    plt.show()"
   ]
  },
  {
   "cell_type": "code",
   "execution_count": 17,
   "metadata": {},
   "outputs": [
    {
     "data": {
      "image/png": "[encoded data removed]",
      "text/plain": [
       "<Figure size 864x720 with 2 Axes>"
      ]
     },
     "metadata": {
      "needs_background": "light"
     },
     "output_type": "display_data"
    }
   ],
   "source": [
    "# построим матрицу корреляций и отобразим её\n",
    "df_corr = df.corr()\n",
    "fig, ax = plt.subplots(figsize=(12,10))\n",
    "sns.heatmap(df_corr, annot=True, square=True, cmap='vlag', fmt='.2g', vmin=-1, vmax=1, center= 0)\n",
    "plt.title('Матрица корреляций', fontsize = 10)\n",
    "plt.show()"
   ]
  },
  {
   "cell_type": "code",
   "execution_count": 18,
   "metadata": {},
   "outputs": [
    {
     "data": {
      "image/png": "[encoded data removed]",
      "text/plain": [
       "<Figure size 360x720 with 2 Axes>"
      ]
     },
     "metadata": {
      "needs_background": "light"
     },
     "output_type": "display_data"
    }
   ],
   "source": [
    "fig, ax = plt.subplots(figsize=(5,10))\n",
    "sns.heatmap(df_corr.loc[:,['churn']].drop('churn').sort_values('churn'\n",
    "                                                              ), annot=True, square=True, cmap='vlag', fmt='.2g', center= 0)\n",
    "plt.title('Матрица корреляций')\n",
    "plt.show()"
   ]
  },
  {
   "cell_type": "code",
   "execution_count": 19,
   "metadata": {},
   "outputs": [
    {
     "data": {
      "text/html": [
       "<div>\n",
       "<style scoped>\n",
       "    .dataframe tbody tr th:only-of-type {\n",
       "        vertical-align: middle;\n",
       "    }\n",
       "\n",
       "    .dataframe tbody tr th {\n",
       "        vertical-align: top;\n",
       "    }\n",
       "\n",
       "    .dataframe thead th {\n",
       "        text-align: right;\n",
       "    }\n",
       "</style>\n",
       "<table border=\"1\" class=\"dataframe\">\n",
       "  <thead>\n",
       "    <tr style=\"text-align: right;\">\n",
       "      <th></th>\n",
       "      <th>churn</th>\n",
       "      <th>score</th>\n",
       "      <th>age</th>\n",
       "      <th>objects</th>\n",
       "      <th>balance</th>\n",
       "      <th>products</th>\n",
       "      <th>creditcard</th>\n",
       "      <th>loyalty</th>\n",
       "      <th>estimated_salary</th>\n",
       "      <th>city_Ростов Великий</th>\n",
       "      <th>city_Рыбинск</th>\n",
       "      <th>city_Ярославль</th>\n",
       "      <th>gender_Ж</th>\n",
       "      <th>gender_М</th>\n",
       "    </tr>\n",
       "  </thead>\n",
       "  <tbody>\n",
       "    <tr>\n",
       "      <th>0</th>\n",
       "      <td>0</td>\n",
       "      <td>653</td>\n",
       "      <td>36</td>\n",
       "      <td>5</td>\n",
       "      <td>119791.215</td>\n",
       "      <td>2</td>\n",
       "      <td>1</td>\n",
       "      <td>1</td>\n",
       "      <td>99645.04</td>\n",
       "      <td>0</td>\n",
       "      <td>0</td>\n",
       "      <td>1</td>\n",
       "      <td>0</td>\n",
       "      <td>1</td>\n",
       "    </tr>\n",
       "    <tr>\n",
       "      <th>1</th>\n",
       "      <td>1</td>\n",
       "      <td>646</td>\n",
       "      <td>45</td>\n",
       "      <td>5</td>\n",
       "      <td>119948.090</td>\n",
       "      <td>1</td>\n",
       "      <td>1</td>\n",
       "      <td>0</td>\n",
       "      <td>102460.84</td>\n",
       "      <td>0</td>\n",
       "      <td>0</td>\n",
       "      <td>0</td>\n",
       "      <td>1</td>\n",
       "      <td>0</td>\n",
       "    </tr>\n",
       "  </tbody>\n",
       "</table>\n",
       "</div>"
      ],
      "text/plain": [
       "   churn  score  age  objects     balance  products  creditcard  loyalty  \\\n",
       "0      0    653   36        5  119791.215         2           1        1   \n",
       "1      1    646   45        5  119948.090         1           1        0   \n",
       "\n",
       "   estimated_salary  city_Ростов Великий  city_Рыбинск  city_Ярославль  \\\n",
       "0          99645.04                    0             0               1   \n",
       "1         102460.84                    0             0               0   \n",
       "\n",
       "   gender_Ж  gender_М  \n",
       "0         0         1  \n",
       "1         1         0  "
      ]
     },
     "execution_count": 19,
     "metadata": {},
     "output_type": "execute_result"
    }
   ],
   "source": [
    "df.groupby('churn').median().reset_index()"
   ]
  },
  {
   "cell_type": "markdown",
   "metadata": {},
   "source": [
    "### Вывод\n",
    " \n",
    "Самая большая зависимость оттока от возраста клиента и в меньшей степени от активности, пола и места жительства. Эти показатели стратегически связаны с оттоком\n",
    "\n",
    "Портрет отточного клиента:\n",
    "\n",
    "* Средний возраст отточного клиента 45 лет. Клиенты от в возрасте от 40 до 65 лет наиболее склонны уходить в отток. \n",
    "* В среднем у таких клиентов 1 продукт.\n",
    "* В Ростове Великом наибольший процент оттока\n",
    "* Женщины чаще уходят, чем мужчины\n",
    "* Отточные клиенты менее активны\n",
    "* Реже пользуются кредитными картами, чем неотточные\n",
    "\n",
    "Портрет неотточного клиента:\n",
    "\n",
    "* Средний возраст отточного клиента 36 лет. Клиенты в возрасте от 20 до 40 лет не склонны уходить в отток.\n",
    "* В среднем у таких клиентов 2 продукта\n",
    "* В Ярославле и Рыбинске наибольший процент неотточных клиентов\n",
    "* Мужчины уходят реже\n",
    "* Активные клиенты не склонны к оттоку\n",
    "\n",
    "У отточных клиентов средняя заработная плата и баланс счета выше, чем у неооточных, а балы кредитного скоринга чуть ниже."
   ]
  },
  {
   "cell_type": "markdown",
   "metadata": {},
   "source": [
    "## Сегментация пользователей на основе данных о количестве потребляемых продуктов"
   ]
  },
  {
   "cell_type": "code",
   "execution_count": 20,
   "metadata": {},
   "outputs": [
    {
     "data": {
      "image/png": "[encoded data removed]",
      "text/plain": [
       "<Figure size 432x288 with 1 Axes>"
      ]
     },
     "metadata": {
      "needs_background": "light"
     },
     "output_type": "display_data"
    }
   ],
   "source": [
    "# построим гистограмму распределения клиентов по количеству потребляемых продуктов\n",
    "df['products'].value_counts().plot(\n",
    "    kind='bar')\n",
    "plt.title('Распределение клиентов по количеству потребляемых продуктов')\n",
    "plt.xlabel('Количество потребляемых продуктов')\n",
    "plt.ylabel('Количество клиентов')\n",
    "plt.show()"
   ]
  },
  {
   "cell_type": "code",
   "execution_count": 21,
   "metadata": {},
   "outputs": [
    {
     "data": {
      "image/png": "[encoded data removed]",
      "text/plain": [
       "<Figure size 1080x504 with 1 Axes>"
      ]
     },
     "metadata": {
      "needs_background": "light"
     },
     "output_type": "display_data"
    }
   ],
   "source": [
    "# проверим как распределяются клиенты по городам\n",
    "df.pivot_table(\n",
    "    index='products', columns = 'city', values='churn', aggfunc='count'\n",
    ").plot(kind='bar', figsize=(15, 7), width=0.8)\n",
    "plt.title('Распределение клиентов по количеству продуктов и городам')\n",
    "plt.xlabel('Количество продуктов')\n",
    "plt.ylabel('Количество клиентов')\n",
    "plt.show()"
   ]
  },
  {
   "cell_type": "code",
   "execution_count": 22,
   "metadata": {
    "scrolled": false
   },
   "outputs": [
    {
     "data": {
      "text/html": [
       "<div>\n",
       "<style scoped>\n",
       "    .dataframe tbody tr th:only-of-type {\n",
       "        vertical-align: middle;\n",
       "    }\n",
       "\n",
       "    .dataframe tbody tr th {\n",
       "        vertical-align: top;\n",
       "    }\n",
       "\n",
       "    .dataframe thead th {\n",
       "        text-align: right;\n",
       "    }\n",
       "</style>\n",
       "<table border=\"1\" class=\"dataframe\">\n",
       "  <thead>\n",
       "    <tr style=\"text-align: right;\">\n",
       "      <th></th>\n",
       "      <th>score</th>\n",
       "      <th>age</th>\n",
       "      <th>objects</th>\n",
       "      <th>balance</th>\n",
       "      <th>creditcard</th>\n",
       "      <th>loyalty</th>\n",
       "      <th>estimated_salary</th>\n",
       "      <th>churn</th>\n",
       "      <th>city_Ростов Великий</th>\n",
       "      <th>city_Рыбинск</th>\n",
       "      <th>city_Ярославль</th>\n",
       "      <th>gender_Ж</th>\n",
       "      <th>gender_М</th>\n",
       "    </tr>\n",
       "    <tr>\n",
       "      <th>products</th>\n",
       "      <th></th>\n",
       "      <th></th>\n",
       "      <th></th>\n",
       "      <th></th>\n",
       "      <th></th>\n",
       "      <th></th>\n",
       "      <th></th>\n",
       "      <th></th>\n",
       "      <th></th>\n",
       "      <th></th>\n",
       "      <th></th>\n",
       "      <th></th>\n",
       "      <th></th>\n",
       "    </tr>\n",
       "  </thead>\n",
       "  <tbody>\n",
       "    <tr>\n",
       "      <th>1</th>\n",
       "      <td>649.120968</td>\n",
       "      <td>39.673092</td>\n",
       "      <td>4.974626</td>\n",
       "      <td>119894.163723</td>\n",
       "      <td>0.703777</td>\n",
       "      <td>0.504131</td>\n",
       "      <td>99487.256851</td>\n",
       "      <td>0.277144</td>\n",
       "      <td>0.265342</td>\n",
       "      <td>0.240165</td>\n",
       "      <td>0.494493</td>\n",
       "      <td>0.451613</td>\n",
       "      <td>0.548387</td>\n",
       "    </tr>\n",
       "    <tr>\n",
       "      <th>2</th>\n",
       "      <td>652.188671</td>\n",
       "      <td>37.753595</td>\n",
       "      <td>5.051852</td>\n",
       "      <td>119660.944362</td>\n",
       "      <td>0.707190</td>\n",
       "      <td>0.532898</td>\n",
       "      <td>100452.012821</td>\n",
       "      <td>0.075817</td>\n",
       "      <td>0.226580</td>\n",
       "      <td>0.257734</td>\n",
       "      <td>0.515686</td>\n",
       "      <td>0.448802</td>\n",
       "      <td>0.551198</td>\n",
       "    </tr>\n",
       "    <tr>\n",
       "      <th>3</th>\n",
       "      <td>648.105263</td>\n",
       "      <td>43.195489</td>\n",
       "      <td>5.003759</td>\n",
       "      <td>119475.686310</td>\n",
       "      <td>0.714286</td>\n",
       "      <td>0.424812</td>\n",
       "      <td>104318.130564</td>\n",
       "      <td>0.827068</td>\n",
       "      <td>0.360902</td>\n",
       "      <td>0.248120</td>\n",
       "      <td>0.390977</td>\n",
       "      <td>0.560150</td>\n",
       "      <td>0.439850</td>\n",
       "    </tr>\n",
       "    <tr>\n",
       "      <th>4</th>\n",
       "      <td>653.583333</td>\n",
       "      <td>45.683333</td>\n",
       "      <td>5.300000</td>\n",
       "      <td>122260.610870</td>\n",
       "      <td>0.683333</td>\n",
       "      <td>0.483333</td>\n",
       "      <td>104763.723333</td>\n",
       "      <td>1.000000</td>\n",
       "      <td>0.400000</td>\n",
       "      <td>0.116667</td>\n",
       "      <td>0.483333</td>\n",
       "      <td>0.633333</td>\n",
       "      <td>0.366667</td>\n",
       "    </tr>\n",
       "  </tbody>\n",
       "</table>\n",
       "</div>"
      ],
      "text/plain": [
       "               score        age   objects        balance  creditcard  \\\n",
       "products                                                               \n",
       "1         649.120968  39.673092  4.974626  119894.163723    0.703777   \n",
       "2         652.188671  37.753595  5.051852  119660.944362    0.707190   \n",
       "3         648.105263  43.195489  5.003759  119475.686310    0.714286   \n",
       "4         653.583333  45.683333  5.300000  122260.610870    0.683333   \n",
       "\n",
       "           loyalty  estimated_salary     churn  city_Ростов Великий  \\\n",
       "products                                                              \n",
       "1         0.504131      99487.256851  0.277144             0.265342   \n",
       "2         0.532898     100452.012821  0.075817             0.226580   \n",
       "3         0.424812     104318.130564  0.827068             0.360902   \n",
       "4         0.483333     104763.723333  1.000000             0.400000   \n",
       "\n",
       "          city_Рыбинск  city_Ярославль  gender_Ж  gender_М  \n",
       "products                                                    \n",
       "1             0.240165        0.494493  0.451613  0.548387  \n",
       "2             0.257734        0.515686  0.448802  0.551198  \n",
       "3             0.248120        0.390977  0.560150  0.439850  \n",
       "4             0.116667        0.483333  0.633333  0.366667  "
      ]
     },
     "execution_count": 22,
     "metadata": {},
     "output_type": "execute_result"
    }
   ],
   "source": [
    "# сгруппируем клиентов по количеству потребляемых продуктов и посмотрим на средние значения признаков\n",
    "df.groupby('products').mean()"
   ]
  },
  {
   "cell_type": "code",
   "execution_count": 23,
   "metadata": {},
   "outputs": [
    {
     "data": {
      "text/html": [
       "<style  type=\"text/css\" >\n",
       "</style><table id=\"T_2e8ea_\" ><thead>    <tr>        <th class=\"blank level0\" ></th>        <th class=\"col_heading level0 col0\" >loyalty</th>        <th class=\"col_heading level0 col1\" >churn</th>        <th class=\"col_heading level0 col2\" >age</th>        <th class=\"col_heading level0 col3\" >women</th>        <th class=\"col_heading level0 col4\" >men</th>        <th class=\"col_heading level0 col5\" >Ростов Великий</th>        <th class=\"col_heading level0 col6\" >Рыбинск</th>        <th class=\"col_heading level0 col7\" >Ярославль</th>    </tr></thead><tbody>\n",
       "                <tr>\n",
       "                        <th id=\"T_2e8ea_level0_row0\" class=\"row_heading level0 row0\" >products == 1</th>\n",
       "                        <td id=\"T_2e8ea_row0_col0\" class=\"data row0 col0\" >50.4%</td>\n",
       "                        <td id=\"T_2e8ea_row0_col1\" class=\"data row0 col1\" >27.7%</td>\n",
       "                        <td id=\"T_2e8ea_row0_col2\" class=\"data row0 col2\" >40</td>\n",
       "                        <td id=\"T_2e8ea_row0_col3\" class=\"data row0 col3\" >45.2%</td>\n",
       "                        <td id=\"T_2e8ea_row0_col4\" class=\"data row0 col4\" >54.8%</td>\n",
       "                        <td id=\"T_2e8ea_row0_col5\" class=\"data row0 col5\" >26.5%</td>\n",
       "                        <td id=\"T_2e8ea_row0_col6\" class=\"data row0 col6\" >24.0%</td>\n",
       "                        <td id=\"T_2e8ea_row0_col7\" class=\"data row0 col7\" >49.4%</td>\n",
       "            </tr>\n",
       "    </tbody></table>"
      ],
      "text/plain": [
       "<pandas.io.formats.style.Styler at 0x7f721ff036d0>"
      ]
     },
     "metadata": {},
     "output_type": "display_data"
    },
    {
     "data": {
      "text/html": [
       "<style  type=\"text/css\" >\n",
       "</style><table id=\"T_5dbb6_\" ><thead>    <tr>        <th class=\"blank level0\" ></th>        <th class=\"col_heading level0 col0\" >loyalty</th>        <th class=\"col_heading level0 col1\" >churn</th>        <th class=\"col_heading level0 col2\" >age</th>        <th class=\"col_heading level0 col3\" >women</th>        <th class=\"col_heading level0 col4\" >men</th>        <th class=\"col_heading level0 col5\" >Ростов Великий</th>        <th class=\"col_heading level0 col6\" >Рыбинск</th>        <th class=\"col_heading level0 col7\" >Ярославль</th>    </tr></thead><tbody>\n",
       "                <tr>\n",
       "                        <th id=\"T_5dbb6_level0_row0\" class=\"row_heading level0 row0\" >products == 2</th>\n",
       "                        <td id=\"T_5dbb6_row0_col0\" class=\"data row0 col0\" >53.3%</td>\n",
       "                        <td id=\"T_5dbb6_row0_col1\" class=\"data row0 col1\" >7.6%</td>\n",
       "                        <td id=\"T_5dbb6_row0_col2\" class=\"data row0 col2\" >38</td>\n",
       "                        <td id=\"T_5dbb6_row0_col3\" class=\"data row0 col3\" >44.9%</td>\n",
       "                        <td id=\"T_5dbb6_row0_col4\" class=\"data row0 col4\" >55.1%</td>\n",
       "                        <td id=\"T_5dbb6_row0_col5\" class=\"data row0 col5\" >22.7%</td>\n",
       "                        <td id=\"T_5dbb6_row0_col6\" class=\"data row0 col6\" >25.8%</td>\n",
       "                        <td id=\"T_5dbb6_row0_col7\" class=\"data row0 col7\" >51.6%</td>\n",
       "            </tr>\n",
       "    </tbody></table>"
      ],
      "text/plain": [
       "<pandas.io.formats.style.Styler at 0x7f72203173d0>"
      ]
     },
     "metadata": {},
     "output_type": "display_data"
    },
    {
     "data": {
      "text/html": [
       "<style  type=\"text/css\" >\n",
       "</style><table id=\"T_7cc92_\" ><thead>    <tr>        <th class=\"blank level0\" ></th>        <th class=\"col_heading level0 col0\" >loyalty</th>        <th class=\"col_heading level0 col1\" >churn</th>        <th class=\"col_heading level0 col2\" >age</th>        <th class=\"col_heading level0 col3\" >women</th>        <th class=\"col_heading level0 col4\" >men</th>        <th class=\"col_heading level0 col5\" >Ростов Великий</th>        <th class=\"col_heading level0 col6\" >Рыбинск</th>        <th class=\"col_heading level0 col7\" >Ярославль</th>    </tr></thead><tbody>\n",
       "                <tr>\n",
       "                        <th id=\"T_7cc92_level0_row0\" class=\"row_heading level0 row0\" >products > 2</th>\n",
       "                        <td id=\"T_7cc92_row0_col0\" class=\"data row0 col0\" >43.6%</td>\n",
       "                        <td id=\"T_7cc92_row0_col1\" class=\"data row0 col1\" >85.9%</td>\n",
       "                        <td id=\"T_7cc92_row0_col2\" class=\"data row0 col2\" >44</td>\n",
       "                        <td id=\"T_7cc92_row0_col3\" class=\"data row0 col3\" >57.4%</td>\n",
       "                        <td id=\"T_7cc92_row0_col4\" class=\"data row0 col4\" >42.6%</td>\n",
       "                        <td id=\"T_7cc92_row0_col5\" class=\"data row0 col5\" >36.8%</td>\n",
       "                        <td id=\"T_7cc92_row0_col6\" class=\"data row0 col6\" >22.4%</td>\n",
       "                        <td id=\"T_7cc92_row0_col7\" class=\"data row0 col7\" >40.8%</td>\n",
       "            </tr>\n",
       "    </tbody></table>"
      ],
      "text/plain": [
       "<pandas.io.formats.style.Styler at 0x7f72201eca60>"
      ]
     },
     "metadata": {},
     "output_type": "display_data"
    }
   ],
   "source": [
    "def seg_churn (query):\n",
    "    return df.query(query).agg({\n",
    "        'loyalty':\"mean\",'churn':\"mean\",'age':'mean','gender_Ж':'mean','gender_М':'mean','city_Ростов Великий':'mean','city_Рыбинск':'mean','city_Ярославль':'mean'})\\\n",
    "             .set_axis(['loyalty','churn','age', 'women','men', 'Ростов Великий','Рыбинск', 'Ярославль']).to_frame().T.set_axis([query])\\\n",
    "             .style.format(\n",
    "        {\"loyalty\":\"{:.1%}\",\"churn\":\"{:.1%}\",\"age\":\"{:_.0f}\",\"women\":\"{:.1%}\",\"men\":\"{:.1%}\", \"Ростов Великий\":\"{:.1%}\",\"Рыбинск\":\"{:.1%}\",\"Ярославль\":\"{:.1%}\"})\n",
    "display(seg_churn(\"products == 1\"))\n",
    "display(seg_churn(\"products == 2\"))\n",
    "display(seg_churn(\"products > 2\"))"
   ]
  },
  {
   "cell_type": "markdown",
   "metadata": {},
   "source": [
    "### Вывод\n",
    "\n",
    "Самый оттоный сегмент это клиенты, имеющие более 2 продуктов. Это преимущественно женщины. Средний возраст 44 года. Активность ниже среднего."
   ]
  },
  {
   "cell_type": "code",
   "execution_count": 24,
   "metadata": {},
   "outputs": [
    {
     "data": {
      "text/html": [
       "<style  type=\"text/css\" >\n",
       "</style><table id=\"T_c7534_\" ><thead>    <tr>        <th class=\"blank level0\" ></th>        <th class=\"col_heading level0 col0\" >num</th>        <th class=\"col_heading level0 col1\" >churn</th>        <th class=\"col_heading level0 col2\" >balance</th>        <th class=\"col_heading level0 col3\" >salary</th>    </tr></thead><tbody>\n",
       "                <tr>\n",
       "                        <th id=\"T_c7534_level0_row0\" class=\"row_heading level0 row0\" >products > 2</th>\n",
       "                        <td id=\"T_c7534_row0_col0\" class=\"data row0 col0\" >326</td>\n",
       "                        <td id=\"T_c7534_row0_col1\" class=\"data row0 col1\" >85.9%</td>\n",
       "                        <td id=\"T_c7534_row0_col2\" class=\"data row0 col2\" >120_074</td>\n",
       "                        <td id=\"T_c7534_row0_col3\" class=\"data row0 col3\" >104_400</td>\n",
       "            </tr>\n",
       "    </tbody></table>"
      ],
      "text/plain": [
       "<pandas.io.formats.style.Styler at 0x7f72200b6c40>"
      ]
     },
     "execution_count": 24,
     "metadata": {},
     "output_type": "execute_result"
    }
   ],
   "source": [
    "### КОД РЕВЬЮЕРА\n",
    "def seg_churn (query):\n",
    "    return df.query(query).agg({'score':\"count\",'churn':\"mean\",'balance':'mean','estimated_salary':'mean'})\\\n",
    "             .set_axis(['num','churn','balance','salary']).to_frame().T.set_axis([query])\\\n",
    "             .style.format({\"num\":\"{:.0f}\",\"churn\":\"{:.1%}\",\"balance\":\"{:_.0f}\",\"salary\":\"{:_.0f}\"})\n",
    "seg_churn(\"products > 2\")"
   ]
  },
  {
   "cell_type": "code",
   "execution_count": 25,
   "metadata": {},
   "outputs": [
    {
     "data": {
      "text/html": [
       "<style  type=\"text/css\" >\n",
       "</style><table id=\"T_86f78_\" ><thead>    <tr>        <th class=\"blank level0\" ></th>        <th class=\"col_heading level0 col0\" >num</th>        <th class=\"col_heading level0 col1\" >churn</th>        <th class=\"col_heading level0 col2\" >balance</th>        <th class=\"col_heading level0 col3\" >salary</th>    </tr></thead><tbody>\n",
       "                <tr>\n",
       "                        <th id=\"T_86f78_level0_row0\" class=\"row_heading level0 row0\" >products < 3</th>\n",
       "                        <td id=\"T_86f78_row0_col0\" class=\"data row0 col0\" >9674</td>\n",
       "                        <td id=\"T_86f78_row0_col1\" class=\"data row0 col1\" >18.2%</td>\n",
       "                        <td id=\"T_86f78_row0_col2\" class=\"data row0 col2\" >119_819</td>\n",
       "                        <td id=\"T_86f78_row0_col3\" class=\"data row0 col3\" >99_945</td>\n",
       "            </tr>\n",
       "    </tbody></table>"
      ],
      "text/plain": [
       "<pandas.io.formats.style.Styler at 0x7f72203075b0>"
      ]
     },
     "execution_count": 25,
     "metadata": {},
     "output_type": "execute_result"
    }
   ],
   "source": [
    "### КОММЕТ РЕВЬЮЕРА: Это надо поменять: сформулируй свои запросы, основываясь на свой работе выше и посмотри на результаты\n",
    "\n",
    "seg_churn(\"products < 3\")"
   ]
  },
  {
   "cell_type": "markdown",
   "metadata": {},
   "source": [
    "## Проверка гипотез"
   ]
  },
  {
   "cell_type": "markdown",
   "metadata": {},
   "source": [
    "Для проверки наших гипотез о равенстве мы выбрали t-тест. Мы применили этот метод, т.к. наши генеральные совокупности не зависят друг от друга. Для проверки этим критерием выборочные средние должны быть нормально распределены. Этого нельзя скзать о наших значениях, но это условие не препятствие. Благодаря ЦПТ, если размер выборки составляет хотя бы несколько десятков значений, выборочные средние, которые можно получить из одной и той же генеральной совокупности, будут распределены нормально вокруг истинного среднего этой совокупности. Наши выборки достаточно большие. Дисперсии рассматриваемых генеральных совокупностей должны быть равны. Мы этого не знаем. Укажем параметр equal_var = False"
   ]
  },
  {
   "cell_type": "markdown",
   "metadata": {},
   "source": [
    "### Гипотеза 1"
   ]
  },
  {
   "cell_type": "markdown",
   "metadata": {},
   "source": [
    "**Нулевая гипотеза:** \n",
    "средний доход между теми клиентами, которые пользуются двумя продуктами банка, и теми, которые пользуются одним равен\n",
    "\n",
    "**Альтернативная гипотеза:** \n",
    "средний доход между теми клиентами, которые пользуются двумя продуктами банка, и теми, которые пользуются одним различается"
   ]
  },
  {
   "cell_type": "code",
   "execution_count": 26,
   "metadata": {},
   "outputs": [
    {
     "name": "stdout",
     "output_type": "stream",
     "text": [
      "p-значение: 0.4106493940071987\n",
      "Не получилось отвергнуть нулевую гипотезу\n"
     ]
    }
   ],
   "source": [
    "# проверим гипотезу о равенстве среднего\n",
    "products_1 = df[df['products']==1]['estimated_salary']\n",
    "products_2 = df[df['products']==2]['estimated_salary']\n",
    "\n",
    "alpha = .05 # критический уровень статистической значимости\n",
    "results = st.ttest_ind(\n",
    "    products_1, \n",
    "    products_2,\n",
    "    equal_var = False\n",
    ")\n",
    "\n",
    "print('p-значение:', results.pvalue)\n",
    "\n",
    "if results.pvalue < alpha:\n",
    "    print(\"Отвергаем нулевую гипотезу\")\n",
    "else:\n",
    "    print(\"Не получилось отвергнуть нулевую гипотезу\")"
   ]
  },
  {
   "cell_type": "markdown",
   "metadata": {},
   "source": [
    "### Гипотеза 2"
   ]
  },
  {
   "cell_type": "markdown",
   "metadata": {},
   "source": [
    "**Нулевая гипотеза:** \n",
    "средний доход между теми клиентами, которые пользуются 3-4 продуктами банка, и теми, которые пользуются одним равен\n",
    "\n",
    "**Альтернативная гипотеза:** \n",
    "средний доход между теми клиентами, которые пользуются 3-4 продуктами банка, и теми, которые пользуются одним различается"
   ]
  },
  {
   "cell_type": "code",
   "execution_count": 27,
   "metadata": {},
   "outputs": [
    {
     "name": "stdout",
     "output_type": "stream",
     "text": [
      "p-значение: 0.1245474203443419\n",
      "Не получилось отвергнуть нулевую гипотезу\n"
     ]
    }
   ],
   "source": [
    "# проверим гипотезу о равенстве среднего\n",
    "products_1 = df[df['products']==1]['estimated_salary']\n",
    "products_2 = df[df['products']>2]['estimated_salary']\n",
    "\n",
    "alpha = .05 # критический уровень статистической значимости\n",
    "results = st.ttest_ind(\n",
    "    products_1, \n",
    "    products_2,\n",
    "    equal_var = False\n",
    ")\n",
    "\n",
    "print('p-значение:', results.pvalue)\n",
    "\n",
    "if results.pvalue < alpha:\n",
    "    print(\"Отвергаем нулевую гипотезу\")\n",
    "else:\n",
    "    print(\"Не получилось отвергнуть нулевую гипотезу\")"
   ]
  },
  {
   "cell_type": "markdown",
   "metadata": {},
   "source": [
    "### Вывод\n",
    "При заданом критическом уровне статистической значимости, различия между средними зарплатами в групппах 1-2 и 1-3 отсутствуют."
   ]
  },
  {
   "cell_type": "markdown",
   "metadata": {},
   "source": [
    "## Общий вывод"
   ]
  },
  {
   "cell_type": "markdown",
   "metadata": {},
   "source": [
    "Мы загрузили и предварительно ознакомились с данными о клиентах банка.\n",
    "\n",
    "В столбце с балансом счета есть пропущенные значения. Причина может быть как технической неполадкой, так и пропуски могут быть связаны с нулевым балансом счета. Отдельно стоит отметить что у клиентов их Ростова Великого нет пропущенных значений в отличии от Ярославля и Рыбинска.\n",
    "\n",
    "Самая большая зависимость оттока от возраста клиента и в меньшей степени от активности, пола и места жительства. Эти показатели стратегически связаны с оттоком\n",
    "\n",
    "Портрет отточного клиента:\n",
    "\n",
    "* Средний возраст отточного клиента 45 лет. Клиенты от в возрасте от 40 до 65 лет наиболее склонны уходить в отток. \n",
    "* В среднем у таких клиентов 1 продукт.\n",
    "* В Ростове Великом наибольший процент оттока\n",
    "* Женщины чаще уходят, чем мужчины\n",
    "* Отточные клиенты менее активны\n",
    "* Реже пользуются кредитными картами, чем неотточные\n",
    "\n",
    "Портрет неотточного клиента:\n",
    "\n",
    "* Средний возраст отточного клиента 36 лет. Клиенты в возрасте от 20 до 40 лет не склонны уходить в отток.\n",
    "* В среднем у таких клиентов 2 продукта\n",
    "* В Ярославле и Рыбинске наибольший процент неотточных клиентов\n",
    "* Мужчины уходят реже\n",
    "* Активные клиенты не склонны к оттоку\n",
    "\n",
    "У отточных клиентов средняя заработная плата и баланс счета выше, чем у неооточных, а балы кредитного скоринга чуть ниже.\n",
    "\n",
    "Мы разделили пользователей по количеству продуктов на 3 группы. Самый оттоный сегмент это клиенты, имеющие более 2 продуктов. Это преимущественно женщины. Средний возраст 44 года. Активность ниже среднего.\n",
    "\n",
    "Мы проверили 2 гипотезы о разнице средних зарплат между группами. При заданом критическом уровне статистической значимости, различия между средними зарплатами в групппах 1-2 и 1-3 отсутствуют."
   ]
  },
  {
   "cell_type": "markdown",
   "metadata": {},
   "source": [
    "### Рекомендации"
   ]
  },
  {
   "cell_type": "markdown",
   "metadata": {},
   "source": [
    "Для снижения оттока клиентов можно дать следующие рекомендации:\n",
    "\n",
    "* У группы людей с 3-4 продуктами более высокий доход и самый высокий процент дохода. Скорей всего это клиенты, которые пользуются накопительными счетами. Для разных возрастных групп можно предложить различные условия. Например для пенсионеров - небольшую сумму для открытия вклада. Для работающих людей, которые хотят максимально выгодно вложить свои средства, можно предложить увеличенный процент дохода по вкладам при пролонгации договора.\n",
    "* Предложить кешбек у магазинов-партнеров для увеличения активности клиентов. Для женщин старше 40 лет будут актуальны категории красоты и здоровья.\n",
    "* Жители Ростова не удовлетворены обслуживанием. Стоит провести опрос среди жителей Ростова Великого об уровне удовлетворенности клиентов банковским обслуживанием и провести более подробный анализ"
   ]
  }
 ],
 "metadata": {
  "ExecuteTimeLog": [
   {
    "duration": 376,
    "start_time": "2022-07-19T06:40:15.566Z"
   },
   {
    "duration": 186,
    "start_time": "2022-07-19T06:40:42.895Z"
   },
   {
    "duration": 146,
    "start_time": "2022-07-19T06:46:31.973Z"
   },
   {
    "duration": 65,
    "start_time": "2022-07-19T06:46:43.953Z"
   },
   {
    "duration": 123,
    "start_time": "2022-07-19T06:54:30.300Z"
   },
   {
    "duration": 50,
    "start_time": "2022-07-19T06:54:47.434Z"
   },
   {
    "duration": 77,
    "start_time": "2022-07-19T06:54:51.700Z"
   },
   {
    "duration": 54,
    "start_time": "2022-07-19T06:54:58.032Z"
   },
   {
    "duration": 53,
    "start_time": "2022-07-19T06:55:41.255Z"
   },
   {
    "duration": 54,
    "start_time": "2022-07-19T06:55:49.462Z"
   },
   {
    "duration": 47,
    "start_time": "2022-07-19T06:59:48.079Z"
   },
   {
    "duration": 43,
    "start_time": "2022-07-19T07:00:22.108Z"
   },
   {
    "duration": 55,
    "start_time": "2022-07-19T07:00:56.582Z"
   },
   {
    "duration": 45,
    "start_time": "2022-07-19T07:01:40.269Z"
   },
   {
    "duration": 14,
    "start_time": "2022-07-19T07:02:08.746Z"
   },
   {
    "duration": 37,
    "start_time": "2022-07-19T07:02:42.332Z"
   },
   {
    "duration": 39,
    "start_time": "2022-07-19T07:02:47.035Z"
   },
   {
    "duration": 4,
    "start_time": "2022-07-19T07:18:22.134Z"
   },
   {
    "duration": 3,
    "start_time": "2022-07-19T07:18:30.485Z"
   },
   {
    "duration": 17,
    "start_time": "2022-07-19T07:18:42.432Z"
   },
   {
    "duration": 10,
    "start_time": "2022-07-19T07:19:37.265Z"
   },
   {
    "duration": 18,
    "start_time": "2022-07-19T07:19:43.592Z"
   },
   {
    "duration": 6,
    "start_time": "2022-07-19T07:20:07.563Z"
   },
   {
    "duration": 6,
    "start_time": "2022-07-19T07:20:14.416Z"
   },
   {
    "duration": 4,
    "start_time": "2022-07-19T07:20:25.952Z"
   },
   {
    "duration": 11,
    "start_time": "2022-07-19T07:20:33.635Z"
   },
   {
    "duration": 12,
    "start_time": "2022-07-19T07:20:40.092Z"
   },
   {
    "duration": 14,
    "start_time": "2022-07-19T07:20:45.123Z"
   },
   {
    "duration": 7,
    "start_time": "2022-07-19T07:22:17.352Z"
   },
   {
    "duration": 20,
    "start_time": "2022-07-19T07:22:22.348Z"
   },
   {
    "duration": 42,
    "start_time": "2022-07-19T07:22:31.163Z"
   },
   {
    "duration": 6,
    "start_time": "2022-07-19T07:22:46.833Z"
   },
   {
    "duration": 39,
    "start_time": "2022-07-19T07:22:49.573Z"
   },
   {
    "duration": 12,
    "start_time": "2022-07-19T07:24:35.841Z"
   },
   {
    "duration": 353,
    "start_time": "2022-07-21T06:09:53.117Z"
   },
   {
    "duration": 98,
    "start_time": "2022-07-21T06:09:53.479Z"
   },
   {
    "duration": 3,
    "start_time": "2022-07-21T06:09:53.579Z"
   },
   {
    "duration": 18,
    "start_time": "2022-07-21T06:09:53.584Z"
   },
   {
    "duration": 12,
    "start_time": "2022-07-21T06:09:53.604Z"
   },
   {
    "duration": 5,
    "start_time": "2022-07-21T06:09:53.618Z"
   },
   {
    "duration": 64,
    "start_time": "2022-07-21T06:09:53.624Z"
   },
   {
    "duration": 11,
    "start_time": "2022-07-21T06:12:03.095Z"
   },
   {
    "duration": 5,
    "start_time": "2022-07-21T06:14:24.920Z"
   },
   {
    "duration": 6,
    "start_time": "2022-07-21T06:16:05.105Z"
   },
   {
    "duration": 33,
    "start_time": "2022-07-21T06:16:24.193Z"
   },
   {
    "duration": 5,
    "start_time": "2022-07-21T06:16:29.293Z"
   },
   {
    "duration": 22,
    "start_time": "2022-07-21T06:23:48.661Z"
   },
   {
    "duration": 21,
    "start_time": "2022-07-21T06:24:23.333Z"
   },
   {
    "duration": 671,
    "start_time": "2022-07-21T06:26:14.721Z"
   },
   {
    "duration": 3,
    "start_time": "2022-07-21T06:26:47.911Z"
   },
   {
    "duration": 1864,
    "start_time": "2022-07-21T06:26:57.486Z"
   },
   {
    "duration": 149,
    "start_time": "2022-07-21T06:30:27.363Z"
   },
   {
    "duration": 524,
    "start_time": "2022-07-21T06:31:01.189Z"
   },
   {
    "duration": 803,
    "start_time": "2022-07-21T06:31:09.593Z"
   },
   {
    "duration": 1561,
    "start_time": "2022-07-23T07:47:03.266Z"
   },
   {
    "duration": 161,
    "start_time": "2022-07-23T07:47:04.830Z"
   },
   {
    "duration": 4,
    "start_time": "2022-07-23T07:47:04.993Z"
   },
   {
    "duration": 25,
    "start_time": "2022-07-23T07:47:04.999Z"
   },
   {
    "duration": 20,
    "start_time": "2022-07-23T07:47:05.027Z"
   },
   {
    "duration": 25,
    "start_time": "2022-07-23T07:47:05.050Z"
   },
   {
    "duration": 5,
    "start_time": "2022-07-23T07:47:05.078Z"
   },
   {
    "duration": 28,
    "start_time": "2022-07-23T07:47:05.085Z"
   },
   {
    "duration": 49,
    "start_time": "2022-07-23T07:47:05.115Z"
   },
   {
    "duration": 17,
    "start_time": "2022-07-23T07:47:05.166Z"
   },
   {
    "duration": 2347,
    "start_time": "2022-07-23T07:47:05.209Z"
   },
   {
    "duration": 995,
    "start_time": "2022-07-23T07:47:07.558Z"
   },
   {
    "duration": 17,
    "start_time": "2022-07-23T07:47:33.666Z"
   },
   {
    "duration": 5,
    "start_time": "2022-07-23T07:48:50.599Z"
   },
   {
    "duration": 8,
    "start_time": "2022-07-23T07:48:58.791Z"
   },
   {
    "duration": 111,
    "start_time": "2022-07-23T07:49:36.784Z"
   },
   {
    "duration": 6,
    "start_time": "2022-07-23T07:49:40.576Z"
   },
   {
    "duration": 6,
    "start_time": "2022-07-23T07:49:47.015Z"
   },
   {
    "duration": 19,
    "start_time": "2022-07-23T07:49:56.531Z"
   },
   {
    "duration": 7,
    "start_time": "2022-07-23T07:50:04.217Z"
   },
   {
    "duration": 21,
    "start_time": "2022-07-23T07:50:16.679Z"
   },
   {
    "duration": 20,
    "start_time": "2022-07-23T07:50:29.282Z"
   },
   {
    "duration": 9,
    "start_time": "2022-07-23T07:50:37.172Z"
   },
   {
    "duration": 1295,
    "start_time": "2022-07-23T08:03:34.363Z"
   },
   {
    "duration": 58,
    "start_time": "2022-07-23T08:03:35.660Z"
   },
   {
    "duration": 4,
    "start_time": "2022-07-23T08:03:35.721Z"
   },
   {
    "duration": 29,
    "start_time": "2022-07-23T08:03:35.727Z"
   },
   {
    "duration": 22,
    "start_time": "2022-07-23T08:03:35.760Z"
   },
   {
    "duration": 9,
    "start_time": "2022-07-23T08:03:35.784Z"
   },
   {
    "duration": 16,
    "start_time": "2022-07-23T08:03:35.811Z"
   },
   {
    "duration": 6,
    "start_time": "2022-07-23T08:03:35.829Z"
   },
   {
    "duration": 14,
    "start_time": "2022-07-23T08:03:35.838Z"
   },
   {
    "duration": 18,
    "start_time": "2022-07-23T08:03:35.854Z"
   },
   {
    "duration": 83,
    "start_time": "2022-07-23T08:03:35.874Z"
   },
   {
    "duration": 23,
    "start_time": "2022-07-23T08:03:35.959Z"
   },
   {
    "duration": 2267,
    "start_time": "2022-07-23T08:03:35.984Z"
   },
   {
    "duration": 1030,
    "start_time": "2022-07-23T08:03:38.253Z"
   },
   {
    "duration": 7,
    "start_time": "2022-07-23T08:06:29.877Z"
   },
   {
    "duration": 46,
    "start_time": "2022-07-23T08:07:54.747Z"
   },
   {
    "duration": 56,
    "start_time": "2022-07-23T08:08:42.422Z"
   },
   {
    "duration": 42,
    "start_time": "2022-07-23T08:10:28.761Z"
   },
   {
    "duration": 1275,
    "start_time": "2022-07-23T14:35:54.558Z"
   },
   {
    "duration": 93,
    "start_time": "2022-07-23T14:35:55.835Z"
   },
   {
    "duration": 4,
    "start_time": "2022-07-23T14:35:55.930Z"
   },
   {
    "duration": 22,
    "start_time": "2022-07-23T14:35:55.936Z"
   },
   {
    "duration": 8,
    "start_time": "2022-07-23T14:35:55.961Z"
   },
   {
    "duration": 59,
    "start_time": "2022-07-23T14:35:55.971Z"
   },
   {
    "duration": 17,
    "start_time": "2022-07-23T14:35:56.031Z"
   },
   {
    "duration": 7,
    "start_time": "2022-07-23T14:35:56.050Z"
   },
   {
    "duration": 17,
    "start_time": "2022-07-23T14:35:56.059Z"
   },
   {
    "duration": 6,
    "start_time": "2022-07-23T14:35:56.078Z"
   },
   {
    "duration": 38,
    "start_time": "2022-07-23T14:35:56.086Z"
   },
   {
    "duration": 15,
    "start_time": "2022-07-23T14:35:56.126Z"
   },
   {
    "duration": 1994,
    "start_time": "2022-07-23T14:35:56.142Z"
   },
   {
    "duration": 903,
    "start_time": "2022-07-23T14:35:58.139Z"
   },
   {
    "duration": 52404,
    "start_time": "2022-07-23T14:36:45.391Z"
   },
   {
    "duration": 1864,
    "start_time": "2022-07-23T14:37:53.699Z"
   },
   {
    "duration": 0,
    "start_time": "2022-07-23T14:40:41.012Z"
   },
   {
    "duration": 2044,
    "start_time": "2022-07-23T14:40:47.648Z"
   },
   {
    "duration": 157,
    "start_time": "2022-07-23T14:41:53.073Z"
   },
   {
    "duration": 178,
    "start_time": "2022-07-23T14:42:35.803Z"
   },
   {
    "duration": 92146,
    "start_time": "2022-07-23T14:43:08.283Z"
   },
   {
    "duration": 1851,
    "start_time": "2022-07-23T14:45:42.320Z"
   },
   {
    "duration": 1932,
    "start_time": "2022-07-23T14:46:13.906Z"
   },
   {
    "duration": 1967,
    "start_time": "2022-07-23T14:46:42.144Z"
   },
   {
    "duration": 50,
    "start_time": "2022-07-23T16:14:08.975Z"
   },
   {
    "duration": 16,
    "start_time": "2022-07-23T16:14:35.071Z"
   },
   {
    "duration": 1129,
    "start_time": "2022-07-23T16:16:22.883Z"
   },
   {
    "duration": 51,
    "start_time": "2022-07-23T16:16:24.014Z"
   },
   {
    "duration": 4,
    "start_time": "2022-07-23T16:16:24.066Z"
   },
   {
    "duration": 35,
    "start_time": "2022-07-23T16:16:24.072Z"
   },
   {
    "duration": 17,
    "start_time": "2022-07-23T16:16:24.109Z"
   },
   {
    "duration": 58,
    "start_time": "2022-07-23T16:16:24.128Z"
   },
   {
    "duration": 14,
    "start_time": "2022-07-23T16:16:24.187Z"
   },
   {
    "duration": 8,
    "start_time": "2022-07-23T16:16:24.202Z"
   },
   {
    "duration": 22,
    "start_time": "2022-07-23T16:16:24.211Z"
   },
   {
    "duration": 5,
    "start_time": "2022-07-23T16:16:24.235Z"
   },
   {
    "duration": 5,
    "start_time": "2022-07-23T16:16:24.241Z"
   },
   {
    "duration": 17,
    "start_time": "2022-07-23T16:16:24.248Z"
   },
   {
    "duration": 2034,
    "start_time": "2022-07-23T16:16:24.267Z"
   },
   {
    "duration": 840,
    "start_time": "2022-07-23T16:16:26.302Z"
   },
   {
    "duration": 16,
    "start_time": "2022-07-23T16:16:27.143Z"
   },
   {
    "duration": 0,
    "start_time": "2022-07-23T17:19:31.834Z"
   },
   {
    "duration": 0,
    "start_time": "2022-07-23T17:19:31.835Z"
   },
   {
    "duration": 19,
    "start_time": "2022-07-23T17:19:35.962Z"
   },
   {
    "duration": 199,
    "start_time": "2022-07-23T17:19:42.446Z"
   },
   {
    "duration": 439,
    "start_time": "2022-07-23T17:19:53.081Z"
   },
   {
    "duration": 591,
    "start_time": "2022-07-23T17:20:45.454Z"
   },
   {
    "duration": 595,
    "start_time": "2022-07-23T17:21:29.987Z"
   },
   {
    "duration": 64,
    "start_time": "2022-07-23T17:23:37.188Z"
   },
   {
    "duration": 514,
    "start_time": "2022-07-23T17:23:42.810Z"
   },
   {
    "duration": 394,
    "start_time": "2022-07-23T17:24:49.246Z"
   },
   {
    "duration": 1391,
    "start_time": "2022-07-24T13:36:37.694Z"
   },
   {
    "duration": 104,
    "start_time": "2022-07-24T13:36:39.088Z"
   },
   {
    "duration": 6,
    "start_time": "2022-07-24T13:36:39.194Z"
   },
   {
    "duration": 33,
    "start_time": "2022-07-24T13:36:39.202Z"
   },
   {
    "duration": 17,
    "start_time": "2022-07-24T13:36:39.237Z"
   },
   {
    "duration": 41,
    "start_time": "2022-07-24T13:36:39.257Z"
   },
   {
    "duration": 29,
    "start_time": "2022-07-24T13:36:39.301Z"
   },
   {
    "duration": 8,
    "start_time": "2022-07-24T13:36:39.332Z"
   },
   {
    "duration": 18,
    "start_time": "2022-07-24T13:36:39.341Z"
   },
   {
    "duration": 5,
    "start_time": "2022-07-24T13:36:39.361Z"
   },
   {
    "duration": 5,
    "start_time": "2022-07-24T13:36:39.368Z"
   },
   {
    "duration": 17,
    "start_time": "2022-07-24T13:36:39.375Z"
   },
   {
    "duration": 2135,
    "start_time": "2022-07-24T13:36:39.393Z"
   },
   {
    "duration": 912,
    "start_time": "2022-07-24T13:36:41.530Z"
   },
   {
    "duration": 19,
    "start_time": "2022-07-24T13:36:42.444Z"
   },
   {
    "duration": 23,
    "start_time": "2022-07-24T13:36:42.466Z"
   },
   {
    "duration": 415,
    "start_time": "2022-07-24T13:36:42.491Z"
   },
   {
    "duration": 147,
    "start_time": "2022-07-24T13:36:42.909Z"
   },
   {
    "duration": 5,
    "start_time": "2022-07-24T13:45:22.198Z"
   },
   {
    "duration": 19,
    "start_time": "2022-07-24T13:46:45.385Z"
   },
   {
    "duration": 14,
    "start_time": "2022-07-24T13:47:03.333Z"
   },
   {
    "duration": 12,
    "start_time": "2022-07-24T13:47:20.633Z"
   },
   {
    "duration": 5,
    "start_time": "2022-07-24T13:47:36.440Z"
   },
   {
    "duration": 17,
    "start_time": "2022-07-24T13:47:45.568Z"
   },
   {
    "duration": 7,
    "start_time": "2022-07-24T13:48:22.298Z"
   },
   {
    "duration": 16,
    "start_time": "2022-07-24T13:49:58.802Z"
   },
   {
    "duration": 102,
    "start_time": "2022-07-24T13:55:02.310Z"
   },
   {
    "duration": 128,
    "start_time": "2022-07-24T13:55:16.061Z"
   },
   {
    "duration": 131,
    "start_time": "2022-07-24T13:55:34.798Z"
   },
   {
    "duration": 12,
    "start_time": "2022-07-24T13:55:59.634Z"
   },
   {
    "duration": 125,
    "start_time": "2022-07-24T13:56:15.223Z"
   },
   {
    "duration": 131,
    "start_time": "2022-07-24T13:56:59.749Z"
   },
   {
    "duration": 229,
    "start_time": "2022-07-24T13:57:54.072Z"
   },
   {
    "duration": 126,
    "start_time": "2022-07-24T13:58:01.493Z"
   },
   {
    "duration": 161,
    "start_time": "2022-07-24T13:58:09.313Z"
   },
   {
    "duration": 127,
    "start_time": "2022-07-24T13:58:19.335Z"
   },
   {
    "duration": 121,
    "start_time": "2022-07-24T13:58:29.677Z"
   },
   {
    "duration": 121,
    "start_time": "2022-07-24T14:01:26.737Z"
   },
   {
    "duration": 145,
    "start_time": "2022-07-24T14:01:56.635Z"
   },
   {
    "duration": 139,
    "start_time": "2022-07-24T14:02:33.595Z"
   },
   {
    "duration": 16,
    "start_time": "2022-07-24T14:05:21.714Z"
   },
   {
    "duration": 1800,
    "start_time": "2022-07-25T18:02:18.592Z"
   },
   {
    "duration": 98,
    "start_time": "2022-07-25T18:02:20.395Z"
   },
   {
    "duration": 3,
    "start_time": "2022-07-25T18:02:20.495Z"
   },
   {
    "duration": 39,
    "start_time": "2022-07-25T18:02:20.501Z"
   },
   {
    "duration": 13,
    "start_time": "2022-07-25T18:02:20.544Z"
   },
   {
    "duration": 63,
    "start_time": "2022-07-25T18:02:20.558Z"
   },
   {
    "duration": 20,
    "start_time": "2022-07-25T18:02:20.623Z"
   },
   {
    "duration": 46,
    "start_time": "2022-07-25T18:02:20.646Z"
   },
   {
    "duration": 48,
    "start_time": "2022-07-25T18:02:20.694Z"
   },
   {
    "duration": 8,
    "start_time": "2022-07-25T18:02:20.745Z"
   },
   {
    "duration": 8,
    "start_time": "2022-07-25T18:02:20.755Z"
   },
   {
    "duration": 22,
    "start_time": "2022-07-25T18:02:20.764Z"
   },
   {
    "duration": 2398,
    "start_time": "2022-07-25T18:02:20.788Z"
   },
   {
    "duration": 997,
    "start_time": "2022-07-25T18:02:23.188Z"
   },
   {
    "duration": 20,
    "start_time": "2022-07-25T18:02:24.188Z"
   },
   {
    "duration": 25,
    "start_time": "2022-07-25T18:02:24.210Z"
   },
   {
    "duration": 160,
    "start_time": "2022-07-25T18:02:24.237Z"
   },
   {
    "duration": 57,
    "start_time": "2022-07-25T18:06:07.253Z"
   },
   {
    "duration": 106,
    "start_time": "2022-07-25T18:14:16.915Z"
   },
   {
    "duration": 18,
    "start_time": "2022-07-25T18:14:26.012Z"
   },
   {
    "duration": 11,
    "start_time": "2022-07-25T18:15:41.219Z"
   },
   {
    "duration": 231,
    "start_time": "2022-07-25T18:16:05.452Z"
   },
   {
    "duration": 11,
    "start_time": "2022-07-25T18:17:27.957Z"
   },
   {
    "duration": 255,
    "start_time": "2022-07-25T18:22:54.394Z"
   },
   {
    "duration": 225,
    "start_time": "2022-07-25T18:24:13.884Z"
   },
   {
    "duration": 250,
    "start_time": "2022-07-25T18:44:35.695Z"
   },
   {
    "duration": 227,
    "start_time": "2022-07-25T18:45:07.169Z"
   },
   {
    "duration": 128,
    "start_time": "2022-07-25T18:46:10.664Z"
   },
   {
    "duration": 231,
    "start_time": "2022-07-25T18:46:27.185Z"
   },
   {
    "duration": 26,
    "start_time": "2022-07-25T18:46:42.955Z"
   },
   {
    "duration": 30,
    "start_time": "2022-07-25T18:46:50.614Z"
   },
   {
    "duration": 23,
    "start_time": "2022-07-25T18:47:07.093Z"
   },
   {
    "duration": 14,
    "start_time": "2022-07-25T18:48:15.280Z"
   },
   {
    "duration": 32,
    "start_time": "2022-07-25T18:48:25.722Z"
   },
   {
    "duration": 234,
    "start_time": "2022-07-25T18:48:57.456Z"
   },
   {
    "duration": 407,
    "start_time": "2022-07-25T18:49:18.192Z"
   },
   {
    "duration": 23,
    "start_time": "2022-07-25T18:49:43.368Z"
   },
   {
    "duration": 237,
    "start_time": "2022-07-25T18:50:16.478Z"
   },
   {
    "duration": 1335,
    "start_time": "2022-07-25T18:53:18.655Z"
   },
   {
    "duration": 101,
    "start_time": "2022-07-25T18:53:19.993Z"
   },
   {
    "duration": 3,
    "start_time": "2022-07-25T18:53:20.095Z"
   },
   {
    "duration": 16,
    "start_time": "2022-07-25T18:53:20.100Z"
   },
   {
    "duration": 17,
    "start_time": "2022-07-25T18:53:20.119Z"
   },
   {
    "duration": 59,
    "start_time": "2022-07-25T18:53:20.138Z"
   },
   {
    "duration": 15,
    "start_time": "2022-07-25T18:53:20.198Z"
   },
   {
    "duration": 43,
    "start_time": "2022-07-25T18:53:20.215Z"
   },
   {
    "duration": 20,
    "start_time": "2022-07-25T18:53:20.260Z"
   },
   {
    "duration": 5,
    "start_time": "2022-07-25T18:53:20.282Z"
   },
   {
    "duration": 5,
    "start_time": "2022-07-25T18:53:20.289Z"
   },
   {
    "duration": 20,
    "start_time": "2022-07-25T18:53:20.296Z"
   },
   {
    "duration": 2236,
    "start_time": "2022-07-25T18:53:20.318Z"
   },
   {
    "duration": 901,
    "start_time": "2022-07-25T18:53:22.559Z"
   },
   {
    "duration": 20,
    "start_time": "2022-07-25T18:53:23.463Z"
   },
   {
    "duration": 155,
    "start_time": "2022-07-25T18:53:23.485Z"
   },
   {
    "duration": 235,
    "start_time": "2022-07-25T18:53:23.643Z"
   },
   {
    "duration": 16,
    "start_time": "2022-07-25T18:53:23.880Z"
   },
   {
    "duration": 119,
    "start_time": "2022-07-25T19:11:51.214Z"
   },
   {
    "duration": 2,
    "start_time": "2022-07-25T19:12:20.261Z"
   },
   {
    "duration": 15,
    "start_time": "2022-07-25T19:12:26.813Z"
   },
   {
    "duration": 9,
    "start_time": "2022-07-25T19:12:36.294Z"
   },
   {
    "duration": 9,
    "start_time": "2022-07-25T19:18:41.455Z"
   },
   {
    "duration": 9,
    "start_time": "2022-07-25T19:18:49.436Z"
   },
   {
    "duration": 9,
    "start_time": "2022-07-25T19:28:46.004Z"
   },
   {
    "duration": 9,
    "start_time": "2022-07-25T19:28:59.882Z"
   },
   {
    "duration": 10,
    "start_time": "2022-07-25T19:29:11.099Z"
   },
   {
    "duration": 1270,
    "start_time": "2022-07-26T03:54:11.979Z"
   },
   {
    "duration": 92,
    "start_time": "2022-07-26T03:54:13.251Z"
   },
   {
    "duration": 3,
    "start_time": "2022-07-26T03:54:13.345Z"
   },
   {
    "duration": 18,
    "start_time": "2022-07-26T03:54:13.350Z"
   },
   {
    "duration": 7,
    "start_time": "2022-07-26T03:54:13.370Z"
   },
   {
    "duration": 59,
    "start_time": "2022-07-26T03:54:13.379Z"
   },
   {
    "duration": 14,
    "start_time": "2022-07-26T03:54:13.439Z"
   },
   {
    "duration": 21,
    "start_time": "2022-07-26T03:54:13.454Z"
   },
   {
    "duration": 22,
    "start_time": "2022-07-26T03:54:13.477Z"
   },
   {
    "duration": 4,
    "start_time": "2022-07-26T03:54:13.502Z"
   },
   {
    "duration": 14,
    "start_time": "2022-07-26T03:54:13.508Z"
   },
   {
    "duration": 28,
    "start_time": "2022-07-26T03:54:13.524Z"
   },
   {
    "duration": 1937,
    "start_time": "2022-07-26T03:54:13.554Z"
   },
   {
    "duration": 922,
    "start_time": "2022-07-26T03:54:15.493Z"
   },
   {
    "duration": 16,
    "start_time": "2022-07-26T03:54:16.417Z"
   },
   {
    "duration": 133,
    "start_time": "2022-07-26T03:54:16.435Z"
   },
   {
    "duration": 210,
    "start_time": "2022-07-26T03:54:16.570Z"
   },
   {
    "duration": 15,
    "start_time": "2022-07-26T03:54:16.782Z"
   },
   {
    "duration": 19,
    "start_time": "2022-07-26T03:54:16.799Z"
   },
   {
    "duration": 1048,
    "start_time": "2022-07-26T04:03:10.170Z"
   },
   {
    "duration": 53,
    "start_time": "2022-07-26T04:03:11.220Z"
   },
   {
    "duration": 3,
    "start_time": "2022-07-26T04:03:11.275Z"
   },
   {
    "duration": 17,
    "start_time": "2022-07-26T04:03:11.279Z"
   },
   {
    "duration": 6,
    "start_time": "2022-07-26T04:03:11.298Z"
   },
   {
    "duration": 46,
    "start_time": "2022-07-26T04:03:11.305Z"
   },
   {
    "duration": 13,
    "start_time": "2022-07-26T04:03:11.353Z"
   },
   {
    "duration": 6,
    "start_time": "2022-07-26T04:03:11.368Z"
   },
   {
    "duration": 13,
    "start_time": "2022-07-26T04:03:11.376Z"
   },
   {
    "duration": 4,
    "start_time": "2022-07-26T04:03:11.390Z"
   },
   {
    "duration": 14,
    "start_time": "2022-07-26T04:03:11.396Z"
   },
   {
    "duration": 36,
    "start_time": "2022-07-26T04:03:11.411Z"
   },
   {
    "duration": 1869,
    "start_time": "2022-07-26T04:03:11.448Z"
   },
   {
    "duration": 845,
    "start_time": "2022-07-26T04:03:13.320Z"
   },
   {
    "duration": 15,
    "start_time": "2022-07-26T04:03:14.166Z"
   },
   {
    "duration": 124,
    "start_time": "2022-07-26T04:03:14.183Z"
   },
   {
    "duration": 205,
    "start_time": "2022-07-26T04:03:14.309Z"
   },
   {
    "duration": 21,
    "start_time": "2022-07-26T04:03:14.516Z"
   },
   {
    "duration": 7,
    "start_time": "2022-07-26T04:03:14.539Z"
   },
   {
    "duration": 7,
    "start_time": "2022-07-26T04:03:14.548Z"
   },
   {
    "duration": 1211,
    "start_time": "2022-07-26T06:09:35.814Z"
   },
   {
    "duration": 66,
    "start_time": "2022-07-26T06:09:37.027Z"
   },
   {
    "duration": 3,
    "start_time": "2022-07-26T06:09:37.095Z"
   },
   {
    "duration": 17,
    "start_time": "2022-07-26T06:09:37.100Z"
   },
   {
    "duration": 6,
    "start_time": "2022-07-26T06:09:37.120Z"
   },
   {
    "duration": 44,
    "start_time": "2022-07-26T06:09:37.127Z"
   },
   {
    "duration": 14,
    "start_time": "2022-07-26T06:09:37.173Z"
   },
   {
    "duration": 6,
    "start_time": "2022-07-26T06:09:37.189Z"
   },
   {
    "duration": 13,
    "start_time": "2022-07-26T06:09:37.197Z"
   },
   {
    "duration": 38,
    "start_time": "2022-07-26T06:09:37.212Z"
   },
   {
    "duration": 10,
    "start_time": "2022-07-26T06:09:37.252Z"
   },
   {
    "duration": 18,
    "start_time": "2022-07-26T06:09:37.263Z"
   },
   {
    "duration": 2192,
    "start_time": "2022-07-26T06:09:37.282Z"
   },
   {
    "duration": 882,
    "start_time": "2022-07-26T06:09:39.477Z"
   },
   {
    "duration": 15,
    "start_time": "2022-07-26T06:09:40.361Z"
   },
   {
    "duration": 124,
    "start_time": "2022-07-26T06:09:40.377Z"
   },
   {
    "duration": 220,
    "start_time": "2022-07-26T06:09:40.502Z"
   },
   {
    "duration": 28,
    "start_time": "2022-07-26T06:09:40.724Z"
   },
   {
    "duration": 13,
    "start_time": "2022-07-26T06:09:40.753Z"
   },
   {
    "duration": 8,
    "start_time": "2022-07-26T06:09:40.767Z"
   },
   {
    "duration": 1318,
    "start_time": "2022-07-27T04:10:00.979Z"
   },
   {
    "duration": 91,
    "start_time": "2022-07-27T04:10:02.300Z"
   },
   {
    "duration": 3,
    "start_time": "2022-07-27T04:10:02.393Z"
   },
   {
    "duration": 14,
    "start_time": "2022-07-27T04:10:02.398Z"
   },
   {
    "duration": 12,
    "start_time": "2022-07-27T04:10:02.413Z"
   },
   {
    "duration": 38,
    "start_time": "2022-07-27T04:10:02.426Z"
   },
   {
    "duration": 13,
    "start_time": "2022-07-27T04:10:02.465Z"
   },
   {
    "duration": 19,
    "start_time": "2022-07-27T04:10:02.479Z"
   },
   {
    "duration": 25,
    "start_time": "2022-07-27T04:10:09.453Z"
   },
   {
    "duration": 24,
    "start_time": "2022-07-27T04:10:27.003Z"
   },
   {
    "duration": 60,
    "start_time": "2022-07-27T04:11:02.986Z"
   },
   {
    "duration": 46,
    "start_time": "2022-07-27T04:11:07.867Z"
   },
   {
    "duration": 79,
    "start_time": "2022-07-27T04:11:38.863Z"
   },
   {
    "duration": 46,
    "start_time": "2022-07-27T04:11:48.326Z"
   },
   {
    "duration": 37,
    "start_time": "2022-07-27T04:12:08.398Z"
   },
   {
    "duration": 42,
    "start_time": "2022-07-27T04:12:21.076Z"
   },
   {
    "duration": 45,
    "start_time": "2022-07-27T04:12:54.045Z"
   },
   {
    "duration": 145,
    "start_time": "2022-07-27T04:15:11.787Z"
   },
   {
    "duration": 1329,
    "start_time": "2022-07-27T04:15:35.256Z"
   },
   {
    "duration": 53,
    "start_time": "2022-07-27T04:15:40.218Z"
   },
   {
    "duration": 53,
    "start_time": "2022-07-27T04:16:05.173Z"
   },
   {
    "duration": 52,
    "start_time": "2022-07-27T04:16:12.105Z"
   },
   {
    "duration": 51,
    "start_time": "2022-07-27T04:16:24.287Z"
   },
   {
    "duration": 47,
    "start_time": "2022-07-27T04:16:35.466Z"
   },
   {
    "duration": 67,
    "start_time": "2022-07-27T04:17:06.613Z"
   },
   {
    "duration": 103,
    "start_time": "2022-07-27T04:17:19.515Z"
   },
   {
    "duration": 47,
    "start_time": "2022-07-27T04:17:22.541Z"
   },
   {
    "duration": 4,
    "start_time": "2022-07-27T04:18:34.179Z"
   },
   {
    "duration": 26,
    "start_time": "2022-07-27T04:18:47.804Z"
   },
   {
    "duration": 22,
    "start_time": "2022-07-27T04:19:41.151Z"
   },
   {
    "duration": 90,
    "start_time": "2022-07-27T04:33:22.297Z"
   },
   {
    "duration": 10,
    "start_time": "2022-07-27T04:33:26.511Z"
   },
   {
    "duration": 321,
    "start_time": "2022-07-27T04:33:51.611Z"
   },
   {
    "duration": 294,
    "start_time": "2022-07-27T04:34:02.617Z"
   },
   {
    "duration": 1164,
    "start_time": "2022-07-27T04:34:22.543Z"
   },
   {
    "duration": 55,
    "start_time": "2022-07-27T04:34:23.709Z"
   },
   {
    "duration": 3,
    "start_time": "2022-07-27T04:34:23.766Z"
   },
   {
    "duration": 33,
    "start_time": "2022-07-27T04:34:23.772Z"
   },
   {
    "duration": 5,
    "start_time": "2022-07-27T04:34:23.807Z"
   },
   {
    "duration": 43,
    "start_time": "2022-07-27T04:34:23.814Z"
   },
   {
    "duration": 19,
    "start_time": "2022-07-27T04:34:23.859Z"
   },
   {
    "duration": 24,
    "start_time": "2022-07-27T04:34:23.880Z"
   },
   {
    "duration": 64,
    "start_time": "2022-07-27T04:34:23.906Z"
   },
   {
    "duration": 336,
    "start_time": "2022-07-27T04:34:23.974Z"
   },
   {
    "duration": 10,
    "start_time": "2022-07-27T04:34:24.312Z"
   },
   {
    "duration": 20,
    "start_time": "2022-07-27T04:34:24.323Z"
   },
   {
    "duration": 8,
    "start_time": "2022-07-27T04:34:24.345Z"
   },
   {
    "duration": 27,
    "start_time": "2022-07-27T04:34:24.355Z"
   },
   {
    "duration": 1850,
    "start_time": "2022-07-27T04:34:24.386Z"
   },
   {
    "duration": 760,
    "start_time": "2022-07-27T04:34:26.237Z"
   },
   {
    "duration": 19,
    "start_time": "2022-07-27T04:34:26.999Z"
   },
   {
    "duration": 133,
    "start_time": "2022-07-27T04:34:27.020Z"
   },
   {
    "duration": 198,
    "start_time": "2022-07-27T04:34:27.154Z"
   },
   {
    "duration": 13,
    "start_time": "2022-07-27T04:34:27.354Z"
   },
   {
    "duration": 9,
    "start_time": "2022-07-27T04:34:27.369Z"
   },
   {
    "duration": 21,
    "start_time": "2022-07-27T04:34:27.380Z"
   },
   {
    "duration": 322,
    "start_time": "2022-07-27T04:34:37.156Z"
   },
   {
    "duration": 110,
    "start_time": "2022-07-27T04:37:24.822Z"
   },
   {
    "duration": 11,
    "start_time": "2022-07-27T04:37:27.686Z"
   },
   {
    "duration": 12,
    "start_time": "2022-07-27T04:37:29.602Z"
   },
   {
    "duration": 17,
    "start_time": "2022-07-27T04:42:01.510Z"
   },
   {
    "duration": 333,
    "start_time": "2022-07-27T04:42:51.264Z"
   },
   {
    "duration": 401,
    "start_time": "2022-07-27T04:44:58.847Z"
   },
   {
    "duration": 17,
    "start_time": "2022-07-27T04:45:04.516Z"
   },
   {
    "duration": 19,
    "start_time": "2022-07-27T04:45:44.272Z"
   },
   {
    "duration": 9,
    "start_time": "2022-07-27T04:46:16.157Z"
   },
   {
    "duration": 394,
    "start_time": "2022-07-27T04:46:24.234Z"
   },
   {
    "duration": 9,
    "start_time": "2022-07-27T04:47:33.064Z"
   },
   {
    "duration": 10,
    "start_time": "2022-07-27T04:47:39.931Z"
   },
   {
    "duration": 12,
    "start_time": "2022-07-27T04:47:52.154Z"
   },
   {
    "duration": 13,
    "start_time": "2022-07-27T04:48:00.453Z"
   },
   {
    "duration": 14,
    "start_time": "2022-07-27T04:48:11.291Z"
   },
   {
    "duration": 12,
    "start_time": "2022-07-27T04:49:07.582Z"
   },
   {
    "duration": 1197,
    "start_time": "2022-07-27T06:02:47.245Z"
   },
   {
    "duration": 148,
    "start_time": "2022-07-27T06:02:48.444Z"
   },
   {
    "duration": 3,
    "start_time": "2022-07-27T06:02:48.593Z"
   },
   {
    "duration": 25,
    "start_time": "2022-07-27T06:02:48.597Z"
   },
   {
    "duration": 5,
    "start_time": "2022-07-27T06:02:48.624Z"
   },
   {
    "duration": 34,
    "start_time": "2022-07-27T06:02:48.630Z"
   },
   {
    "duration": 11,
    "start_time": "2022-07-27T06:02:48.665Z"
   },
   {
    "duration": 4,
    "start_time": "2022-07-27T06:02:48.678Z"
   },
   {
    "duration": 55,
    "start_time": "2022-07-27T06:02:48.684Z"
   },
   {
    "duration": 375,
    "start_time": "2022-07-27T06:02:48.740Z"
   },
   {
    "duration": 9,
    "start_time": "2022-07-27T06:02:49.116Z"
   },
   {
    "duration": 4,
    "start_time": "2022-07-27T06:02:49.126Z"
   },
   {
    "duration": 5,
    "start_time": "2022-07-27T06:02:49.132Z"
   },
   {
    "duration": 19,
    "start_time": "2022-07-27T06:02:49.139Z"
   },
   {
    "duration": 1600,
    "start_time": "2022-07-27T06:02:49.159Z"
   },
   {
    "duration": 752,
    "start_time": "2022-07-27T06:02:50.760Z"
   },
   {
    "duration": 13,
    "start_time": "2022-07-27T06:02:51.514Z"
   },
   {
    "duration": 105,
    "start_time": "2022-07-27T06:02:51.528Z"
   },
   {
    "duration": 175,
    "start_time": "2022-07-27T06:02:51.635Z"
   },
   {
    "duration": 11,
    "start_time": "2022-07-27T06:02:51.812Z"
   },
   {
    "duration": 10,
    "start_time": "2022-07-27T06:02:51.825Z"
   },
   {
    "duration": 8,
    "start_time": "2022-07-27T06:02:51.836Z"
   },
   {
    "duration": 10,
    "start_time": "2022-07-27T06:02:51.845Z"
   },
   {
    "duration": 6,
    "start_time": "2022-07-27T06:02:51.856Z"
   },
   {
    "duration": 9,
    "start_time": "2022-07-27T06:09:17.200Z"
   },
   {
    "duration": 15,
    "start_time": "2022-07-27T06:09:22.302Z"
   },
   {
    "duration": 1042,
    "start_time": "2022-07-27T06:10:29.619Z"
   },
   {
    "duration": 47,
    "start_time": "2022-07-27T06:10:30.663Z"
   },
   {
    "duration": 3,
    "start_time": "2022-07-27T06:10:30.712Z"
   },
   {
    "duration": 17,
    "start_time": "2022-07-27T06:10:30.716Z"
   },
   {
    "duration": 5,
    "start_time": "2022-07-27T06:10:30.735Z"
   },
   {
    "duration": 38,
    "start_time": "2022-07-27T06:10:30.741Z"
   },
   {
    "duration": 27,
    "start_time": "2022-07-27T06:10:30.781Z"
   },
   {
    "duration": 5,
    "start_time": "2022-07-27T06:10:30.809Z"
   },
   {
    "duration": 54,
    "start_time": "2022-07-27T06:10:30.816Z"
   },
   {
    "duration": 332,
    "start_time": "2022-07-27T06:10:30.873Z"
   },
   {
    "duration": 11,
    "start_time": "2022-07-27T06:10:31.207Z"
   },
   {
    "duration": 4,
    "start_time": "2022-07-27T06:10:31.219Z"
   },
   {
    "duration": 15,
    "start_time": "2022-07-27T06:10:31.225Z"
   },
   {
    "duration": 26,
    "start_time": "2022-07-27T06:10:31.242Z"
   },
   {
    "duration": 1607,
    "start_time": "2022-07-27T06:10:31.270Z"
   },
   {
    "duration": 798,
    "start_time": "2022-07-27T06:10:32.879Z"
   },
   {
    "duration": 15,
    "start_time": "2022-07-27T06:10:33.678Z"
   },
   {
    "duration": 115,
    "start_time": "2022-07-27T06:10:33.694Z"
   },
   {
    "duration": 182,
    "start_time": "2022-07-27T06:10:33.810Z"
   },
   {
    "duration": 18,
    "start_time": "2022-07-27T06:10:33.993Z"
   },
   {
    "duration": 18,
    "start_time": "2022-07-27T06:10:34.012Z"
   },
   {
    "duration": 42,
    "start_time": "2022-07-27T06:10:34.031Z"
   },
   {
    "duration": 33,
    "start_time": "2022-07-27T06:10:34.074Z"
   },
   {
    "duration": 50,
    "start_time": "2022-07-27T06:10:34.109Z"
   },
   {
    "duration": 25,
    "start_time": "2022-07-27T06:13:07.529Z"
   },
   {
    "duration": 25,
    "start_time": "2022-07-27T06:17:22.967Z"
   },
   {
    "duration": 1048,
    "start_time": "2022-07-27T06:19:30.014Z"
   },
   {
    "duration": 46,
    "start_time": "2022-07-27T06:19:31.064Z"
   },
   {
    "duration": 2,
    "start_time": "2022-07-27T06:19:31.112Z"
   },
   {
    "duration": 19,
    "start_time": "2022-07-27T06:19:31.116Z"
   },
   {
    "duration": 15,
    "start_time": "2022-07-27T06:19:31.137Z"
   },
   {
    "duration": 42,
    "start_time": "2022-07-27T06:19:31.153Z"
   },
   {
    "duration": 11,
    "start_time": "2022-07-27T06:19:31.196Z"
   },
   {
    "duration": 28,
    "start_time": "2022-07-27T06:19:31.209Z"
   },
   {
    "duration": 60,
    "start_time": "2022-07-27T06:19:31.238Z"
   },
   {
    "duration": 292,
    "start_time": "2022-07-27T06:19:31.301Z"
   },
   {
    "duration": 13,
    "start_time": "2022-07-27T06:19:31.595Z"
   },
   {
    "duration": 15,
    "start_time": "2022-07-27T06:19:31.610Z"
   },
   {
    "duration": 34,
    "start_time": "2022-07-27T06:19:31.626Z"
   },
   {
    "duration": 34,
    "start_time": "2022-07-27T06:19:31.661Z"
   },
   {
    "duration": 15,
    "start_time": "2022-07-27T06:19:31.696Z"
   },
   {
    "duration": 2339,
    "start_time": "2022-07-27T06:19:31.712Z"
   },
   {
    "duration": 1380,
    "start_time": "2022-07-27T06:19:34.052Z"
   },
   {
    "duration": 16,
    "start_time": "2022-07-27T06:19:35.434Z"
   },
   {
    "duration": 114,
    "start_time": "2022-07-27T06:19:35.451Z"
   },
   {
    "duration": 205,
    "start_time": "2022-07-27T06:19:35.567Z"
   },
   {
    "duration": 18,
    "start_time": "2022-07-27T06:19:35.774Z"
   },
   {
    "duration": 13,
    "start_time": "2022-07-27T06:19:35.802Z"
   },
   {
    "duration": 11,
    "start_time": "2022-07-27T06:19:35.817Z"
   },
   {
    "duration": 9,
    "start_time": "2022-07-27T06:19:35.829Z"
   },
   {
    "duration": 8,
    "start_time": "2022-07-27T06:19:35.839Z"
   },
   {
    "duration": 98,
    "start_time": "2022-07-27T06:24:19.712Z"
   },
   {
    "duration": 9,
    "start_time": "2022-07-27T06:24:50.878Z"
   },
   {
    "duration": 12,
    "start_time": "2022-07-27T06:27:01.252Z"
   },
   {
    "duration": 76,
    "start_time": "2022-07-27T06:27:33.557Z"
   },
   {
    "duration": 3,
    "start_time": "2022-07-27T06:27:42.696Z"
   },
   {
    "duration": 1093,
    "start_time": "2022-07-27T06:31:46.077Z"
   },
   {
    "duration": 48,
    "start_time": "2022-07-27T06:31:47.171Z"
   },
   {
    "duration": 3,
    "start_time": "2022-07-27T06:31:47.221Z"
   },
   {
    "duration": 14,
    "start_time": "2022-07-27T06:31:47.225Z"
   },
   {
    "duration": 5,
    "start_time": "2022-07-27T06:31:47.241Z"
   },
   {
    "duration": 35,
    "start_time": "2022-07-27T06:31:47.248Z"
   },
   {
    "duration": 13,
    "start_time": "2022-07-27T06:31:47.301Z"
   },
   {
    "duration": 9,
    "start_time": "2022-07-27T06:31:47.315Z"
   },
   {
    "duration": 59,
    "start_time": "2022-07-27T06:31:47.326Z"
   },
   {
    "duration": 383,
    "start_time": "2022-07-27T06:31:47.387Z"
   },
   {
    "duration": 10,
    "start_time": "2022-07-27T06:31:47.771Z"
   },
   {
    "duration": 4,
    "start_time": "2022-07-27T06:31:47.782Z"
   },
   {
    "duration": 17,
    "start_time": "2022-07-27T06:31:47.787Z"
   },
   {
    "duration": 26,
    "start_time": "2022-07-27T06:31:47.807Z"
   },
   {
    "duration": 16,
    "start_time": "2022-07-27T06:31:47.835Z"
   },
   {
    "duration": 2442,
    "start_time": "2022-07-27T06:31:47.852Z"
   },
   {
    "duration": 1404,
    "start_time": "2022-07-27T06:31:50.296Z"
   },
   {
    "duration": 16,
    "start_time": "2022-07-27T06:31:51.702Z"
   },
   {
    "duration": 130,
    "start_time": "2022-07-27T06:31:51.719Z"
   },
   {
    "duration": 184,
    "start_time": "2022-07-27T06:31:51.851Z"
   },
   {
    "duration": 17,
    "start_time": "2022-07-27T06:31:52.037Z"
   },
   {
    "duration": 12,
    "start_time": "2022-07-27T06:31:52.055Z"
   },
   {
    "duration": 34,
    "start_time": "2022-07-27T06:31:52.069Z"
   },
   {
    "duration": 7,
    "start_time": "2022-07-27T06:31:52.104Z"
   },
   {
    "duration": 8,
    "start_time": "2022-07-27T06:31:52.113Z"
   },
   {
    "duration": 1331,
    "start_time": "2022-07-27T06:32:07.101Z"
   },
   {
    "duration": 1251,
    "start_time": "2022-07-27T06:32:19.109Z"
   },
   {
    "duration": 1381,
    "start_time": "2022-07-27T06:33:55.671Z"
   },
   {
    "duration": 1260,
    "start_time": "2022-07-27T06:36:09.994Z"
   },
   {
    "duration": 1261,
    "start_time": "2022-07-27T06:40:13.573Z"
   },
   {
    "duration": 1232,
    "start_time": "2022-07-27T06:40:45.756Z"
   },
   {
    "duration": 249,
    "start_time": "2022-07-27T06:40:58.231Z"
   },
   {
    "duration": 1413,
    "start_time": "2022-07-27T06:41:03.905Z"
   },
   {
    "duration": 27,
    "start_time": "2022-07-27T06:42:39.314Z"
   },
   {
    "duration": 6,
    "start_time": "2022-07-27T06:43:56.281Z"
   },
   {
    "duration": 7,
    "start_time": "2022-07-27T06:44:13.220Z"
   },
   {
    "duration": 6,
    "start_time": "2022-07-27T06:44:56.227Z"
   },
   {
    "duration": 1163,
    "start_time": "2022-07-27T06:45:13.728Z"
   },
   {
    "duration": 51,
    "start_time": "2022-07-27T06:45:14.893Z"
   },
   {
    "duration": 3,
    "start_time": "2022-07-27T06:45:14.946Z"
   },
   {
    "duration": 28,
    "start_time": "2022-07-27T06:45:14.951Z"
   },
   {
    "duration": 11,
    "start_time": "2022-07-27T06:45:14.980Z"
   },
   {
    "duration": 44,
    "start_time": "2022-07-27T06:45:14.992Z"
   },
   {
    "duration": 19,
    "start_time": "2022-07-27T06:45:15.038Z"
   },
   {
    "duration": 5,
    "start_time": "2022-07-27T06:45:15.059Z"
   },
   {
    "duration": 93,
    "start_time": "2022-07-27T06:45:15.065Z"
   },
   {
    "duration": 373,
    "start_time": "2022-07-27T06:45:15.161Z"
   },
   {
    "duration": 9,
    "start_time": "2022-07-27T06:45:15.536Z"
   },
   {
    "duration": 17,
    "start_time": "2022-07-27T06:45:15.547Z"
   },
   {
    "duration": 11,
    "start_time": "2022-07-27T06:45:15.565Z"
   },
   {
    "duration": 55,
    "start_time": "2022-07-27T06:45:15.578Z"
   },
   {
    "duration": 16,
    "start_time": "2022-07-27T06:45:15.635Z"
   },
   {
    "duration": 2738,
    "start_time": "2022-07-27T06:45:15.652Z"
   },
   {
    "duration": 1545,
    "start_time": "2022-07-27T06:45:18.392Z"
   },
   {
    "duration": 18,
    "start_time": "2022-07-27T06:45:19.939Z"
   },
   {
    "duration": 18,
    "start_time": "2022-07-27T06:45:19.959Z"
   },
   {
    "duration": 113,
    "start_time": "2022-07-27T06:45:19.978Z"
   },
   {
    "duration": 195,
    "start_time": "2022-07-27T06:45:20.093Z"
   },
   {
    "duration": 34,
    "start_time": "2022-07-27T06:45:20.290Z"
   },
   {
    "duration": 15,
    "start_time": "2022-07-27T06:45:20.327Z"
   },
   {
    "duration": 16,
    "start_time": "2022-07-27T06:45:20.344Z"
   },
   {
    "duration": 8,
    "start_time": "2022-07-27T06:45:20.362Z"
   },
   {
    "duration": 33,
    "start_time": "2022-07-27T06:45:20.372Z"
   },
   {
    "duration": 128,
    "start_time": "2022-07-27T06:45:58.390Z"
   },
   {
    "duration": 1066,
    "start_time": "2022-07-27T06:46:10.363Z"
   },
   {
    "duration": 63,
    "start_time": "2022-07-27T06:46:11.431Z"
   },
   {
    "duration": 3,
    "start_time": "2022-07-27T06:46:11.495Z"
   },
   {
    "duration": 29,
    "start_time": "2022-07-27T06:46:11.500Z"
   },
   {
    "duration": 6,
    "start_time": "2022-07-27T06:46:11.531Z"
   },
   {
    "duration": 38,
    "start_time": "2022-07-27T06:46:11.539Z"
   },
   {
    "duration": 12,
    "start_time": "2022-07-27T06:46:11.578Z"
   },
   {
    "duration": 15,
    "start_time": "2022-07-27T06:46:11.591Z"
   },
   {
    "duration": 61,
    "start_time": "2022-07-27T06:46:11.607Z"
   },
   {
    "duration": 356,
    "start_time": "2022-07-27T06:46:11.670Z"
   },
   {
    "duration": 11,
    "start_time": "2022-07-27T06:46:12.029Z"
   },
   {
    "duration": 8,
    "start_time": "2022-07-27T06:46:12.042Z"
   },
   {
    "duration": 13,
    "start_time": "2022-07-27T06:46:12.053Z"
   },
   {
    "duration": 56,
    "start_time": "2022-07-27T06:46:12.067Z"
   },
   {
    "duration": 19,
    "start_time": "2022-07-27T06:46:12.124Z"
   },
   {
    "duration": 2698,
    "start_time": "2022-07-27T06:46:12.145Z"
   },
   {
    "duration": 1475,
    "start_time": "2022-07-27T06:46:14.845Z"
   },
   {
    "duration": 1380,
    "start_time": "2022-07-27T06:46:16.322Z"
   },
   {
    "duration": 24,
    "start_time": "2022-07-27T06:46:17.703Z"
   },
   {
    "duration": 142,
    "start_time": "2022-07-27T06:46:17.729Z"
   },
   {
    "duration": 218,
    "start_time": "2022-07-27T06:46:17.873Z"
   },
   {
    "duration": 27,
    "start_time": "2022-07-27T06:46:18.093Z"
   },
   {
    "duration": 11,
    "start_time": "2022-07-27T06:46:18.122Z"
   },
   {
    "duration": 17,
    "start_time": "2022-07-27T06:46:18.137Z"
   },
   {
    "duration": 8,
    "start_time": "2022-07-27T06:46:18.156Z"
   },
   {
    "duration": 42,
    "start_time": "2022-07-27T06:46:18.165Z"
   },
   {
    "duration": 1136,
    "start_time": "2022-07-27T06:50:30.553Z"
   },
   {
    "duration": 53,
    "start_time": "2022-07-27T06:50:31.691Z"
   },
   {
    "duration": 3,
    "start_time": "2022-07-27T06:50:31.746Z"
   },
   {
    "duration": 29,
    "start_time": "2022-07-27T06:50:31.751Z"
   },
   {
    "duration": 6,
    "start_time": "2022-07-27T06:50:31.782Z"
   },
   {
    "duration": 56,
    "start_time": "2022-07-27T06:50:31.789Z"
   },
   {
    "duration": 13,
    "start_time": "2022-07-27T06:50:31.847Z"
   },
   {
    "duration": 5,
    "start_time": "2022-07-27T06:50:31.862Z"
   },
   {
    "duration": 87,
    "start_time": "2022-07-27T06:50:31.869Z"
   },
   {
    "duration": 380,
    "start_time": "2022-07-27T06:50:31.959Z"
   },
   {
    "duration": 10,
    "start_time": "2022-07-27T06:50:32.341Z"
   },
   {
    "duration": 5,
    "start_time": "2022-07-27T06:50:32.353Z"
   },
   {
    "duration": 8,
    "start_time": "2022-07-27T06:50:32.360Z"
   },
   {
    "duration": 56,
    "start_time": "2022-07-27T06:50:32.370Z"
   },
   {
    "duration": 26,
    "start_time": "2022-07-27T06:50:32.429Z"
   },
   {
    "duration": 2715,
    "start_time": "2022-07-27T06:50:32.457Z"
   },
   {
    "duration": 1587,
    "start_time": "2022-07-27T06:50:35.173Z"
   },
   {
    "duration": 1526,
    "start_time": "2022-07-27T06:50:36.762Z"
   },
   {
    "duration": 29,
    "start_time": "2022-07-27T06:50:38.290Z"
   },
   {
    "duration": 140,
    "start_time": "2022-07-27T06:50:38.322Z"
   },
   {
    "duration": 214,
    "start_time": "2022-07-27T06:50:38.464Z"
   },
   {
    "duration": 40,
    "start_time": "2022-07-27T06:50:38.680Z"
   },
   {
    "duration": 14,
    "start_time": "2022-07-27T06:50:38.722Z"
   },
   {
    "duration": 10,
    "start_time": "2022-07-27T06:50:38.738Z"
   },
   {
    "duration": 7,
    "start_time": "2022-07-27T06:50:38.750Z"
   },
   {
    "duration": 13,
    "start_time": "2022-07-27T06:50:38.759Z"
   },
   {
    "duration": 1177,
    "start_time": "2022-07-27T06:51:37.503Z"
   },
   {
    "duration": 46,
    "start_time": "2022-07-27T06:51:38.682Z"
   },
   {
    "duration": 3,
    "start_time": "2022-07-27T06:51:38.730Z"
   },
   {
    "duration": 12,
    "start_time": "2022-07-27T06:51:38.734Z"
   },
   {
    "duration": 5,
    "start_time": "2022-07-27T06:51:38.747Z"
   },
   {
    "duration": 72,
    "start_time": "2022-07-27T06:51:38.753Z"
   },
   {
    "duration": 16,
    "start_time": "2022-07-27T06:51:38.827Z"
   },
   {
    "duration": 10,
    "start_time": "2022-07-27T06:51:38.845Z"
   },
   {
    "duration": 80,
    "start_time": "2022-07-27T06:51:38.857Z"
   },
   {
    "duration": 386,
    "start_time": "2022-07-27T06:51:38.940Z"
   },
   {
    "duration": 10,
    "start_time": "2022-07-27T06:51:39.327Z"
   },
   {
    "duration": 3,
    "start_time": "2022-07-27T06:51:39.339Z"
   },
   {
    "duration": 6,
    "start_time": "2022-07-27T06:51:39.344Z"
   },
   {
    "duration": 27,
    "start_time": "2022-07-27T06:51:39.351Z"
   },
   {
    "duration": 48,
    "start_time": "2022-07-27T06:51:39.379Z"
   },
   {
    "duration": 2788,
    "start_time": "2022-07-27T06:51:39.430Z"
   },
   {
    "duration": 1407,
    "start_time": "2022-07-27T06:51:42.220Z"
   },
   {
    "duration": 1175,
    "start_time": "2022-07-27T06:51:43.629Z"
   },
   {
    "duration": 20,
    "start_time": "2022-07-27T06:51:44.805Z"
   },
   {
    "duration": 117,
    "start_time": "2022-07-27T06:51:44.827Z"
   },
   {
    "duration": 196,
    "start_time": "2022-07-27T06:51:44.946Z"
   },
   {
    "duration": 21,
    "start_time": "2022-07-27T06:51:45.144Z"
   },
   {
    "duration": 9,
    "start_time": "2022-07-27T06:51:45.167Z"
   },
   {
    "duration": 52,
    "start_time": "2022-07-27T06:51:45.178Z"
   },
   {
    "duration": 8,
    "start_time": "2022-07-27T06:51:45.232Z"
   },
   {
    "duration": 11,
    "start_time": "2022-07-27T06:51:45.242Z"
   },
   {
    "duration": 124,
    "start_time": "2022-07-27T06:52:15.942Z"
   },
   {
    "duration": 1155,
    "start_time": "2022-07-27T06:52:23.297Z"
   },
   {
    "duration": 48,
    "start_time": "2022-07-27T06:52:24.455Z"
   },
   {
    "duration": 7,
    "start_time": "2022-07-27T06:52:24.505Z"
   },
   {
    "duration": 27,
    "start_time": "2022-07-27T06:52:24.515Z"
   },
   {
    "duration": 6,
    "start_time": "2022-07-27T06:52:24.543Z"
   },
   {
    "duration": 38,
    "start_time": "2022-07-27T06:52:24.551Z"
   },
   {
    "duration": 23,
    "start_time": "2022-07-27T06:52:24.590Z"
   },
   {
    "duration": 6,
    "start_time": "2022-07-27T06:52:24.615Z"
   },
   {
    "duration": 58,
    "start_time": "2022-07-27T06:52:24.622Z"
   },
   {
    "duration": 367,
    "start_time": "2022-07-27T06:52:24.682Z"
   },
   {
    "duration": 13,
    "start_time": "2022-07-27T06:52:25.051Z"
   },
   {
    "duration": 11,
    "start_time": "2022-07-27T06:52:25.065Z"
   },
   {
    "duration": 22,
    "start_time": "2022-07-27T06:52:25.077Z"
   },
   {
    "duration": 53,
    "start_time": "2022-07-27T06:52:25.102Z"
   },
   {
    "duration": 26,
    "start_time": "2022-07-27T06:52:25.157Z"
   },
   {
    "duration": 2826,
    "start_time": "2022-07-27T06:52:25.185Z"
   },
   {
    "duration": 1547,
    "start_time": "2022-07-27T06:52:28.013Z"
   },
   {
    "duration": 234,
    "start_time": "2022-07-27T06:52:29.562Z"
   },
   {
    "duration": 0,
    "start_time": "2022-07-27T06:52:29.797Z"
   },
   {
    "duration": 0,
    "start_time": "2022-07-27T06:52:29.798Z"
   },
   {
    "duration": 0,
    "start_time": "2022-07-27T06:52:29.798Z"
   },
   {
    "duration": 0,
    "start_time": "2022-07-27T06:52:29.803Z"
   },
   {
    "duration": 0,
    "start_time": "2022-07-27T06:52:29.804Z"
   },
   {
    "duration": 0,
    "start_time": "2022-07-27T06:52:29.806Z"
   },
   {
    "duration": 0,
    "start_time": "2022-07-27T06:52:29.808Z"
   },
   {
    "duration": 0,
    "start_time": "2022-07-27T06:52:29.809Z"
   },
   {
    "duration": 1116,
    "start_time": "2022-07-27T06:52:56.152Z"
   },
   {
    "duration": 58,
    "start_time": "2022-07-27T06:52:57.269Z"
   },
   {
    "duration": 4,
    "start_time": "2022-07-27T06:52:57.329Z"
   },
   {
    "duration": 32,
    "start_time": "2022-07-27T06:52:57.334Z"
   },
   {
    "duration": 28,
    "start_time": "2022-07-27T06:52:57.369Z"
   },
   {
    "duration": 90,
    "start_time": "2022-07-27T06:52:57.399Z"
   },
   {
    "duration": 27,
    "start_time": "2022-07-27T06:52:57.492Z"
   },
   {
    "duration": 33,
    "start_time": "2022-07-27T06:52:57.521Z"
   },
   {
    "duration": 75,
    "start_time": "2022-07-27T06:52:57.557Z"
   },
   {
    "duration": 394,
    "start_time": "2022-07-27T06:52:57.634Z"
   },
   {
    "duration": 10,
    "start_time": "2022-07-27T06:52:58.029Z"
   },
   {
    "duration": 4,
    "start_time": "2022-07-27T06:52:58.040Z"
   },
   {
    "duration": 4,
    "start_time": "2022-07-27T06:52:58.045Z"
   },
   {
    "duration": 63,
    "start_time": "2022-07-27T06:52:58.052Z"
   },
   {
    "duration": 21,
    "start_time": "2022-07-27T06:52:58.117Z"
   },
   {
    "duration": 2750,
    "start_time": "2022-07-27T06:52:58.139Z"
   },
   {
    "duration": 1470,
    "start_time": "2022-07-27T06:53:00.890Z"
   },
   {
    "duration": 17,
    "start_time": "2022-07-27T06:53:02.363Z"
   },
   {
    "duration": 124,
    "start_time": "2022-07-27T06:53:02.382Z"
   },
   {
    "duration": 212,
    "start_time": "2022-07-27T06:53:02.509Z"
   },
   {
    "duration": 20,
    "start_time": "2022-07-27T06:53:02.723Z"
   },
   {
    "duration": 10,
    "start_time": "2022-07-27T06:53:02.745Z"
   },
   {
    "duration": 18,
    "start_time": "2022-07-27T06:53:02.756Z"
   },
   {
    "duration": 8,
    "start_time": "2022-07-27T06:53:02.775Z"
   },
   {
    "duration": 8,
    "start_time": "2022-07-27T06:53:02.813Z"
   },
   {
    "duration": 17,
    "start_time": "2022-07-27T06:55:54.227Z"
   },
   {
    "duration": 1471,
    "start_time": "2022-07-27T17:49:12.402Z"
   },
   {
    "duration": 179,
    "start_time": "2022-07-27T17:49:13.876Z"
   },
   {
    "duration": 4,
    "start_time": "2022-07-27T17:49:14.056Z"
   },
   {
    "duration": 17,
    "start_time": "2022-07-27T17:49:14.063Z"
   },
   {
    "duration": 7,
    "start_time": "2022-07-27T17:49:14.081Z"
   },
   {
    "duration": 49,
    "start_time": "2022-07-27T17:49:14.090Z"
   },
   {
    "duration": 17,
    "start_time": "2022-07-27T17:49:14.142Z"
   },
   {
    "duration": 7,
    "start_time": "2022-07-27T17:49:14.161Z"
   },
   {
    "duration": 96,
    "start_time": "2022-07-27T17:49:14.170Z"
   },
   {
    "duration": 408,
    "start_time": "2022-07-27T17:49:14.269Z"
   },
   {
    "duration": 12,
    "start_time": "2022-07-27T17:49:14.678Z"
   },
   {
    "duration": 28,
    "start_time": "2022-07-27T17:49:14.691Z"
   },
   {
    "duration": 4,
    "start_time": "2022-07-27T17:49:14.721Z"
   },
   {
    "duration": 33,
    "start_time": "2022-07-27T17:49:14.727Z"
   },
   {
    "duration": 20,
    "start_time": "2022-07-27T17:49:14.761Z"
   },
   {
    "duration": 3235,
    "start_time": "2022-07-27T17:49:14.782Z"
   },
   {
    "duration": 1674,
    "start_time": "2022-07-27T17:49:18.019Z"
   },
   {
    "duration": 21,
    "start_time": "2022-07-27T17:49:19.695Z"
   },
   {
    "duration": 152,
    "start_time": "2022-07-27T17:49:19.719Z"
   },
   {
    "duration": 252,
    "start_time": "2022-07-27T17:49:19.873Z"
   },
   {
    "duration": 27,
    "start_time": "2022-07-27T17:49:20.127Z"
   },
   {
    "duration": 16,
    "start_time": "2022-07-27T17:49:20.156Z"
   },
   {
    "duration": 45,
    "start_time": "2022-07-27T17:49:20.174Z"
   },
   {
    "duration": 12,
    "start_time": "2022-07-27T17:49:20.221Z"
   },
   {
    "duration": 12,
    "start_time": "2022-07-27T17:49:20.235Z"
   },
   {
    "duration": 3354,
    "start_time": "2022-07-27T17:52:54.425Z"
   },
   {
    "duration": 3393,
    "start_time": "2022-07-27T17:53:47.753Z"
   },
   {
    "duration": 3262,
    "start_time": "2022-07-27T17:54:03.817Z"
   },
   {
    "duration": 1208,
    "start_time": "2022-07-27T17:56:13.528Z"
   },
   {
    "duration": 54,
    "start_time": "2022-07-27T17:56:14.738Z"
   },
   {
    "duration": 3,
    "start_time": "2022-07-27T17:56:14.793Z"
   },
   {
    "duration": 22,
    "start_time": "2022-07-27T17:56:14.798Z"
   },
   {
    "duration": 8,
    "start_time": "2022-07-27T17:56:14.822Z"
   },
   {
    "duration": 45,
    "start_time": "2022-07-27T17:56:14.832Z"
   },
   {
    "duration": 30,
    "start_time": "2022-07-27T17:56:14.878Z"
   },
   {
    "duration": 9,
    "start_time": "2022-07-27T17:56:14.918Z"
   },
   {
    "duration": 64,
    "start_time": "2022-07-27T17:56:14.929Z"
   },
   {
    "duration": 346,
    "start_time": "2022-07-27T17:56:15.012Z"
   },
   {
    "duration": 12,
    "start_time": "2022-07-27T17:56:15.359Z"
   },
   {
    "duration": 5,
    "start_time": "2022-07-27T17:56:15.373Z"
   },
   {
    "duration": 28,
    "start_time": "2022-07-27T17:56:15.380Z"
   },
   {
    "duration": 39,
    "start_time": "2022-07-27T17:56:15.421Z"
   },
   {
    "duration": 21,
    "start_time": "2022-07-27T17:56:15.461Z"
   },
   {
    "duration": 3248,
    "start_time": "2022-07-27T17:56:15.484Z"
   },
   {
    "duration": 1728,
    "start_time": "2022-07-27T17:56:18.734Z"
   },
   {
    "duration": 18,
    "start_time": "2022-07-27T17:56:20.463Z"
   },
   {
    "duration": 140,
    "start_time": "2022-07-27T17:56:20.482Z"
   },
   {
    "duration": 234,
    "start_time": "2022-07-27T17:56:20.624Z"
   },
   {
    "duration": 21,
    "start_time": "2022-07-27T17:56:20.859Z"
   },
   {
    "duration": 36,
    "start_time": "2022-07-27T17:56:20.882Z"
   },
   {
    "duration": 16,
    "start_time": "2022-07-27T17:56:20.920Z"
   },
   {
    "duration": 9,
    "start_time": "2022-07-27T17:56:20.938Z"
   },
   {
    "duration": 12,
    "start_time": "2022-07-27T17:56:20.949Z"
   },
   {
    "duration": 3316,
    "start_time": "2022-07-27T17:57:36.478Z"
   },
   {
    "duration": 3355,
    "start_time": "2022-07-27T17:57:50.239Z"
   },
   {
    "duration": 3209,
    "start_time": "2022-07-27T17:59:14.615Z"
   },
   {
    "duration": 3067,
    "start_time": "2022-07-27T18:00:31.586Z"
   },
   {
    "duration": 1282,
    "start_time": "2022-07-27T18:13:07.045Z"
   },
   {
    "duration": 53,
    "start_time": "2022-07-27T18:13:08.330Z"
   },
   {
    "duration": 4,
    "start_time": "2022-07-27T18:13:08.385Z"
   },
   {
    "duration": 26,
    "start_time": "2022-07-27T18:13:08.390Z"
   },
   {
    "duration": 6,
    "start_time": "2022-07-27T18:13:08.420Z"
   },
   {
    "duration": 46,
    "start_time": "2022-07-27T18:13:08.428Z"
   },
   {
    "duration": 15,
    "start_time": "2022-07-27T18:13:08.476Z"
   },
   {
    "duration": 27,
    "start_time": "2022-07-27T18:13:08.493Z"
   },
   {
    "duration": 60,
    "start_time": "2022-07-27T18:13:08.522Z"
   },
   {
    "duration": 384,
    "start_time": "2022-07-27T18:13:08.584Z"
   },
   {
    "duration": 13,
    "start_time": "2022-07-27T18:13:08.970Z"
   },
   {
    "duration": 24,
    "start_time": "2022-07-27T18:13:08.986Z"
   },
   {
    "duration": 13,
    "start_time": "2022-07-27T18:13:09.012Z"
   },
   {
    "duration": 32,
    "start_time": "2022-07-27T18:13:09.029Z"
   },
   {
    "duration": 22,
    "start_time": "2022-07-27T18:13:09.063Z"
   },
   {
    "duration": 3250,
    "start_time": "2022-07-27T18:13:09.087Z"
   },
   {
    "duration": 1734,
    "start_time": "2022-07-27T18:13:12.339Z"
   },
   {
    "duration": 20,
    "start_time": "2022-07-27T18:13:14.075Z"
   },
   {
    "duration": 157,
    "start_time": "2022-07-27T18:13:14.097Z"
   },
   {
    "duration": 234,
    "start_time": "2022-07-27T18:13:14.256Z"
   },
   {
    "duration": 37,
    "start_time": "2022-07-27T18:13:14.492Z"
   },
   {
    "duration": 12,
    "start_time": "2022-07-27T18:13:14.531Z"
   },
   {
    "duration": 12,
    "start_time": "2022-07-27T18:13:14.545Z"
   },
   {
    "duration": 8,
    "start_time": "2022-07-27T18:13:14.558Z"
   },
   {
    "duration": 8,
    "start_time": "2022-07-27T18:13:14.568Z"
   },
   {
    "duration": 424,
    "start_time": "2022-07-27T18:37:28.421Z"
   },
   {
    "duration": 14,
    "start_time": "2022-07-27T18:37:58.613Z"
   },
   {
    "duration": 21,
    "start_time": "2022-07-27T18:38:32.226Z"
   },
   {
    "duration": 14,
    "start_time": "2022-07-27T18:40:13.749Z"
   },
   {
    "duration": 19,
    "start_time": "2022-07-27T18:43:16.681Z"
   },
   {
    "duration": 17,
    "start_time": "2022-07-27T18:46:17.070Z"
   },
   {
    "duration": 18,
    "start_time": "2022-07-27T18:47:11.799Z"
   },
   {
    "duration": 14,
    "start_time": "2022-07-27T18:47:22.165Z"
   },
   {
    "duration": 13,
    "start_time": "2022-07-27T18:47:50.320Z"
   },
   {
    "duration": 17,
    "start_time": "2022-07-27T18:49:58.005Z"
   },
   {
    "duration": 9,
    "start_time": "2022-07-27T19:10:21.659Z"
   },
   {
    "duration": 1254,
    "start_time": "2022-07-27T19:23:54.254Z"
   },
   {
    "duration": 54,
    "start_time": "2022-07-27T19:23:55.517Z"
   },
   {
    "duration": 4,
    "start_time": "2022-07-27T19:23:55.573Z"
   },
   {
    "duration": 20,
    "start_time": "2022-07-27T19:23:55.579Z"
   },
   {
    "duration": 23,
    "start_time": "2022-07-27T19:23:55.601Z"
   },
   {
    "duration": 45,
    "start_time": "2022-07-27T19:23:55.626Z"
   },
   {
    "duration": 17,
    "start_time": "2022-07-27T19:23:55.672Z"
   },
   {
    "duration": 6,
    "start_time": "2022-07-27T19:23:55.690Z"
   },
   {
    "duration": 83,
    "start_time": "2022-07-27T19:23:55.707Z"
   },
   {
    "duration": 362,
    "start_time": "2022-07-27T19:23:55.794Z"
   },
   {
    "duration": 13,
    "start_time": "2022-07-27T19:23:56.158Z"
   },
   {
    "duration": 6,
    "start_time": "2022-07-27T19:23:56.173Z"
   },
   {
    "duration": 42,
    "start_time": "2022-07-27T19:23:56.181Z"
   },
   {
    "duration": 35,
    "start_time": "2022-07-27T19:23:56.226Z"
   },
   {
    "duration": 21,
    "start_time": "2022-07-27T19:23:56.263Z"
   },
   {
    "duration": 3367,
    "start_time": "2022-07-27T19:23:56.286Z"
   },
   {
    "duration": 1835,
    "start_time": "2022-07-27T19:23:59.655Z"
   },
   {
    "duration": 416,
    "start_time": "2022-07-27T19:24:01.492Z"
   },
   {
    "duration": 19,
    "start_time": "2022-07-27T19:24:01.920Z"
   },
   {
    "duration": 143,
    "start_time": "2022-07-27T19:24:01.941Z"
   },
   {
    "duration": 271,
    "start_time": "2022-07-27T19:24:02.086Z"
   },
   {
    "duration": 20,
    "start_time": "2022-07-27T19:24:02.359Z"
   },
   {
    "duration": 41,
    "start_time": "2022-07-27T19:24:02.381Z"
   },
   {
    "duration": 25,
    "start_time": "2022-07-27T19:24:02.424Z"
   },
   {
    "duration": 22,
    "start_time": "2022-07-27T19:24:02.451Z"
   },
   {
    "duration": 25,
    "start_time": "2022-07-27T19:24:02.475Z"
   },
   {
    "duration": 34,
    "start_time": "2022-07-27T19:24:02.502Z"
   },
   {
    "duration": 9,
    "start_time": "2022-07-27T19:24:02.539Z"
   },
   {
    "duration": 9,
    "start_time": "2022-07-27T19:24:02.550Z"
   },
   {
    "duration": 398,
    "start_time": "2022-07-27T19:24:18.596Z"
   },
   {
    "duration": 421,
    "start_time": "2022-07-27T19:24:49.669Z"
   },
   {
    "duration": 405,
    "start_time": "2022-07-27T19:26:58.613Z"
   },
   {
    "duration": 412,
    "start_time": "2022-07-27T19:27:11.804Z"
   },
   {
    "duration": 427,
    "start_time": "2022-07-27T19:27:17.074Z"
   },
   {
    "duration": 416,
    "start_time": "2022-07-27T19:27:23.334Z"
   },
   {
    "duration": 579,
    "start_time": "2022-07-27T19:27:41.443Z"
   },
   {
    "duration": 453,
    "start_time": "2022-07-27T19:27:50.771Z"
   },
   {
    "duration": 1226,
    "start_time": "2022-07-27T19:28:50.566Z"
   },
   {
    "duration": 66,
    "start_time": "2022-07-27T19:28:51.794Z"
   },
   {
    "duration": 4,
    "start_time": "2022-07-27T19:28:51.861Z"
   },
   {
    "duration": 15,
    "start_time": "2022-07-27T19:28:51.867Z"
   },
   {
    "duration": 6,
    "start_time": "2022-07-27T19:28:51.885Z"
   },
   {
    "duration": 48,
    "start_time": "2022-07-27T19:28:51.893Z"
   },
   {
    "duration": 15,
    "start_time": "2022-07-27T19:28:51.943Z"
   },
   {
    "duration": 7,
    "start_time": "2022-07-27T19:28:51.960Z"
   },
   {
    "duration": 119,
    "start_time": "2022-07-27T19:28:51.970Z"
   },
   {
    "duration": 364,
    "start_time": "2022-07-27T19:28:52.093Z"
   },
   {
    "duration": 11,
    "start_time": "2022-07-27T19:28:52.459Z"
   },
   {
    "duration": 5,
    "start_time": "2022-07-27T19:28:52.472Z"
   },
   {
    "duration": 31,
    "start_time": "2022-07-27T19:28:52.479Z"
   },
   {
    "duration": 55,
    "start_time": "2022-07-27T19:28:52.513Z"
   },
   {
    "duration": 21,
    "start_time": "2022-07-27T19:28:52.570Z"
   },
   {
    "duration": 3297,
    "start_time": "2022-07-27T19:28:52.593Z"
   },
   {
    "duration": 1923,
    "start_time": "2022-07-27T19:28:55.893Z"
   },
   {
    "duration": 394,
    "start_time": "2022-07-27T19:28:57.818Z"
   },
   {
    "duration": 20,
    "start_time": "2022-07-27T19:28:58.213Z"
   },
   {
    "duration": 162,
    "start_time": "2022-07-27T19:28:58.235Z"
   },
   {
    "duration": 268,
    "start_time": "2022-07-27T19:28:58.398Z"
   },
   {
    "duration": 20,
    "start_time": "2022-07-27T19:28:58.669Z"
   },
   {
    "duration": 21,
    "start_time": "2022-07-27T19:28:58.706Z"
   },
   {
    "duration": 14,
    "start_time": "2022-07-27T19:28:58.731Z"
   },
   {
    "duration": 14,
    "start_time": "2022-07-27T19:28:58.747Z"
   },
   {
    "duration": 42,
    "start_time": "2022-07-27T19:28:58.763Z"
   },
   {
    "duration": 21,
    "start_time": "2022-07-27T19:28:58.814Z"
   },
   {
    "duration": 13,
    "start_time": "2022-07-27T19:28:58.840Z"
   },
   {
    "duration": 11,
    "start_time": "2022-07-27T19:28:58.855Z"
   },
   {
    "duration": 1214,
    "start_time": "2022-07-27T19:38:32.602Z"
   },
   {
    "duration": 55,
    "start_time": "2022-07-27T19:38:33.819Z"
   },
   {
    "duration": 3,
    "start_time": "2022-07-27T19:38:33.876Z"
   },
   {
    "duration": 19,
    "start_time": "2022-07-27T19:38:33.881Z"
   },
   {
    "duration": 7,
    "start_time": "2022-07-27T19:38:33.902Z"
   },
   {
    "duration": 44,
    "start_time": "2022-07-27T19:38:33.911Z"
   },
   {
    "duration": 14,
    "start_time": "2022-07-27T19:38:33.957Z"
   },
   {
    "duration": 32,
    "start_time": "2022-07-27T19:38:33.973Z"
   },
   {
    "duration": 70,
    "start_time": "2022-07-27T19:38:34.007Z"
   },
   {
    "duration": 402,
    "start_time": "2022-07-27T19:38:34.080Z"
   },
   {
    "duration": 19,
    "start_time": "2022-07-27T19:38:34.486Z"
   },
   {
    "duration": 6,
    "start_time": "2022-07-27T19:38:34.508Z"
   },
   {
    "duration": 17,
    "start_time": "2022-07-27T19:38:34.516Z"
   },
   {
    "duration": 56,
    "start_time": "2022-07-27T19:38:34.536Z"
   },
   {
    "duration": 31,
    "start_time": "2022-07-27T19:38:34.594Z"
   },
   {
    "duration": 3435,
    "start_time": "2022-07-27T19:38:34.627Z"
   },
   {
    "duration": 1761,
    "start_time": "2022-07-27T19:38:38.064Z"
   },
   {
    "duration": 412,
    "start_time": "2022-07-27T19:38:39.827Z"
   },
   {
    "duration": 19,
    "start_time": "2022-07-27T19:38:40.241Z"
   },
   {
    "duration": 150,
    "start_time": "2022-07-27T19:38:40.262Z"
   },
   {
    "duration": 220,
    "start_time": "2022-07-27T19:38:40.414Z"
   },
   {
    "duration": 21,
    "start_time": "2022-07-27T19:38:40.636Z"
   },
   {
    "duration": 47,
    "start_time": "2022-07-27T19:38:40.659Z"
   },
   {
    "duration": 14,
    "start_time": "2022-07-27T19:38:40.708Z"
   },
   {
    "duration": 13,
    "start_time": "2022-07-27T19:38:40.725Z"
   },
   {
    "duration": 13,
    "start_time": "2022-07-27T19:38:40.740Z"
   },
   {
    "duration": 49,
    "start_time": "2022-07-27T19:38:40.756Z"
   },
   {
    "duration": 10,
    "start_time": "2022-07-27T19:38:40.809Z"
   },
   {
    "duration": 10,
    "start_time": "2022-07-27T19:38:40.821Z"
   },
   {
    "duration": 39,
    "start_time": "2022-07-27T19:39:12.725Z"
   },
   {
    "duration": 33,
    "start_time": "2022-07-27T19:39:30.055Z"
   },
   {
    "duration": 1210,
    "start_time": "2022-07-27T19:39:57.511Z"
   },
   {
    "duration": 56,
    "start_time": "2022-07-27T19:39:58.723Z"
   },
   {
    "duration": 4,
    "start_time": "2022-07-27T19:39:58.781Z"
   },
   {
    "duration": 16,
    "start_time": "2022-07-27T19:39:58.787Z"
   },
   {
    "duration": 8,
    "start_time": "2022-07-27T19:39:58.807Z"
   },
   {
    "duration": 46,
    "start_time": "2022-07-27T19:39:58.817Z"
   },
   {
    "duration": 15,
    "start_time": "2022-07-27T19:39:58.865Z"
   },
   {
    "duration": 6,
    "start_time": "2022-07-27T19:39:58.905Z"
   },
   {
    "duration": 102,
    "start_time": "2022-07-27T19:39:58.914Z"
   },
   {
    "duration": 365,
    "start_time": "2022-07-27T19:39:59.018Z"
   },
   {
    "duration": 20,
    "start_time": "2022-07-27T19:39:59.385Z"
   },
   {
    "duration": 5,
    "start_time": "2022-07-27T19:39:59.407Z"
   },
   {
    "duration": 7,
    "start_time": "2022-07-27T19:39:59.413Z"
   },
   {
    "duration": 33,
    "start_time": "2022-07-27T19:39:59.423Z"
   },
   {
    "duration": 52,
    "start_time": "2022-07-27T19:39:59.458Z"
   },
   {
    "duration": 3225,
    "start_time": "2022-07-27T19:39:59.512Z"
   },
   {
    "duration": 1766,
    "start_time": "2022-07-27T19:40:02.739Z"
   },
   {
    "duration": 417,
    "start_time": "2022-07-27T19:40:04.507Z"
   },
   {
    "duration": 25,
    "start_time": "2022-07-27T19:40:04.926Z"
   },
   {
    "duration": 160,
    "start_time": "2022-07-27T19:40:04.954Z"
   },
   {
    "duration": 254,
    "start_time": "2022-07-27T19:40:05.116Z"
   },
   {
    "duration": 32,
    "start_time": "2022-07-27T19:40:05.372Z"
   },
   {
    "duration": 44,
    "start_time": "2022-07-27T19:40:05.406Z"
   },
   {
    "duration": 16,
    "start_time": "2022-07-27T19:40:05.451Z"
   },
   {
    "duration": 46,
    "start_time": "2022-07-27T19:40:05.469Z"
   },
   {
    "duration": 15,
    "start_time": "2022-07-27T19:40:05.517Z"
   },
   {
    "duration": 11,
    "start_time": "2022-07-27T19:40:05.535Z"
   }
  ],
  "kernelspec": {
   "display_name": "Python 3 (ipykernel)",
   "language": "python",
   "name": "python3"
  },
  "language_info": {
   "codemirror_mode": {
    "name": "ipython",
    "version": 3
   },
   "file_extension": ".py",
   "mimetype": "text/x-python",
   "name": "python",
   "nbconvert_exporter": "python",
   "pygments_lexer": "ipython3",
   "version": "3.9.7"
  },
  "toc": {
   "base_numbering": 1,
   "nav_menu": {},
   "number_sections": true,
   "sideBar": true,
   "skip_h1_title": true,
   "title_cell": "Table of Contents",
   "title_sidebar": "Contents",
   "toc_cell": false,
   "toc_position": {},
   "toc_section_display": true,
   "toc_window_display": false
  }
 },
 "nbformat": 4,
 "nbformat_minor": 2
}
