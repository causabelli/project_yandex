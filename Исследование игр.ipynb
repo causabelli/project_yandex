{
 "cells": [
  {
   "cell_type": "markdown",
   "metadata": {},
   "source": [
    "# Исследование игр"
   ]
  },
  {
   "cell_type": "markdown",
   "metadata": {},
   "source": [
    "**Оглавление**\n",
    "1. [Описание проекта](#description)\n",
    "2. [Описание данных](#rate)\n",
    "3. [Обзор данных](#data_review)\n",
    "4. [Предобработка данных](#preprocessing)\n",
    "5. [Исследовательский анализ данных](#analysis)\n",
    "6. [Портрет пользователя каждого региона](#region)\n",
    "7. [Проверка гипотез](#hypothesis)\n",
    "8. [Общий вывод](#output)"
   ]
  },
  {
   "cell_type": "markdown",
   "metadata": {},
   "source": [
    "## Описание проекта\n",
    "<a id=\"description\"></a>"
   ]
  },
  {
   "cell_type": "markdown",
   "metadata": {},
   "source": [
    "Вы работаете в интернет-магазине «Стримчик», который продаёт по всему миру компьютерные игры. Из открытых источников доступны исторические данные о продажах игр, оценки пользователей и экспертов, жанры и платформы (например, Xbox или PlayStation). Вам нужно выявить определяющие успешность игры закономерности. Это позволит сделать ставку на потенциально популярный продукт и спланировать рекламные кампании.\n",
    "\n",
    "Перед вами данные до 2016 года. Представим, что сейчас декабрь 2016 г., и вы планируете кампанию на 2017-й. Нужно отработать принцип работы с данными. Неважно, прогнозируете ли вы продажи на 2017 год по данным 2016-го или же 2027-й — по данным 2026 года.\n",
    "\n",
    "В наборе данных попадается аббревиатура ESRB (Entertainment Software Rating Board) — это ассоциация, определяющая возрастной рейтинг компьютерных игр. ESRB оценивает игровой контент и присваивает ему подходящую возрастную категорию, например, «Для взрослых», «Для детей младшего возраста» или «Для подростков»."
   ]
  },
  {
   "cell_type": "markdown",
   "metadata": {},
   "source": [
    "## Описание данных\n",
    "<a id=\"rate\"></a>"
   ]
  },
  {
   "cell_type": "markdown",
   "metadata": {},
   "source": [
    "* `Name` — название игры\n",
    "* `Platform` — платформа\n",
    "* `Year_of_Release` — год выпуска\n",
    "* `Genre` — жанр игры\n",
    "* `NA_sales` — продажи в Северной Америке (миллионы проданных копий)\n",
    "* `EU_sales` — продажи в Европе (миллионы проданных копий)\n",
    "* `JP_sales` — продажи в Японии (миллионы проданных копий)\n",
    "* `Other_sales` — продажи в других странах (миллионы проданных копий)\n",
    "* `Critic_Score` — оценка критиков (максимум 100)\n",
    "* `User_Score` — оценка пользователей (максимум 10)\n",
    "* `Rating` — рейтинг от организации ESRB (англ. Entertainment Software Rating Board). Эта ассоциация определяет рейтинг компьютерных игр и присваивает им подходящую возрастную категорию.\n",
    "\n",
    "*Данные за 2016 год могут быть неполными.*"
   ]
  },
  {
   "cell_type": "markdown",
   "metadata": {},
   "source": [
    "## Обзор данных\n",
    "<a id=\"data_review\"></a>"
   ]
  },
  {
   "cell_type": "code",
   "execution_count": 1,
   "metadata": {},
   "outputs": [],
   "source": [
    "# импорт библиотек\n",
    "import pandas as pd\n",
    "import matplotlib.pyplot as plt\n",
    "import seaborn as sns\n",
    "from scipy import stats as st"
   ]
  },
  {
   "cell_type": "code",
   "execution_count": 2,
   "metadata": {},
   "outputs": [],
   "source": [
    "df = pd.read_csv('/datasets/games.csv')"
   ]
  },
  {
   "cell_type": "code",
   "execution_count": 3,
   "metadata": {},
   "outputs": [
    {
     "data": {
      "text/html": [
       "<div>\n",
       "<style scoped>\n",
       "    .dataframe tbody tr th:only-of-type {\n",
       "        vertical-align: middle;\n",
       "    }\n",
       "\n",
       "    .dataframe tbody tr th {\n",
       "        vertical-align: top;\n",
       "    }\n",
       "\n",
       "    .dataframe thead th {\n",
       "        text-align: right;\n",
       "    }\n",
       "</style>\n",
       "<table border=\"1\" class=\"dataframe\">\n",
       "  <thead>\n",
       "    <tr style=\"text-align: right;\">\n",
       "      <th></th>\n",
       "      <th>Name</th>\n",
       "      <th>Platform</th>\n",
       "      <th>Year_of_Release</th>\n",
       "      <th>Genre</th>\n",
       "      <th>NA_sales</th>\n",
       "      <th>EU_sales</th>\n",
       "      <th>JP_sales</th>\n",
       "      <th>Other_sales</th>\n",
       "      <th>Critic_Score</th>\n",
       "      <th>User_Score</th>\n",
       "      <th>Rating</th>\n",
       "    </tr>\n",
       "  </thead>\n",
       "  <tbody>\n",
       "    <tr>\n",
       "      <th>0</th>\n",
       "      <td>Wii Sports</td>\n",
       "      <td>Wii</td>\n",
       "      <td>2006.0</td>\n",
       "      <td>Sports</td>\n",
       "      <td>41.36</td>\n",
       "      <td>28.96</td>\n",
       "      <td>3.77</td>\n",
       "      <td>8.45</td>\n",
       "      <td>76.0</td>\n",
       "      <td>8</td>\n",
       "      <td>E</td>\n",
       "    </tr>\n",
       "    <tr>\n",
       "      <th>1</th>\n",
       "      <td>Super Mario Bros.</td>\n",
       "      <td>NES</td>\n",
       "      <td>1985.0</td>\n",
       "      <td>Platform</td>\n",
       "      <td>29.08</td>\n",
       "      <td>3.58</td>\n",
       "      <td>6.81</td>\n",
       "      <td>0.77</td>\n",
       "      <td>NaN</td>\n",
       "      <td>NaN</td>\n",
       "      <td>NaN</td>\n",
       "    </tr>\n",
       "    <tr>\n",
       "      <th>2</th>\n",
       "      <td>Mario Kart Wii</td>\n",
       "      <td>Wii</td>\n",
       "      <td>2008.0</td>\n",
       "      <td>Racing</td>\n",
       "      <td>15.68</td>\n",
       "      <td>12.76</td>\n",
       "      <td>3.79</td>\n",
       "      <td>3.29</td>\n",
       "      <td>82.0</td>\n",
       "      <td>8.3</td>\n",
       "      <td>E</td>\n",
       "    </tr>\n",
       "    <tr>\n",
       "      <th>3</th>\n",
       "      <td>Wii Sports Resort</td>\n",
       "      <td>Wii</td>\n",
       "      <td>2009.0</td>\n",
       "      <td>Sports</td>\n",
       "      <td>15.61</td>\n",
       "      <td>10.93</td>\n",
       "      <td>3.28</td>\n",
       "      <td>2.95</td>\n",
       "      <td>80.0</td>\n",
       "      <td>8</td>\n",
       "      <td>E</td>\n",
       "    </tr>\n",
       "    <tr>\n",
       "      <th>4</th>\n",
       "      <td>Pokemon Red/Pokemon Blue</td>\n",
       "      <td>GB</td>\n",
       "      <td>1996.0</td>\n",
       "      <td>Role-Playing</td>\n",
       "      <td>11.27</td>\n",
       "      <td>8.89</td>\n",
       "      <td>10.22</td>\n",
       "      <td>1.00</td>\n",
       "      <td>NaN</td>\n",
       "      <td>NaN</td>\n",
       "      <td>NaN</td>\n",
       "    </tr>\n",
       "  </tbody>\n",
       "</table>\n",
       "</div>"
      ],
      "text/plain": [
       "                       Name Platform  Year_of_Release         Genre  NA_sales  \\\n",
       "0                Wii Sports      Wii           2006.0        Sports     41.36   \n",
       "1         Super Mario Bros.      NES           1985.0      Platform     29.08   \n",
       "2            Mario Kart Wii      Wii           2008.0        Racing     15.68   \n",
       "3         Wii Sports Resort      Wii           2009.0        Sports     15.61   \n",
       "4  Pokemon Red/Pokemon Blue       GB           1996.0  Role-Playing     11.27   \n",
       "\n",
       "   EU_sales  JP_sales  Other_sales  Critic_Score User_Score Rating  \n",
       "0     28.96      3.77         8.45          76.0          8      E  \n",
       "1      3.58      6.81         0.77           NaN        NaN    NaN  \n",
       "2     12.76      3.79         3.29          82.0        8.3      E  \n",
       "3     10.93      3.28         2.95          80.0          8      E  \n",
       "4      8.89     10.22         1.00           NaN        NaN    NaN  "
      ]
     },
     "execution_count": 3,
     "metadata": {},
     "output_type": "execute_result"
    }
   ],
   "source": [
    "# посмотрим первые 5 строк\n",
    "df.head()"
   ]
  },
  {
   "cell_type": "code",
   "execution_count": 4,
   "metadata": {},
   "outputs": [
    {
     "name": "stdout",
     "output_type": "stream",
     "text": [
      "<class 'pandas.core.frame.DataFrame'>\n",
      "RangeIndex: 16715 entries, 0 to 16714\n",
      "Data columns (total 11 columns):\n",
      " #   Column           Non-Null Count  Dtype  \n",
      "---  ------           --------------  -----  \n",
      " 0   Name             16713 non-null  object \n",
      " 1   Platform         16715 non-null  object \n",
      " 2   Year_of_Release  16446 non-null  float64\n",
      " 3   Genre            16713 non-null  object \n",
      " 4   NA_sales         16715 non-null  float64\n",
      " 5   EU_sales         16715 non-null  float64\n",
      " 6   JP_sales         16715 non-null  float64\n",
      " 7   Other_sales      16715 non-null  float64\n",
      " 8   Critic_Score     8137 non-null   float64\n",
      " 9   User_Score       10014 non-null  object \n",
      " 10  Rating           9949 non-null   object \n",
      "dtypes: float64(6), object(5)\n",
      "memory usage: 1.4+ MB\n"
     ]
    }
   ],
   "source": [
    "# общая информация\n",
    "df.info()"
   ]
  },
  {
   "cell_type": "markdown",
   "metadata": {},
   "source": [
    "В датасете 11 столбцов и 16715 строк. В столбце `Year_of_Release` тип данных изменим на int. В столбце `User_Score` на float.\n",
    "\n",
    "Названия колонок приведём к нижнему регистру."
   ]
  },
  {
   "cell_type": "code",
   "execution_count": 5,
   "metadata": {
    "scrolled": true
   },
   "outputs": [
    {
     "data": {
      "text/plain": [
       "Name                  2\n",
       "Platform              0\n",
       "Year_of_Release     269\n",
       "Genre                 2\n",
       "NA_sales              0\n",
       "EU_sales              0\n",
       "JP_sales              0\n",
       "Other_sales           0\n",
       "Critic_Score       8578\n",
       "User_Score         6701\n",
       "Rating             6766\n",
       "dtype: int64"
      ]
     },
     "execution_count": 5,
     "metadata": {},
     "output_type": "execute_result"
    }
   ],
   "source": [
    "# проверим сумму пропусков\n",
    "df.isna().sum()"
   ]
  },
  {
   "cell_type": "markdown",
   "metadata": {},
   "source": [
    "В датасете много пропусков"
   ]
  },
  {
   "cell_type": "code",
   "execution_count": 6,
   "metadata": {},
   "outputs": [
    {
     "data": {
      "text/plain": [
       "0"
      ]
     },
     "execution_count": 6,
     "metadata": {},
     "output_type": "execute_result"
    }
   ],
   "source": [
    "# проверим наличие дубликатов\n",
    "df.duplicated().sum()"
   ]
  },
  {
   "cell_type": "markdown",
   "metadata": {},
   "source": [
    "Явных дубликатов нет."
   ]
  },
  {
   "cell_type": "code",
   "execution_count": 7,
   "metadata": {},
   "outputs": [
    {
     "data": {
      "text/html": [
       "<div>\n",
       "<style scoped>\n",
       "    .dataframe tbody tr th:only-of-type {\n",
       "        vertical-align: middle;\n",
       "    }\n",
       "\n",
       "    .dataframe tbody tr th {\n",
       "        vertical-align: top;\n",
       "    }\n",
       "\n",
       "    .dataframe thead th {\n",
       "        text-align: right;\n",
       "    }\n",
       "</style>\n",
       "<table border=\"1\" class=\"dataframe\">\n",
       "  <thead>\n",
       "    <tr style=\"text-align: right;\">\n",
       "      <th></th>\n",
       "      <th>Year_of_Release</th>\n",
       "      <th>NA_sales</th>\n",
       "      <th>EU_sales</th>\n",
       "      <th>JP_sales</th>\n",
       "      <th>Other_sales</th>\n",
       "      <th>Critic_Score</th>\n",
       "    </tr>\n",
       "  </thead>\n",
       "  <tbody>\n",
       "    <tr>\n",
       "      <th>count</th>\n",
       "      <td>16446.000000</td>\n",
       "      <td>16715.000000</td>\n",
       "      <td>16715.000000</td>\n",
       "      <td>16715.000000</td>\n",
       "      <td>16715.000000</td>\n",
       "      <td>8137.000000</td>\n",
       "    </tr>\n",
       "    <tr>\n",
       "      <th>mean</th>\n",
       "      <td>2006.484616</td>\n",
       "      <td>0.263377</td>\n",
       "      <td>0.145060</td>\n",
       "      <td>0.077617</td>\n",
       "      <td>0.047342</td>\n",
       "      <td>68.967679</td>\n",
       "    </tr>\n",
       "    <tr>\n",
       "      <th>std</th>\n",
       "      <td>5.877050</td>\n",
       "      <td>0.813604</td>\n",
       "      <td>0.503339</td>\n",
       "      <td>0.308853</td>\n",
       "      <td>0.186731</td>\n",
       "      <td>13.938165</td>\n",
       "    </tr>\n",
       "    <tr>\n",
       "      <th>min</th>\n",
       "      <td>1980.000000</td>\n",
       "      <td>0.000000</td>\n",
       "      <td>0.000000</td>\n",
       "      <td>0.000000</td>\n",
       "      <td>0.000000</td>\n",
       "      <td>13.000000</td>\n",
       "    </tr>\n",
       "    <tr>\n",
       "      <th>25%</th>\n",
       "      <td>2003.000000</td>\n",
       "      <td>0.000000</td>\n",
       "      <td>0.000000</td>\n",
       "      <td>0.000000</td>\n",
       "      <td>0.000000</td>\n",
       "      <td>60.000000</td>\n",
       "    </tr>\n",
       "    <tr>\n",
       "      <th>50%</th>\n",
       "      <td>2007.000000</td>\n",
       "      <td>0.080000</td>\n",
       "      <td>0.020000</td>\n",
       "      <td>0.000000</td>\n",
       "      <td>0.010000</td>\n",
       "      <td>71.000000</td>\n",
       "    </tr>\n",
       "    <tr>\n",
       "      <th>75%</th>\n",
       "      <td>2010.000000</td>\n",
       "      <td>0.240000</td>\n",
       "      <td>0.110000</td>\n",
       "      <td>0.040000</td>\n",
       "      <td>0.030000</td>\n",
       "      <td>79.000000</td>\n",
       "    </tr>\n",
       "    <tr>\n",
       "      <th>max</th>\n",
       "      <td>2016.000000</td>\n",
       "      <td>41.360000</td>\n",
       "      <td>28.960000</td>\n",
       "      <td>10.220000</td>\n",
       "      <td>10.570000</td>\n",
       "      <td>98.000000</td>\n",
       "    </tr>\n",
       "  </tbody>\n",
       "</table>\n",
       "</div>"
      ],
      "text/plain": [
       "       Year_of_Release      NA_sales      EU_sales      JP_sales  \\\n",
       "count     16446.000000  16715.000000  16715.000000  16715.000000   \n",
       "mean       2006.484616      0.263377      0.145060      0.077617   \n",
       "std           5.877050      0.813604      0.503339      0.308853   \n",
       "min        1980.000000      0.000000      0.000000      0.000000   \n",
       "25%        2003.000000      0.000000      0.000000      0.000000   \n",
       "50%        2007.000000      0.080000      0.020000      0.000000   \n",
       "75%        2010.000000      0.240000      0.110000      0.040000   \n",
       "max        2016.000000     41.360000     28.960000     10.220000   \n",
       "\n",
       "        Other_sales  Critic_Score  \n",
       "count  16715.000000   8137.000000  \n",
       "mean       0.047342     68.967679  \n",
       "std        0.186731     13.938165  \n",
       "min        0.000000     13.000000  \n",
       "25%        0.000000     60.000000  \n",
       "50%        0.010000     71.000000  \n",
       "75%        0.030000     79.000000  \n",
       "max       10.570000     98.000000  "
      ]
     },
     "execution_count": 7,
     "metadata": {},
     "output_type": "execute_result"
    }
   ],
   "source": [
    "# проверим разброс значений\n",
    "df.describe()"
   ]
  },
  {
   "cell_type": "markdown",
   "metadata": {},
   "source": [
    "На первый взгляд с данными всё в порядке. Отрицательных и явно выбивающихся значений нет."
   ]
  },
  {
   "cell_type": "markdown",
   "metadata": {},
   "source": [
    "## Предобработка данных\n",
    "<a id=\"preprocessing\"></a>"
   ]
  },
  {
   "cell_type": "markdown",
   "metadata": {},
   "source": [
    "* Заменим названия столбцов (приведем к нижнему регистру);\n",
    "* Преобразуем типы данных;\n",
    "* Обработайем пропуски;\n",
    "* Посчитаем суммарные продажи во всех регионах и запишем их в отдельный столбец."
   ]
  },
  {
   "cell_type": "code",
   "execution_count": 8,
   "metadata": {},
   "outputs": [],
   "source": [
    "# приведем названия столбцов к нижнему регистру\n",
    "df.columns = df.columns.str.lower()"
   ]
  },
  {
   "cell_type": "code",
   "execution_count": 9,
   "metadata": {
    "scrolled": true
   },
   "outputs": [],
   "source": [
    "# заменим год выпуска на целочисленный\n",
    "df['year_of_release'] = df['year_of_release'].astype('Int32')"
   ]
  },
  {
   "cell_type": "markdown",
   "metadata": {},
   "source": [
    "Пропуски в столбце `year_of_release` удалять не будем"
   ]
  },
  {
   "cell_type": "code",
   "execution_count": 10,
   "metadata": {
    "scrolled": false
   },
   "outputs": [
    {
     "data": {
      "text/html": [
       "<div>\n",
       "<style scoped>\n",
       "    .dataframe tbody tr th:only-of-type {\n",
       "        vertical-align: middle;\n",
       "    }\n",
       "\n",
       "    .dataframe tbody tr th {\n",
       "        vertical-align: top;\n",
       "    }\n",
       "\n",
       "    .dataframe thead th {\n",
       "        text-align: right;\n",
       "    }\n",
       "</style>\n",
       "<table border=\"1\" class=\"dataframe\">\n",
       "  <thead>\n",
       "    <tr style=\"text-align: right;\">\n",
       "      <th></th>\n",
       "      <th>name</th>\n",
       "      <th>platform</th>\n",
       "      <th>year_of_release</th>\n",
       "      <th>genre</th>\n",
       "      <th>na_sales</th>\n",
       "      <th>eu_sales</th>\n",
       "      <th>jp_sales</th>\n",
       "      <th>other_sales</th>\n",
       "      <th>critic_score</th>\n",
       "      <th>user_score</th>\n",
       "      <th>rating</th>\n",
       "    </tr>\n",
       "  </thead>\n",
       "  <tbody>\n",
       "    <tr>\n",
       "      <th>659</th>\n",
       "      <td>NaN</td>\n",
       "      <td>GEN</td>\n",
       "      <td>1993</td>\n",
       "      <td>NaN</td>\n",
       "      <td>1.78</td>\n",
       "      <td>0.53</td>\n",
       "      <td>0.00</td>\n",
       "      <td>0.08</td>\n",
       "      <td>NaN</td>\n",
       "      <td>NaN</td>\n",
       "      <td>NaN</td>\n",
       "    </tr>\n",
       "    <tr>\n",
       "      <th>14244</th>\n",
       "      <td>NaN</td>\n",
       "      <td>GEN</td>\n",
       "      <td>1993</td>\n",
       "      <td>NaN</td>\n",
       "      <td>0.00</td>\n",
       "      <td>0.00</td>\n",
       "      <td>0.03</td>\n",
       "      <td>0.00</td>\n",
       "      <td>NaN</td>\n",
       "      <td>NaN</td>\n",
       "      <td>NaN</td>\n",
       "    </tr>\n",
       "  </tbody>\n",
       "</table>\n",
       "</div>"
      ],
      "text/plain": [
       "      name platform  year_of_release genre  na_sales  eu_sales  jp_sales  \\\n",
       "659    NaN      GEN             1993   NaN      1.78      0.53      0.00   \n",
       "14244  NaN      GEN             1993   NaN      0.00      0.00      0.03   \n",
       "\n",
       "       other_sales  critic_score user_score rating  \n",
       "659           0.08           NaN        NaN    NaN  \n",
       "14244         0.00           NaN        NaN    NaN  "
      ]
     },
     "execution_count": 10,
     "metadata": {},
     "output_type": "execute_result"
    }
   ],
   "source": [
    "# проверим пропуски в столбце name\n",
    "df[df['name'].isnull()]"
   ]
  },
  {
   "cell_type": "markdown",
   "metadata": {},
   "source": [
    "В данных пропущены 2 строки с названиями игр. Обе игры вышли на платферме GEN в 1993 году. В 1993 году на этой платформе выпустили несколько игр. Также в этих строках не указаны жанр и рейтинги. Название установить не получится. Эти данные бесполезны для статистики, поэтому удалим их"
   ]
  },
  {
   "cell_type": "code",
   "execution_count": 11,
   "metadata": {},
   "outputs": [
    {
     "name": "stdout",
     "output_type": "stream",
     "text": [
      "<class 'pandas.core.frame.DataFrame'>\n",
      "Int64Index: 16713 entries, 0 to 16714\n",
      "Data columns (total 11 columns):\n",
      " #   Column           Non-Null Count  Dtype  \n",
      "---  ------           --------------  -----  \n",
      " 0   name             16713 non-null  object \n",
      " 1   platform         16713 non-null  object \n",
      " 2   year_of_release  16444 non-null  Int32  \n",
      " 3   genre            16713 non-null  object \n",
      " 4   na_sales         16713 non-null  float64\n",
      " 5   eu_sales         16713 non-null  float64\n",
      " 6   jp_sales         16713 non-null  float64\n",
      " 7   other_sales      16713 non-null  float64\n",
      " 8   critic_score     8137 non-null   float64\n",
      " 9   user_score       10014 non-null  object \n",
      " 10  rating           9949 non-null   object \n",
      "dtypes: Int32(1), float64(5), object(5)\n",
      "memory usage: 1.5+ MB\n"
     ]
    }
   ],
   "source": [
    "df.dropna(subset=['name'], inplace=True)\n",
    "df.reset_index()\n",
    "df.info()"
   ]
  },
  {
   "cell_type": "code",
   "execution_count": 12,
   "metadata": {},
   "outputs": [
    {
     "data": {
      "text/html": [
       "<div>\n",
       "<style scoped>\n",
       "    .dataframe tbody tr th:only-of-type {\n",
       "        vertical-align: middle;\n",
       "    }\n",
       "\n",
       "    .dataframe tbody tr th {\n",
       "        vertical-align: top;\n",
       "    }\n",
       "\n",
       "    .dataframe thead th {\n",
       "        text-align: right;\n",
       "    }\n",
       "</style>\n",
       "<table border=\"1\" class=\"dataframe\">\n",
       "  <thead>\n",
       "    <tr style=\"text-align: right;\">\n",
       "      <th></th>\n",
       "      <th>name</th>\n",
       "      <th>platform</th>\n",
       "      <th>year_of_release</th>\n",
       "      <th>genre</th>\n",
       "      <th>na_sales</th>\n",
       "      <th>eu_sales</th>\n",
       "      <th>jp_sales</th>\n",
       "      <th>other_sales</th>\n",
       "      <th>critic_score</th>\n",
       "      <th>user_score</th>\n",
       "      <th>rating</th>\n",
       "    </tr>\n",
       "  </thead>\n",
       "  <tbody>\n",
       "    <tr>\n",
       "      <th>119</th>\n",
       "      <td>Zumba Fitness</td>\n",
       "      <td>Wii</td>\n",
       "      <td>2010</td>\n",
       "      <td>Sports</td>\n",
       "      <td>3.45</td>\n",
       "      <td>2.59</td>\n",
       "      <td>0.0</td>\n",
       "      <td>0.66</td>\n",
       "      <td>NaN</td>\n",
       "      <td>tbd</td>\n",
       "      <td>E</td>\n",
       "    </tr>\n",
       "    <tr>\n",
       "      <th>301</th>\n",
       "      <td>Namco Museum: 50th Anniversary</td>\n",
       "      <td>PS2</td>\n",
       "      <td>2005</td>\n",
       "      <td>Misc</td>\n",
       "      <td>2.08</td>\n",
       "      <td>1.35</td>\n",
       "      <td>0.0</td>\n",
       "      <td>0.54</td>\n",
       "      <td>61.0</td>\n",
       "      <td>tbd</td>\n",
       "      <td>E10+</td>\n",
       "    </tr>\n",
       "    <tr>\n",
       "      <th>520</th>\n",
       "      <td>Zumba Fitness 2</td>\n",
       "      <td>Wii</td>\n",
       "      <td>2011</td>\n",
       "      <td>Sports</td>\n",
       "      <td>1.51</td>\n",
       "      <td>1.03</td>\n",
       "      <td>0.0</td>\n",
       "      <td>0.27</td>\n",
       "      <td>NaN</td>\n",
       "      <td>tbd</td>\n",
       "      <td>T</td>\n",
       "    </tr>\n",
       "    <tr>\n",
       "      <th>645</th>\n",
       "      <td>uDraw Studio</td>\n",
       "      <td>Wii</td>\n",
       "      <td>2010</td>\n",
       "      <td>Misc</td>\n",
       "      <td>1.65</td>\n",
       "      <td>0.57</td>\n",
       "      <td>0.0</td>\n",
       "      <td>0.20</td>\n",
       "      <td>71.0</td>\n",
       "      <td>tbd</td>\n",
       "      <td>E</td>\n",
       "    </tr>\n",
       "    <tr>\n",
       "      <th>657</th>\n",
       "      <td>Frogger's Adventures: Temple of the Frog</td>\n",
       "      <td>GBA</td>\n",
       "      <td>&lt;NA&gt;</td>\n",
       "      <td>Adventure</td>\n",
       "      <td>2.15</td>\n",
       "      <td>0.18</td>\n",
       "      <td>0.0</td>\n",
       "      <td>0.07</td>\n",
       "      <td>73.0</td>\n",
       "      <td>tbd</td>\n",
       "      <td>E</td>\n",
       "    </tr>\n",
       "  </tbody>\n",
       "</table>\n",
       "</div>"
      ],
      "text/plain": [
       "                                         name platform  year_of_release  \\\n",
       "119                             Zumba Fitness      Wii             2010   \n",
       "301            Namco Museum: 50th Anniversary      PS2             2005   \n",
       "520                           Zumba Fitness 2      Wii             2011   \n",
       "645                              uDraw Studio      Wii             2010   \n",
       "657  Frogger's Adventures: Temple of the Frog      GBA             <NA>   \n",
       "\n",
       "         genre  na_sales  eu_sales  jp_sales  other_sales  critic_score  \\\n",
       "119     Sports      3.45      2.59       0.0         0.66           NaN   \n",
       "301       Misc      2.08      1.35       0.0         0.54          61.0   \n",
       "520     Sports      1.51      1.03       0.0         0.27           NaN   \n",
       "645       Misc      1.65      0.57       0.0         0.20          71.0   \n",
       "657  Adventure      2.15      0.18       0.0         0.07          73.0   \n",
       "\n",
       "    user_score rating  \n",
       "119        tbd      E  \n",
       "301        tbd   E10+  \n",
       "520        tbd      T  \n",
       "645        tbd      E  \n",
       "657        tbd      E  "
      ]
     },
     "execution_count": 12,
     "metadata": {},
     "output_type": "execute_result"
    }
   ],
   "source": [
    "# посмотрим на значение 'tbd' в оценке пользователей\n",
    "df[df['user_score']==\"tbd\"].head()"
   ]
  },
  {
   "cell_type": "markdown",
   "metadata": {},
   "source": [
    "Закономерности в появлении этого значения на первый взгляд не видно.\n",
    "\n",
    "TBD - аббревиатура от английского To Be Determined (будет определено) или To Be Decided (будет решено). Используется, если какая-то информация еще не определена или решение по вопросу не принято. Акроним служит для отметки неясностей или пропусков, которые надо заполнить, в информации требований.\n",
    "https://mobilradio.ru/information/vocabulary/tbd.htm\n",
    "\n",
    "Обработаем эти значения как NaN. Строковые значения в `user_score` поменяем на тип данных float для удобства расчетов."
   ]
  },
  {
   "cell_type": "code",
   "execution_count": 13,
   "metadata": {},
   "outputs": [],
   "source": [
    "# заменим тип данных в столбце user_score методом to_numeric. Аргумент errors='coerce' \n",
    "# добавим, чтобы 'tbd' поменялось на NaN\n",
    "df['user_score'] = pd.to_numeric(df['user_score'], errors='coerce')"
   ]
  },
  {
   "cell_type": "code",
   "execution_count": 14,
   "metadata": {},
   "outputs": [
    {
     "data": {
      "text/html": [
       "<div>\n",
       "<style scoped>\n",
       "    .dataframe tbody tr th:only-of-type {\n",
       "        vertical-align: middle;\n",
       "    }\n",
       "\n",
       "    .dataframe tbody tr th {\n",
       "        vertical-align: top;\n",
       "    }\n",
       "\n",
       "    .dataframe thead th {\n",
       "        text-align: right;\n",
       "    }\n",
       "</style>\n",
       "<table border=\"1\" class=\"dataframe\">\n",
       "  <thead>\n",
       "    <tr style=\"text-align: right;\">\n",
       "      <th></th>\n",
       "      <th>name</th>\n",
       "      <th>platform</th>\n",
       "      <th>year_of_release</th>\n",
       "      <th>genre</th>\n",
       "      <th>na_sales</th>\n",
       "      <th>eu_sales</th>\n",
       "      <th>jp_sales</th>\n",
       "      <th>other_sales</th>\n",
       "      <th>critic_score</th>\n",
       "      <th>user_score</th>\n",
       "      <th>rating</th>\n",
       "    </tr>\n",
       "  </thead>\n",
       "  <tbody>\n",
       "    <tr>\n",
       "      <th>1</th>\n",
       "      <td>Super Mario Bros.</td>\n",
       "      <td>NES</td>\n",
       "      <td>1985</td>\n",
       "      <td>Platform</td>\n",
       "      <td>29.08</td>\n",
       "      <td>3.58</td>\n",
       "      <td>6.81</td>\n",
       "      <td>0.77</td>\n",
       "      <td>NaN</td>\n",
       "      <td>NaN</td>\n",
       "      <td>NaN</td>\n",
       "    </tr>\n",
       "    <tr>\n",
       "      <th>4</th>\n",
       "      <td>Pokemon Red/Pokemon Blue</td>\n",
       "      <td>GB</td>\n",
       "      <td>1996</td>\n",
       "      <td>Role-Playing</td>\n",
       "      <td>11.27</td>\n",
       "      <td>8.89</td>\n",
       "      <td>10.22</td>\n",
       "      <td>1.00</td>\n",
       "      <td>NaN</td>\n",
       "      <td>NaN</td>\n",
       "      <td>NaN</td>\n",
       "    </tr>\n",
       "    <tr>\n",
       "      <th>5</th>\n",
       "      <td>Tetris</td>\n",
       "      <td>GB</td>\n",
       "      <td>1989</td>\n",
       "      <td>Puzzle</td>\n",
       "      <td>23.20</td>\n",
       "      <td>2.26</td>\n",
       "      <td>4.22</td>\n",
       "      <td>0.58</td>\n",
       "      <td>NaN</td>\n",
       "      <td>NaN</td>\n",
       "      <td>NaN</td>\n",
       "    </tr>\n",
       "    <tr>\n",
       "      <th>9</th>\n",
       "      <td>Duck Hunt</td>\n",
       "      <td>NES</td>\n",
       "      <td>1984</td>\n",
       "      <td>Shooter</td>\n",
       "      <td>26.93</td>\n",
       "      <td>0.63</td>\n",
       "      <td>0.28</td>\n",
       "      <td>0.47</td>\n",
       "      <td>NaN</td>\n",
       "      <td>NaN</td>\n",
       "      <td>NaN</td>\n",
       "    </tr>\n",
       "    <tr>\n",
       "      <th>10</th>\n",
       "      <td>Nintendogs</td>\n",
       "      <td>DS</td>\n",
       "      <td>2005</td>\n",
       "      <td>Simulation</td>\n",
       "      <td>9.05</td>\n",
       "      <td>10.95</td>\n",
       "      <td>1.93</td>\n",
       "      <td>2.74</td>\n",
       "      <td>NaN</td>\n",
       "      <td>NaN</td>\n",
       "      <td>NaN</td>\n",
       "    </tr>\n",
       "  </tbody>\n",
       "</table>\n",
       "</div>"
      ],
      "text/plain": [
       "                        name platform  year_of_release         genre  \\\n",
       "1          Super Mario Bros.      NES             1985      Platform   \n",
       "4   Pokemon Red/Pokemon Blue       GB             1996  Role-Playing   \n",
       "5                     Tetris       GB             1989        Puzzle   \n",
       "9                  Duck Hunt      NES             1984       Shooter   \n",
       "10                Nintendogs       DS             2005    Simulation   \n",
       "\n",
       "    na_sales  eu_sales  jp_sales  other_sales  critic_score  user_score rating  \n",
       "1      29.08      3.58      6.81         0.77           NaN         NaN    NaN  \n",
       "4      11.27      8.89     10.22         1.00           NaN         NaN    NaN  \n",
       "5      23.20      2.26      4.22         0.58           NaN         NaN    NaN  \n",
       "9      26.93      0.63      0.28         0.47           NaN         NaN    NaN  \n",
       "10      9.05     10.95      1.93         2.74           NaN         NaN    NaN  "
      ]
     },
     "execution_count": 14,
     "metadata": {},
     "output_type": "execute_result"
    }
   ],
   "source": [
    "# изучим первые 5 пропущенных значений по рейтингу\n",
    "df[df['rating'].isnull()].head()"
   ]
  },
  {
   "cell_type": "markdown",
   "metadata": {},
   "source": [
    "В появлении пропусках есть закономерность. Если пропущено значение в столбце `rating` в столбцах в столбцах `critic_score` и `user_score` тоже пусто. Проверив несколько игр в сети интернет можно увидеть, что рейтинг ESRB играм присвоен. Скорей всего какая-то техническая ошибка в базах данных. Это можно сказать и об оценках. Пропущенные игры, как видно из таблицы, принесли большой доход. Сомнительно, что они не получили оценку критиков и пользователей. Какждую игру перебирать вручную очень долго. Поэтому оставим пропуски как есть.\n",
    "\n",
    "Удалять строки с пропусками в рейтинге не будем, чтобы не исказить статистику. Заменим на `no info` в столбце `rating` и на `999` в столбцах `critic_score` и `user_score`."
   ]
  },
  {
   "cell_type": "code",
   "execution_count": 15,
   "metadata": {},
   "outputs": [
    {
     "name": "stdout",
     "output_type": "stream",
     "text": [
      "<class 'pandas.core.frame.DataFrame'>\n",
      "Int64Index: 16713 entries, 0 to 16714\n",
      "Data columns (total 11 columns):\n",
      " #   Column           Non-Null Count  Dtype  \n",
      "---  ------           --------------  -----  \n",
      " 0   name             16713 non-null  object \n",
      " 1   platform         16713 non-null  object \n",
      " 2   year_of_release  16444 non-null  Int32  \n",
      " 3   genre            16713 non-null  object \n",
      " 4   na_sales         16713 non-null  float64\n",
      " 5   eu_sales         16713 non-null  float64\n",
      " 6   jp_sales         16713 non-null  float64\n",
      " 7   other_sales      16713 non-null  float64\n",
      " 8   critic_score     16713 non-null  float64\n",
      " 9   user_score       16713 non-null  float64\n",
      " 10  rating           16713 non-null  object \n",
      "dtypes: Int32(1), float64(6), object(4)\n",
      "memory usage: 1.5+ MB\n"
     ]
    }
   ],
   "source": [
    "df['critic_score'] = df['critic_score'].fillna(999)\n",
    "df['user_score'] = df['user_score'].fillna(999)\n",
    "df['rating'] = df['rating'].fillna('no info')\n",
    "df.info()"
   ]
  },
  {
   "cell_type": "code",
   "execution_count": 16,
   "metadata": {
    "scrolled": false
   },
   "outputs": [
    {
     "data": {
      "text/html": [
       "<div>\n",
       "<style scoped>\n",
       "    .dataframe tbody tr th:only-of-type {\n",
       "        vertical-align: middle;\n",
       "    }\n",
       "\n",
       "    .dataframe tbody tr th {\n",
       "        vertical-align: top;\n",
       "    }\n",
       "\n",
       "    .dataframe thead th {\n",
       "        text-align: right;\n",
       "    }\n",
       "</style>\n",
       "<table border=\"1\" class=\"dataframe\">\n",
       "  <thead>\n",
       "    <tr style=\"text-align: right;\">\n",
       "      <th></th>\n",
       "      <th>name</th>\n",
       "      <th>platform</th>\n",
       "      <th>year_of_release</th>\n",
       "      <th>genre</th>\n",
       "      <th>na_sales</th>\n",
       "      <th>eu_sales</th>\n",
       "      <th>jp_sales</th>\n",
       "      <th>other_sales</th>\n",
       "      <th>critic_score</th>\n",
       "      <th>user_score</th>\n",
       "      <th>rating</th>\n",
       "      <th>total_sales</th>\n",
       "    </tr>\n",
       "  </thead>\n",
       "  <tbody>\n",
       "    <tr>\n",
       "      <th>0</th>\n",
       "      <td>Wii Sports</td>\n",
       "      <td>Wii</td>\n",
       "      <td>2006</td>\n",
       "      <td>Sports</td>\n",
       "      <td>41.36</td>\n",
       "      <td>28.96</td>\n",
       "      <td>3.77</td>\n",
       "      <td>8.45</td>\n",
       "      <td>76.0</td>\n",
       "      <td>8.0</td>\n",
       "      <td>E</td>\n",
       "      <td>82.54</td>\n",
       "    </tr>\n",
       "    <tr>\n",
       "      <th>1</th>\n",
       "      <td>Super Mario Bros.</td>\n",
       "      <td>NES</td>\n",
       "      <td>1985</td>\n",
       "      <td>Platform</td>\n",
       "      <td>29.08</td>\n",
       "      <td>3.58</td>\n",
       "      <td>6.81</td>\n",
       "      <td>0.77</td>\n",
       "      <td>999.0</td>\n",
       "      <td>999.0</td>\n",
       "      <td>no info</td>\n",
       "      <td>40.24</td>\n",
       "    </tr>\n",
       "    <tr>\n",
       "      <th>2</th>\n",
       "      <td>Mario Kart Wii</td>\n",
       "      <td>Wii</td>\n",
       "      <td>2008</td>\n",
       "      <td>Racing</td>\n",
       "      <td>15.68</td>\n",
       "      <td>12.76</td>\n",
       "      <td>3.79</td>\n",
       "      <td>3.29</td>\n",
       "      <td>82.0</td>\n",
       "      <td>8.3</td>\n",
       "      <td>E</td>\n",
       "      <td>35.52</td>\n",
       "    </tr>\n",
       "    <tr>\n",
       "      <th>3</th>\n",
       "      <td>Wii Sports Resort</td>\n",
       "      <td>Wii</td>\n",
       "      <td>2009</td>\n",
       "      <td>Sports</td>\n",
       "      <td>15.61</td>\n",
       "      <td>10.93</td>\n",
       "      <td>3.28</td>\n",
       "      <td>2.95</td>\n",
       "      <td>80.0</td>\n",
       "      <td>8.0</td>\n",
       "      <td>E</td>\n",
       "      <td>32.77</td>\n",
       "    </tr>\n",
       "    <tr>\n",
       "      <th>4</th>\n",
       "      <td>Pokemon Red/Pokemon Blue</td>\n",
       "      <td>GB</td>\n",
       "      <td>1996</td>\n",
       "      <td>Role-Playing</td>\n",
       "      <td>11.27</td>\n",
       "      <td>8.89</td>\n",
       "      <td>10.22</td>\n",
       "      <td>1.00</td>\n",
       "      <td>999.0</td>\n",
       "      <td>999.0</td>\n",
       "      <td>no info</td>\n",
       "      <td>31.38</td>\n",
       "    </tr>\n",
       "  </tbody>\n",
       "</table>\n",
       "</div>"
      ],
      "text/plain": [
       "                       name platform  year_of_release         genre  na_sales  \\\n",
       "0                Wii Sports      Wii             2006        Sports     41.36   \n",
       "1         Super Mario Bros.      NES             1985      Platform     29.08   \n",
       "2            Mario Kart Wii      Wii             2008        Racing     15.68   \n",
       "3         Wii Sports Resort      Wii             2009        Sports     15.61   \n",
       "4  Pokemon Red/Pokemon Blue       GB             1996  Role-Playing     11.27   \n",
       "\n",
       "   eu_sales  jp_sales  other_sales  critic_score  user_score   rating  \\\n",
       "0     28.96      3.77         8.45          76.0         8.0        E   \n",
       "1      3.58      6.81         0.77         999.0       999.0  no info   \n",
       "2     12.76      3.79         3.29          82.0         8.3        E   \n",
       "3     10.93      3.28         2.95          80.0         8.0        E   \n",
       "4      8.89     10.22         1.00         999.0       999.0  no info   \n",
       "\n",
       "   total_sales  \n",
       "0        82.54  \n",
       "1        40.24  \n",
       "2        35.52  \n",
       "3        32.77  \n",
       "4        31.38  "
      ]
     },
     "execution_count": 16,
     "metadata": {},
     "output_type": "execute_result"
    }
   ],
   "source": [
    "# добавим столбец с суммарными продажами по всем регионам\n",
    "df['total_sales'] = df[['na_sales', 'eu_sales', 'jp_sales', 'other_sales']].sum(axis = 1)\n",
    "df.head()"
   ]
  },
  {
   "cell_type": "markdown",
   "metadata": {},
   "source": [
    "## Исследовательский анализ данных\n",
    "<a id=\"analysis\"></a>"
   ]
  },
  {
   "cell_type": "markdown",
   "metadata": {},
   "source": [
    "### Выпуск игр в разные годы"
   ]
  },
  {
   "cell_type": "markdown",
   "metadata": {},
   "source": [
    "Посмотрим, сколько игр выпускалось в разные годы."
   ]
  },
  {
   "cell_type": "code",
   "execution_count": 17,
   "metadata": {},
   "outputs": [
    {
     "data": {
      "image/png": "[encoded data removed]",
      "text/plain": [
       "<Figure size 720x360 with 1 Axes>"
      ]
     },
     "metadata": {
      "needs_background": "light"
     },
     "output_type": "display_data"
    }
   ],
   "source": [
    "# проверим разброс выпуска игр по годам\n",
    "df.pivot_table(index = 'year_of_release', values = 'name', \n",
    "               aggfunc = 'count').plot(kind='bar', color='c',figsize=(10,5))\n",
    "plt.title('Зависимость количества игр от года выпуска')\n",
    "plt.xlabel('Год выпуска')\n",
    "plt.ylabel('Количество игр')\n",
    "plt.show()"
   ]
  },
  {
   "cell_type": "markdown",
   "metadata": {},
   "source": [
    "Темп появления новых игр начал уверенно расти с 1994 года. В 2008-2009 был самый пик популярности компьютерных игр. В 2012 темп выпуска снизился почти в два раза и держался примерно на одном уровне до 2016 года."
   ]
  },
  {
   "cell_type": "markdown",
   "metadata": {},
   "source": [
    "### Анализ срока жизни игровых платформ"
   ]
  },
  {
   "cell_type": "markdown",
   "metadata": {},
   "source": [
    "Изучим, как менялись продажи по платформам. Выберим платформы с наибольшими суммарными продажами и построим распределение по годам. За какой характерный срок появляются новые и исчезают старые платформы?"
   ]
  },
  {
   "cell_type": "code",
   "execution_count": 18,
   "metadata": {},
   "outputs": [
    {
     "data": {
      "text/html": [
       "<div>\n",
       "<style scoped>\n",
       "    .dataframe tbody tr th:only-of-type {\n",
       "        vertical-align: middle;\n",
       "    }\n",
       "\n",
       "    .dataframe tbody tr th {\n",
       "        vertical-align: top;\n",
       "    }\n",
       "\n",
       "    .dataframe thead th {\n",
       "        text-align: right;\n",
       "    }\n",
       "</style>\n",
       "<table border=\"1\" class=\"dataframe\">\n",
       "  <thead>\n",
       "    <tr style=\"text-align: right;\">\n",
       "      <th></th>\n",
       "      <th>total_sales</th>\n",
       "    </tr>\n",
       "    <tr>\n",
       "      <th>platform</th>\n",
       "      <th></th>\n",
       "    </tr>\n",
       "  </thead>\n",
       "  <tbody>\n",
       "    <tr>\n",
       "      <th>PS2</th>\n",
       "      <td>1255.77</td>\n",
       "    </tr>\n",
       "    <tr>\n",
       "      <th>X360</th>\n",
       "      <td>971.42</td>\n",
       "    </tr>\n",
       "    <tr>\n",
       "      <th>PS3</th>\n",
       "      <td>939.65</td>\n",
       "    </tr>\n",
       "    <tr>\n",
       "      <th>Wii</th>\n",
       "      <td>907.51</td>\n",
       "    </tr>\n",
       "    <tr>\n",
       "      <th>DS</th>\n",
       "      <td>806.12</td>\n",
       "    </tr>\n",
       "  </tbody>\n",
       "</table>\n",
       "</div>"
      ],
      "text/plain": [
       "          total_sales\n",
       "platform             \n",
       "PS2           1255.77\n",
       "X360           971.42\n",
       "PS3            939.65\n",
       "Wii            907.51\n",
       "DS             806.12"
      ]
     },
     "execution_count": 18,
     "metadata": {},
     "output_type": "execute_result"
    }
   ],
   "source": [
    "platform_top = df.pivot_table(\n",
    "    index='platform', values='total_sales', aggfunc='sum').sort_values(by='total_sales', \n",
    "                                                                       ascending = False).head()\n",
    "platform_top"
   ]
  },
  {
   "cell_type": "code",
   "execution_count": 19,
   "metadata": {
    "scrolled": true
   },
   "outputs": [
    {
     "data": {
      "image/png": "[encoded data removed]",
      "text/plain": [
       "<Figure size 1080x360 with 1 Axes>"
      ]
     },
     "metadata": {
      "needs_background": "light"
     },
     "output_type": "display_data"
    }
   ],
   "source": [
    "platform_top_query = df.query('platform in @platform_top.index').pivot_table(\n",
    "    index='year_of_release', columns = 'platform', values='total_sales', aggfunc='sum'\n",
    ").plot(kind='bar', figsize=(15, 5), width=0.8, grid=True)\n",
    "plt.title('Распределение по годам продаж игр на 5 самых популярных платформах')\n",
    "plt.xlabel('Год выпуска')\n",
    "plt.ylabel('Суммарный доход')\n",
    "plt.show()"
   ]
  },
  {
   "cell_type": "markdown",
   "metadata": {},
   "source": [
    "Исходя из статистики средний срок срок существования игровых платформ составляет 10 лет. Пика популярности платформа достигает через 4-6 лет после релиза. Далее продажи идут на спад и достигают нуля. Топ-5 игровых платформ за 31 год к 2016 ушли в прошлое. Только X360 и PS3 в 2016 году еще приносили незначительный доход. Но судя по тенденции они тоже вскоре покинут рынок."
   ]
  },
  {
   "cell_type": "markdown",
   "metadata": {},
   "source": [
    "Для прогнозирования потенциально прибыльной платформы возьмем промежуток в 3 года с 2014 по 2016 года. Не будем брать слишком длинный временной отрезок, т.к. рынок компьютерных игр очень динамичен. Так мы увидим прибыль от каких платформ пошла на спад, а какие только набирают популярность."
   ]
  },
  {
   "cell_type": "markdown",
   "metadata": {},
   "source": [
    "### Потенциально прибыльные платформы"
   ]
  },
  {
   "cell_type": "markdown",
   "metadata": {},
   "source": [
    "Проанализируем как менялись продажи по платформам. Выберим несколько потенциально прибыльных платформ.\n",
    "Построим график «ящик с усами» по глобальным продажам игр в разбивке по платформам."
   ]
  },
  {
   "cell_type": "code",
   "execution_count": 20,
   "metadata": {},
   "outputs": [],
   "source": [
    "# сделаем срез с 2014 по 2016 гг\n",
    "df_year = df.query('year_of_release>=2014')"
   ]
  },
  {
   "cell_type": "code",
   "execution_count": 21,
   "metadata": {},
   "outputs": [
    {
     "data": {
      "text/html": [
       "<div>\n",
       "<style scoped>\n",
       "    .dataframe tbody tr th:only-of-type {\n",
       "        vertical-align: middle;\n",
       "    }\n",
       "\n",
       "    .dataframe tbody tr th {\n",
       "        vertical-align: top;\n",
       "    }\n",
       "\n",
       "    .dataframe thead th {\n",
       "        text-align: right;\n",
       "    }\n",
       "</style>\n",
       "<table border=\"1\" class=\"dataframe\">\n",
       "  <thead>\n",
       "    <tr style=\"text-align: right;\">\n",
       "      <th></th>\n",
       "      <th>total_sales</th>\n",
       "    </tr>\n",
       "    <tr>\n",
       "      <th>platform</th>\n",
       "      <th></th>\n",
       "    </tr>\n",
       "  </thead>\n",
       "  <tbody>\n",
       "    <tr>\n",
       "      <th>PS4</th>\n",
       "      <td>288.15</td>\n",
       "    </tr>\n",
       "    <tr>\n",
       "      <th>XOne</th>\n",
       "      <td>140.36</td>\n",
       "    </tr>\n",
       "    <tr>\n",
       "      <th>3DS</th>\n",
       "      <td>86.68</td>\n",
       "    </tr>\n",
       "    <tr>\n",
       "      <th>PS3</th>\n",
       "      <td>68.18</td>\n",
       "    </tr>\n",
       "    <tr>\n",
       "      <th>X360</th>\n",
       "      <td>48.22</td>\n",
       "    </tr>\n",
       "  </tbody>\n",
       "</table>\n",
       "</div>"
      ],
      "text/plain": [
       "          total_sales\n",
       "platform             \n",
       "PS4            288.15\n",
       "XOne           140.36\n",
       "3DS             86.68\n",
       "PS3             68.18\n",
       "X360            48.22"
      ]
     },
     "execution_count": 21,
     "metadata": {},
     "output_type": "execute_result"
    }
   ],
   "source": [
    "# посмотрим топ-5 платформ по продажам за актуальный период\n",
    "platform_top_year = df_year.pivot_table(\n",
    "    index='platform', values='total_sales', aggfunc='sum').sort_values(by='total_sales', \n",
    "                                                                       ascending = False).head()\n",
    "platform_top_year"
   ]
  },
  {
   "cell_type": "markdown",
   "metadata": {},
   "source": [
    "По продажам по прежнему в 5 лидеров PS3\tи X360. Более новая версия PS4 лидирует по продажам. Рассмотрим более подробно на графике."
   ]
  },
  {
   "cell_type": "code",
   "execution_count": 22,
   "metadata": {},
   "outputs": [
    {
     "data": {
      "image/png": "[encoded data removed]",
      "text/plain": [
       "<Figure size 1080x504 with 1 Axes>"
      ]
     },
     "metadata": {
      "needs_background": "light"
     },
     "output_type": "display_data"
    }
   ],
   "source": [
    "# построим рапределение продаж на платформах по годам за актуальный период\n",
    "df_year.pivot_table(\n",
    "    index='year_of_release', columns = 'platform', values='total_sales', aggfunc='sum'\n",
    ").plot(kind='bar', figsize=(15, 7), width=0.8, grid=True)\n",
    "plt.title('Распределение по годам продаж игр на 5 самых популярных платформах')\n",
    "plt.xlabel('Год выпуска')\n",
    "plt.ylabel('Суммарный доход')\n",
    "plt.show()"
   ]
  },
  {
   "cell_type": "markdown",
   "metadata": {},
   "source": [
    "На графике видно, что 2016 год был не слишком прибыльным в плане продаж компьютерных игр. Выделяются платформы PS4, XOne, которые появились в 2013 году, но уже стартанули вверх по продажам. Исходя из статистики эти платформы просуществуют на рынке как минимум 6 лет, а в 2017 году ещё могут побороться за звание самых продаваемых.\n",
    "Продажи по всем остальным платформам сильно падают."
   ]
  },
  {
   "cell_type": "code",
   "execution_count": 23,
   "metadata": {},
   "outputs": [
    {
     "data": {
      "text/plain": [
       "Text(0, 0.5, 'Платформа')"
      ]
     },
     "execution_count": 23,
     "metadata": {},
     "output_type": "execute_result"
    },
    {
     "data": {
      "image/png": "[encoded data removed]",
      "text/plain": [
       "<Figure size 1296x720 with 1 Axes>"
      ]
     },
     "metadata": {
      "needs_background": "light"
     },
     "output_type": "display_data"
    }
   ],
   "source": [
    "# построим график «ящик с усами» по глобальным продажам игр в разбивке по платформам\n",
    "plt.figure(figsize=(18,10))\n",
    "sns.boxplot(data=df_year, x='total_sales', y='platform')\n",
    "plt.title('Ящик с усами', fontsize=18)\n",
    "plt.xlabel('Глобальные продажи', fontsize=18)\n",
    "plt.ylabel('Платформа', fontsize=18)"
   ]
  },
  {
   "cell_type": "code",
   "execution_count": 24,
   "metadata": {},
   "outputs": [
    {
     "data": {
      "text/plain": [
       "Text(0, 0.5, 'Платформа')"
      ]
     },
     "execution_count": 24,
     "metadata": {},
     "output_type": "execute_result"
    },
    {
     "data": {
      "image/png": "[encoded data removed]",
      "text/plain": [
       "<Figure size 1296x720 with 1 Axes>"
      ]
     },
     "metadata": {
      "needs_background": "light"
     },
     "output_type": "display_data"
    }
   ],
   "source": [
    "# рассмотрим график поближе\n",
    "plt.figure(figsize=(18,10))\n",
    "sns.boxplot(data=df_year, x='total_sales', y='platform')\n",
    "plt.xlim(0,2)\n",
    "plt.title('Ящик с усами', fontsize=18)\n",
    "plt.xlabel('Глобальные продажи', fontsize=18)\n",
    "plt.ylabel('Платформа', fontsize=18)"
   ]
  },
  {
   "cell_type": "markdown",
   "metadata": {},
   "source": [
    "У PS4, XOne, WiiU, Wii, X360 самый широкий межквартильный размах. Мединаны этих платформ больше остальных. Можно сделать вывод, что продажи по этим платформам наиболее стабильны, а платформа WiiU, которая появилась в 2012, на которую мы не обратили внимание на предыдущих графиках тоже может в будущем стать популярной. Wii и X360 прошли пик популярности достаточно давно, поэтому не будем делать на две эти платформы ставку в 2017."
   ]
  },
  {
   "cell_type": "markdown",
   "metadata": {},
   "source": [
    "### Отзывы"
   ]
  },
  {
   "cell_type": "markdown",
   "metadata": {},
   "source": [
    "Посмотрим, как влияют на продажи внутри самой популярной платформы PS4 отзывы пользователей и критиков. Построим диаграмму рассеяния и посчитаем корреляцию между отзывами и продажами. \n",
    "Сравним с продажами игр на других платформах."
   ]
  },
  {
   "cell_type": "code",
   "execution_count": 25,
   "metadata": {
    "scrolled": true
   },
   "outputs": [
    {
     "data": {
      "text/html": [
       "<div>\n",
       "<style scoped>\n",
       "    .dataframe tbody tr th:only-of-type {\n",
       "        vertical-align: middle;\n",
       "    }\n",
       "\n",
       "    .dataframe tbody tr th {\n",
       "        vertical-align: top;\n",
       "    }\n",
       "\n",
       "    .dataframe thead th {\n",
       "        text-align: right;\n",
       "    }\n",
       "</style>\n",
       "<table border=\"1\" class=\"dataframe\">\n",
       "  <thead>\n",
       "    <tr style=\"text-align: right;\">\n",
       "      <th></th>\n",
       "      <th>critic_score</th>\n",
       "      <th>user_score</th>\n",
       "      <th>total_sales</th>\n",
       "    </tr>\n",
       "  </thead>\n",
       "  <tbody>\n",
       "    <tr>\n",
       "      <th>critic_score</th>\n",
       "      <td>1.000000</td>\n",
       "      <td>0.546434</td>\n",
       "      <td>0.401903</td>\n",
       "    </tr>\n",
       "    <tr>\n",
       "      <th>user_score</th>\n",
       "      <td>0.546434</td>\n",
       "      <td>1.000000</td>\n",
       "      <td>-0.043186</td>\n",
       "    </tr>\n",
       "    <tr>\n",
       "      <th>total_sales</th>\n",
       "      <td>0.401903</td>\n",
       "      <td>-0.043186</td>\n",
       "      <td>1.000000</td>\n",
       "    </tr>\n",
       "  </tbody>\n",
       "</table>\n",
       "</div>"
      ],
      "text/plain": [
       "              critic_score  user_score  total_sales\n",
       "critic_score      1.000000    0.546434     0.401903\n",
       "user_score        0.546434    1.000000    -0.043186\n",
       "total_sales       0.401903   -0.043186     1.000000"
      ]
     },
     "execution_count": 25,
     "metadata": {},
     "output_type": "execute_result"
    }
   ],
   "source": [
    "# сделаем срез для PS4, отбросим лишние значения\n",
    "platform_ps4 = df_year.query('platform == \"PS4\" & critic_score <= 100 & user_score <= 10')\n",
    "# посмотрим корреляцию для PS4\n",
    "platform_ps4[['critic_score', 'user_score', 'total_sales']].corr()"
   ]
  },
  {
   "cell_type": "code",
   "execution_count": 26,
   "metadata": {},
   "outputs": [
    {
     "data": {
      "text/plain": [
       "<seaborn.axisgrid.PairGrid at 0x7fb2e4f64d30>"
      ]
     },
     "execution_count": 26,
     "metadata": {},
     "output_type": "execute_result"
    },
    {
     "data": {
      "image/png": "[encoded data removed]",
      "text/plain": [
       "<Figure size 540x540 with 12 Axes>"
      ]
     },
     "metadata": {
      "needs_background": "light"
     },
     "output_type": "display_data"
    }
   ],
   "source": [
    "# построим матрицу диаграм рассеяния для PS4\n",
    "sns.pairplot(platform_ps4[['critic_score', 'user_score', 'total_sales']])"
   ]
  },
  {
   "cell_type": "code",
   "execution_count": 27,
   "metadata": {
    "scrolled": true
   },
   "outputs": [
    {
     "data": {
      "text/html": [
       "<div>\n",
       "<style scoped>\n",
       "    .dataframe tbody tr th:only-of-type {\n",
       "        vertical-align: middle;\n",
       "    }\n",
       "\n",
       "    .dataframe tbody tr th {\n",
       "        vertical-align: top;\n",
       "    }\n",
       "\n",
       "    .dataframe thead th {\n",
       "        text-align: right;\n",
       "    }\n",
       "</style>\n",
       "<table border=\"1\" class=\"dataframe\">\n",
       "  <thead>\n",
       "    <tr style=\"text-align: right;\">\n",
       "      <th></th>\n",
       "      <th>critic_score</th>\n",
       "      <th>user_score</th>\n",
       "      <th>total_sales</th>\n",
       "    </tr>\n",
       "  </thead>\n",
       "  <tbody>\n",
       "    <tr>\n",
       "      <th>critic_score</th>\n",
       "      <td>1.000000</td>\n",
       "      <td>0.504460</td>\n",
       "      <td>0.325363</td>\n",
       "    </tr>\n",
       "    <tr>\n",
       "      <th>user_score</th>\n",
       "      <td>0.504460</td>\n",
       "      <td>1.000000</td>\n",
       "      <td>0.005202</td>\n",
       "    </tr>\n",
       "    <tr>\n",
       "      <th>total_sales</th>\n",
       "      <td>0.325363</td>\n",
       "      <td>0.005202</td>\n",
       "      <td>1.000000</td>\n",
       "    </tr>\n",
       "  </tbody>\n",
       "</table>\n",
       "</div>"
      ],
      "text/plain": [
       "              critic_score  user_score  total_sales\n",
       "critic_score      1.000000    0.504460     0.325363\n",
       "user_score        0.504460    1.000000     0.005202\n",
       "total_sales       0.325363    0.005202     1.000000"
      ]
     },
     "execution_count": 27,
     "metadata": {},
     "output_type": "execute_result"
    }
   ],
   "source": [
    "# сделаем срез, отбросим лишние значения\n",
    "review = df_year.query('critic_score <= 100 & user_score <= 10')\n",
    "# посмотрим корреляцию\n",
    "review[['critic_score', 'user_score', 'total_sales']].corr()"
   ]
  },
  {
   "cell_type": "code",
   "execution_count": 28,
   "metadata": {},
   "outputs": [
    {
     "data": {
      "text/plain": [
       "<seaborn.axisgrid.PairGrid at 0x7fb2e4bfbe50>"
      ]
     },
     "execution_count": 28,
     "metadata": {},
     "output_type": "execute_result"
    },
    {
     "data": {
      "image/png": "[encoded data removed]",
      "text/plain": [
       "<Figure size 540x540 with 12 Axes>"
      ]
     },
     "metadata": {
      "needs_background": "light"
     },
     "output_type": "display_data"
    }
   ],
   "source": [
    "# построим матрицу диаграм рассеяния для всех платформ\n",
    "sns.pairplot(review[['critic_score', 'user_score', 'total_sales']])"
   ]
  },
  {
   "cell_type": "markdown",
   "metadata": {},
   "source": [
    "Корреляция между продажами и отзывами критиков положительная как в случае самой популярной платформы, так и в среднем по остальным играм. \n",
    "\n",
    "Как видно из диаграм рассеяния и корреляции отзывы критиков очень повлияли на продажи как X360 так и остальных игровых платформ. Если отзывы критиков высокие, то и продажи соответственно выше. \n",
    "\n",
    "Отзывы пользователей не настолько сильно влияют на популярность игр, но тоже имеют свой вес. Покупатели больше доверяют мнению профессионалов.\n",
    "\n",
    "Между отзывами критиков и пользователей тоже есть связь. На оценку пользователей также влияет мнегие профессионалов.\n",
    "\n",
    "Можно ещё отметить тот факт что если критикам нравится игра, то очень часто и оценка пользователя будет высокой, если смотреть в среднем по платформам."
   ]
  },
  {
   "cell_type": "markdown",
   "metadata": {},
   "source": [
    "### Жанры"
   ]
  },
  {
   "cell_type": "markdown",
   "metadata": {},
   "source": [
    "Посмотрим на общее распределение игр по жанрам"
   ]
  },
  {
   "cell_type": "code",
   "execution_count": 29,
   "metadata": {},
   "outputs": [
    {
     "data": {
      "text/plain": [
       "Text(0, 0.5, '')"
      ]
     },
     "execution_count": 29,
     "metadata": {},
     "output_type": "execute_result"
    },
    {
     "data": {
      "image/png": "[encoded data removed]",
      "text/plain": [
       "<Figure size 576x576 with 1 Axes>"
      ]
     },
     "metadata": {},
     "output_type": "display_data"
    }
   ],
   "source": [
    "# посмотрим как распределяются игры по жанрам\n",
    "df_year['genre'].value_counts().plot(kind='pie', figsize=(8, 8), legend=False, autopct='%1.1f%%')\n",
    "plt.title('Распределение игр по жанрам')\n",
    "plt.ylabel('')"
   ]
  },
  {
   "cell_type": "code",
   "execution_count": 30,
   "metadata": {},
   "outputs": [
    {
     "data": {
      "image/png": "[encoded data removed]",
      "text/plain": [
       "<Figure size 720x360 with 1 Axes>"
      ]
     },
     "metadata": {
      "needs_background": "light"
     },
     "output_type": "display_data"
    }
   ],
   "source": [
    "# построим график по прибыли от жанров\n",
    "df_year.pivot_table(index = 'genre', values = 'total_sales', \n",
    "aggfunc = 'median').sort_values(by='total_sales', ascending = False).plot(\n",
    "kind='bar', color='c',figsize=(10,5)\n",
    ")\n",
    "plt.title('Зависимость прибыли от жанра')\n",
    "plt.xlabel('Жанр')\n",
    "plt.ylabel('Прибыль')\n",
    "plt.show()"
   ]
  },
  {
   "cell_type": "markdown",
   "metadata": {},
   "source": [
    "Action - самый популярный жанр по количеству выпущенных игр, но не самый прибыльный. Его доля от общего количества составляет треть (31,6 %). Shooter очень дорогостоящий жанр. Жанр Adventure находится на 3 месте по числу всех игр, но это один из самых неприбыльных жанров. Жанры Puzzle и Strategy на последнем месте как по количеству выпускаемых игр, так и по прибыли."
   ]
  },
  {
   "cell_type": "markdown",
   "metadata": {},
   "source": [
    "## Портрет пользователя каждого региона\n",
    "<a id=\"region\"></a>"
   ]
  },
  {
   "cell_type": "markdown",
   "metadata": {},
   "source": [
    "### Самые популярные платформы (топ-5)"
   ]
  },
  {
   "cell_type": "code",
   "execution_count": 31,
   "metadata": {},
   "outputs": [],
   "source": [
    "# функция для построения графика по топ-5\n",
    "def plot_top5 (index, values, ax, title, xlabel, ylabel):\n",
    "    pivot =  df.pivot_table(\n",
    "    index=index, values=values, aggfunc='sum').sort_values(by=values, ascending = False).head()\n",
    "    pivot.plot(kind='bar', color='c', ax=axes[ax])\n",
    "    axes[ax].set_title(title)\n",
    "    axes[ax].set_xlabel(xlabel)\n",
    "    axes[ax].set_ylabel(ylabel)"
   ]
  },
  {
   "cell_type": "code",
   "execution_count": 32,
   "metadata": {
    "scrolled": false
   },
   "outputs": [
    {
     "data": {
      "image/png": "[encoded data removed]",
      "text/plain": [
       "<Figure size 1800x432 with 3 Axes>"
      ]
     },
     "metadata": {
      "needs_background": "light"
     },
     "output_type": "display_data"
    }
   ],
   "source": [
    "# выведем графики по топ-5 самых популярных платформ по регионам\n",
    "fig, axes = plt.subplots(1, 3, figsize=(25,6))\n",
    "plot_top5 ('platform','na_sales', 0, 'Топ-5 самых популярных платформ в Северной Америке', 'Платформа','Продажи')\n",
    "plot_top5 ('platform','eu_sales', 1, 'Топ-5 самых популярных платформ в Европе', 'Платформа', 'Продажи')\n",
    "plot_top5 ('platform','jp_sales', 2, 'Топ-5 самых популярных платформ в Японии', 'Платформа', 'Продажи')"
   ]
  },
  {
   "cell_type": "markdown",
   "metadata": {},
   "source": [
    "PS2 - одна из самых популярных игр по всем регионам. Её ранняя и поздняя версии PS и PS3 также вошли пятерку лидеров по регионам.\n",
    "\n",
    "X360 и Wii популярны как в Северной Америке, так и в Европе. X360 самая продаваемая игра в Северной Америке.\n",
    "\n",
    "В Европе на первом и втором месте PS2 и PS3, PS на пятом.\n",
    "\n",
    "У японцев совсем ддругая картина. Лидер продаж DS, которая не вошла в топ-5 в Европе, но на пятом месте рейтинга по Северной Америке. PS и PS2 на втором и третьем месте. На 4 и 5 месте японские игры SNES и 3DS."
   ]
  },
  {
   "cell_type": "markdown",
   "metadata": {},
   "source": [
    "### Самые популярные жанры (топ-5)"
   ]
  },
  {
   "cell_type": "code",
   "execution_count": 33,
   "metadata": {
    "scrolled": true
   },
   "outputs": [
    {
     "data": {
      "image/png": "[encoded data removed]",
      "text/plain": [
       "<Figure size 1800x504 with 3 Axes>"
      ]
     },
     "metadata": {
      "needs_background": "light"
     },
     "output_type": "display_data"
    }
   ],
   "source": [
    "# выведем графики по топ-5 самых популярных жанров по регионам\n",
    "fig, axes = plt.subplots(1, 3, figsize=(25,7))\n",
    "plot_top5 ('genre','na_sales', 0, 'Топ-5 самых популярных жанров в Северной Америке', 'Жанр','Продажи')\n",
    "plot_top5 ('genre','eu_sales', 1, 'Топ-5 самых популярных жанров в Европе', 'Жанр', 'Продажи')\n",
    "plot_top5 ('genre','jp_sales', 2, 'Топ-5 самых популярных жанров в Японии', 'Жанр', 'Продажи')"
   ]
  },
  {
   "cell_type": "markdown",
   "metadata": {},
   "source": [
    "Жанры Action, Sports и Misc входят в топ-5 по продажам во всех регионах. \n",
    "\n",
    "Продажи игр в Северной Америке самые большие по всем жанрам. \n",
    "\n",
    "В Японии меньше покупают игры, чем в других регионах. Role-Playing самый популярный жанр в Японии. В остальных страных этот жанр даже не входит в пятерку лидеров. Японцы также неохотно покупают игры жанра Shooter.\n",
    "\n",
    "Игры на Platform на 4 месте по продажам в Японии и Северной Америке. У Европейцев этот жанр не популярен."
   ]
  },
  {
   "cell_type": "markdown",
   "metadata": {},
   "source": [
    "### Влияние рейтинга ESRB на продажи в отдельном регионе"
   ]
  },
  {
   "cell_type": "code",
   "execution_count": 34,
   "metadata": {},
   "outputs": [],
   "source": [
    "# функция для графика\n",
    "def plot (index, values, ax, title, xlabel, ylabel):\n",
    "    pivot =  df.pivot_table(\n",
    "    index=index, values=values, aggfunc='sum').sort_values(by=values, ascending = False)\n",
    "    pivot.plot(kind='bar', color='c', ax=axes[ax])\n",
    "    axes[ax].set_title(title)\n",
    "    axes[ax].set_xlabel(xlabel)\n",
    "    axes[ax].set_ylabel(ylabel)"
   ]
  },
  {
   "cell_type": "code",
   "execution_count": 35,
   "metadata": {
    "scrolled": false
   },
   "outputs": [
    {
     "data": {
      "image/png": "[encoded data removed]",
      "text/plain": [
       "<Figure size 1440x432 with 3 Axes>"
      ]
     },
     "metadata": {
      "needs_background": "light"
     },
     "output_type": "display_data"
    }
   ],
   "source": [
    "# построим зависимость продаж от рейтинга ESRB по регионам\n",
    "fig, axes = plt.subplots(1, 3, figsize=(20,6))\n",
    "plot ('rating','na_sales', 0, 'Зависимость продаж от рейтинга ESRB в Северной Америке', 'Рейтинг','Продажи')\n",
    "plot ('rating','eu_sales', 1, 'Зависимость продаж от рейтинга ESRB в  Европе', 'Рейтинг', 'Продажи')\n",
    "plot ('rating','jp_sales', 2, 'Зависимость продаж от рейтинга ESRB в  Японии', 'Рейтинг', 'Продажи')"
   ]
  },
  {
   "cell_type": "markdown",
   "metadata": {},
   "source": [
    "* `EC` - «Для детей младшего возраста»: Игра подходит для детей от 3 лет и старше\n",
    "* `E` - «Для всех»: Содержание вполне подходит для возрастной категории от 6 лет и старше\n",
    "* `K-A` - «Для детей и взрослых»: Содержание игры вполне подходит для возрастной категории от 6 лет и старше\n",
    "* `E10+` - «Для всех старше 10 лет»: Возрастная категория — от 10 лет\n",
    "* `T` - «Подросткам»: Игра подходит для лиц от 13 лет и старше\n",
    "* `M` - «От 17 лет»: Материалы игры не подходят для подростков младше 17 лет\n",
    "* `AO` - «Только для взрослых»: Содержание игры только для взрослых (18+)\n",
    "* `RP` - «Рейтинг ожидается»: Продукт был отправлен в ESRB и ожидает присвоения рейтинга"
   ]
  },
  {
   "cell_type": "markdown",
   "metadata": {},
   "source": [
    "Жители Северной Америки, Европы и Японии выбирают для покупки похожие игры. На продажи влияют четыре рейтинга «E»,«T»,«M» и «E10+».\n",
    "Игры без рейтинга на втором месте по прибыли в Европе и Северной Америке. Самый популярный «E» и далее «T»,«M» и «E10+». За исключением Европы, где игры с рейтингом «M» популярнее «T». Очень много игр, где рейтинг не определен. В Японии таких проданных игр большинство. Это значит, что японцы мало обращают внимание на рейтинг при покупке игры."
   ]
  },
  {
   "cell_type": "markdown",
   "metadata": {},
   "source": [
    "## Проверка гипотез\n",
    "<a id=\"hypothesis\"></a>"
   ]
  },
  {
   "cell_type": "markdown",
   "metadata": {},
   "source": [
    "### Гипотеза 1"
   ]
  },
  {
   "cell_type": "markdown",
   "metadata": {},
   "source": [
    "**Нулевая гипотеза:**\n",
    "cредние пользовательские рейтинги платформ Xbox One и PC одинаковые"
   ]
  },
  {
   "cell_type": "markdown",
   "metadata": {},
   "source": [
    "**Альтернативная гипотеза:** \n",
    "cредние пользовательские рейтинги платформ Xbox One и PC отличаются друг от друга"
   ]
  },
  {
   "cell_type": "code",
   "execution_count": 36,
   "metadata": {},
   "outputs": [
    {
     "name": "stdout",
     "output_type": "stream",
     "text": [
      "p-значение: 4.935072360183565e-06\n",
      "Отвергаем нулевую гипотезу, альтернативную не отвергаем\n"
     ]
    }
   ],
   "source": [
    "# проверим нулевую гипотезу о равенстве\n",
    "xone = df[(df['platform']=='XOne') & (df['user_score'] <= 10)]['user_score']\n",
    "pc = df[(df['platform']=='PC') & (df['user_score'] <= 10)]['user_score']\n",
    "\n",
    "alpha = .05 # критический уровень статистической значимости\n",
    "results = st.ttest_ind(\n",
    "    xone, \n",
    "    pc,\n",
    "    equal_var = False\n",
    ")\n",
    "\n",
    "print('p-значение:', results.pvalue)\n",
    "\n",
    "if results.pvalue < alpha:\n",
    "    print(\"Отвергаем нулевую гипотезу, альтернативную не отвергаем\")\n",
    "else:\n",
    "    print(\"Не получилось отвергнуть нулевую гипотезу\")"
   ]
  },
  {
   "cell_type": "markdown",
   "metadata": {},
   "source": [
    "### Гипотеза 2"
   ]
  },
  {
   "cell_type": "markdown",
   "metadata": {},
   "source": [
    "**Нулевая гипотеза:**\n",
    "cредние пользовательские рейтинги жанров Action и Sports одинаковые"
   ]
  },
  {
   "cell_type": "markdown",
   "metadata": {},
   "source": [
    "**Альтернативная гипотеза:** \n",
    "cредние пользовательские рейтинги жанров Action и Sports разные"
   ]
  },
  {
   "cell_type": "code",
   "execution_count": 37,
   "metadata": {},
   "outputs": [
    {
     "name": "stdout",
     "output_type": "stream",
     "text": [
      "p-значение: 0.11483818791498286\n",
      "Не получилось отвергнуть нулевую гипотезу\n"
     ]
    }
   ],
   "source": [
    "# проверим нулевую гипотезу о равенстве\n",
    "action = df[(df['genre']=='Action') & (df['user_score'] <= 10)]['user_score']\n",
    "sports = df[(df['genre']=='Sports') & (df['user_score'] <= 10)]['user_score']\n",
    "\n",
    "alpha = .05 # критический уровень статистической значимости\n",
    "results = st.ttest_ind(\n",
    "    action, \n",
    "    sports,\n",
    "    equal_var = False\n",
    ")\n",
    "\n",
    "print('p-значение:', results.pvalue)\n",
    "\n",
    "if results.pvalue < alpha:\n",
    "    print(\"Отвергаем нулевую гипотезу, альтернативную не отвергаем\")\n",
    "else:\n",
    "    print(\"Не получилось отвергнуть нулевую гипотезу\")"
   ]
  },
  {
   "cell_type": "markdown",
   "metadata": {},
   "source": [
    "Для проверки гипотезы 1 и  гипотезы 2 мы использовали `scipy.stats.ttest_ind (array1, array2, equal_var)`. Это специальный метод для проверки гипотезы о равенстве среднего двух генеральных совокупностей по взятым из них выборкам.\n",
    "\n",
    "Предположим, что выборки разного размера. Возьмем параметр `equal_var = False`. \n",
    "\n",
    "В первом случае мы отвергли нулевую гипотезу о равенстве, альтернативную не отвергли.\n",
    "Во втором случае не получилось отвергнуть нулевую гипотезу."
   ]
  },
  {
   "cell_type": "markdown",
   "metadata": {},
   "source": [
    "## Общий вывод\n",
    "<a id=\"output\"></a>"
   ]
  },
  {
   "cell_type": "markdown",
   "metadata": {},
   "source": [
    "В работе мы проанализировали исторические данные с 1980 до 2016 года из открытых источников о продажах игр, оценки пользователей и экспертов, жанры и платформы с целью выявить определяющие успешность игры закономерности.\n",
    "\n",
    "С 1980 года выпускалось очень мало игр. Темп появления новых игр начал уверенно расти с 1994 года. В 2008-2009 был самый пик популярности компьютерных игр. В 2012 темп выпуска снизился почти в два раза и держался примерно на одном уровне до 2016 года.\n",
    "\n",
    "Исходя из статистики средний срок срок существования игровых платформ составляет 10 лет. Пика популярности платформа достигает через 4-6 лет после релиза. Далее продажи идут на спад и достигают нуля.\n",
    "\n",
    "Для прогнозирования потенциально прибыльной платформы взяли промежуток в 3 года. За этот период платформа достигает пика популярности. Слишком длинный временной отрезок для анализа брать не стоит, т.к. рынок компьютерных игр очень динамичен. Так мы увидим прибыль от каких платформ пошла на спад, а какие только набирают популярность. Для прогноза на 2017 год возьмем период с 2014 по 2016 год. \n",
    "\n",
    "2016 год был не слишком прибыльным в плане продаж компьютерных игр. Выделяются платформы PS4, XOne, которые появились в 2013 году, но уже стартанули вверх по продажам. Также продажи по платформе WiiU, которая появилась в 2012, достаточно стабильны. Исходя из статистики эти платформы просуществуют на рынке как минимум 6 лет, а в 2017 году ещё могут побороться за звание самых продаваемых при грамотном маркетинге. Продажи по всем остальным платформам сильно падают. Делать ставку в 2017 году на них не стоит.\n",
    "\n",
    "Отзывы критиков довольно сильно влияют на продажи. На это стоит обратить внимание при составлении прогноза. Нет смысла продвигать игровую платформу, если она не получила одобрения критиков.\n",
    "\n",
    "В тройку самых прибыльных жанров входят Shooter, Sports и Platform. Очень много выпускается игр жанра Adventure, но это один из самых неприбыльных жанров. Жанры Puzzle и Strategy на последнем месте как по количеству выпускаемых игр, так и по прибыли.\n",
    "\n",
    "По регионам Северная Америка - самый большой рынок компьютерных игр по сравнению с Европой и Японией. В Японии меньше покупают игры, чем в других регионах. Role-Playing самый популярный жанр в Японии. В остальных страных этот жанр даже не входит в пятерку лидеров. Японцы также неохотно покупают игры жанра Shooter.\n",
    "Жанры Action, Sports и Misc входят в топ-5 по продажам во всех регионах. Их можно продвигать везде.\n",
    "Игры на Platform популярны в Японии и Северной Америке. На европейском рынке лучше продвигать жанр Shooter и Racing. Shooter также нравится американцам.\n",
    "\n",
    "PS2 - одна из самых популярных игр по всем регионам. Её ранняя и поздняя версии PS и PS3 также вошли пятерку лидеров по регионам. PS4 скорей всего таже будет прибыльна во всех странах. \n",
    "X360 и Wii популярны как в Северной Америке, так и в Европе. X360 самая продаваемая игра в Северной Америке.\n",
    "XOne и WiiU лучше продвигать на европейском и американском рынках.\n",
    "Японцы предпочитают игры собственного производства, поэтому продвигать на этом рынке стоит игры японского происхождения.\n",
    "\n",
    "Влияние рейтинга ESRB на продажи в разных регионах почти одинаково. Рейтинги «E»,«T»,«M» и «E10+» популярны везде. Очень много игр, где рейтинг не определен. В Японии таких проданных игр большинство. Это значит, что японцы мало обращают внимание на рейтинг при покупке игры.\n",
    "\n",
    "Для получения наибольшей прибыли рекомендуем сосредоточится на продвижении игр в Европе и Северной Америке. Это 2 самых больших рынка. Рынок Японии очень специфичен и не приносит большого дохода. В Японии лучше продвигать игры японского происхождения."
   ]
  }
 ],
 "metadata": {
  "ExecuteTimeLog": [
   {
    "duration": 135,
    "start_time": "2022-04-23T08:48:29.596Z"
   },
   {
    "duration": 150,
    "start_time": "2022-04-23T08:48:46.353Z"
   },
   {
    "duration": 146,
    "start_time": "2022-04-23T08:48:55.883Z"
   },
   {
    "duration": 524,
    "start_time": "2022-04-23T08:49:59.826Z"
   },
   {
    "duration": 3,
    "start_time": "2022-04-23T08:50:20.616Z"
   },
   {
    "duration": 64,
    "start_time": "2022-04-23T08:50:59.388Z"
   },
   {
    "duration": 59,
    "start_time": "2022-04-23T08:51:03.770Z"
   },
   {
    "duration": 21,
    "start_time": "2022-04-23T08:51:29.849Z"
   },
   {
    "duration": 25,
    "start_time": "2022-04-23T08:51:37.834Z"
   },
   {
    "duration": 58,
    "start_time": "2022-04-23T14:17:16.491Z"
   },
   {
    "duration": 480,
    "start_time": "2022-04-23T14:17:23.448Z"
   },
   {
    "duration": 50,
    "start_time": "2022-04-23T14:17:23.931Z"
   },
   {
    "duration": 30,
    "start_time": "2022-04-23T14:17:23.983Z"
   },
   {
    "duration": 33,
    "start_time": "2022-04-23T14:17:24.019Z"
   },
   {
    "duration": 12,
    "start_time": "2022-04-23T14:17:24.054Z"
   },
   {
    "duration": 14,
    "start_time": "2022-04-23T14:18:34.276Z"
   },
   {
    "duration": 20,
    "start_time": "2022-04-23T14:20:51.438Z"
   },
   {
    "duration": 25,
    "start_time": "2022-04-23T14:21:21.968Z"
   },
   {
    "duration": 177,
    "start_time": "2022-04-23T14:47:22.489Z"
   },
   {
    "duration": 72,
    "start_time": "2022-04-23T20:02:02.209Z"
   },
   {
    "duration": 504,
    "start_time": "2022-04-23T20:02:11.499Z"
   },
   {
    "duration": 49,
    "start_time": "2022-04-23T20:02:12.006Z"
   },
   {
    "duration": 45,
    "start_time": "2022-04-23T20:02:12.061Z"
   },
   {
    "duration": 21,
    "start_time": "2022-04-23T20:02:12.108Z"
   },
   {
    "duration": 13,
    "start_time": "2022-04-23T20:02:12.131Z"
   },
   {
    "duration": 55,
    "start_time": "2022-04-23T20:02:12.146Z"
   },
   {
    "duration": 43,
    "start_time": "2022-04-23T20:02:12.204Z"
   },
   {
    "duration": 124,
    "start_time": "2022-04-23T20:02:12.249Z"
   },
   {
    "duration": 9,
    "start_time": "2022-04-23T20:04:20.521Z"
   },
   {
    "duration": 15,
    "start_time": "2022-04-23T20:05:13.598Z"
   },
   {
    "duration": 10,
    "start_time": "2022-04-23T20:06:48.337Z"
   },
   {
    "duration": 9,
    "start_time": "2022-04-23T20:07:45.446Z"
   },
   {
    "duration": 425,
    "start_time": "2022-04-24T06:24:10.595Z"
   },
   {
    "duration": 41,
    "start_time": "2022-04-24T06:24:11.022Z"
   },
   {
    "duration": 20,
    "start_time": "2022-04-24T06:24:11.065Z"
   },
   {
    "duration": 26,
    "start_time": "2022-04-24T06:24:11.087Z"
   },
   {
    "duration": 8,
    "start_time": "2022-04-24T06:24:11.115Z"
   },
   {
    "duration": 14,
    "start_time": "2022-04-24T06:24:11.125Z"
   },
   {
    "duration": 27,
    "start_time": "2022-04-24T06:24:11.141Z"
   },
   {
    "duration": 6,
    "start_time": "2022-04-24T06:24:11.170Z"
   },
   {
    "duration": 33,
    "start_time": "2022-04-24T06:24:11.177Z"
   },
   {
    "duration": 14,
    "start_time": "2022-04-24T06:24:49.520Z"
   },
   {
    "duration": 457,
    "start_time": "2022-04-24T14:52:25.145Z"
   },
   {
    "duration": 53,
    "start_time": "2022-04-24T14:52:25.604Z"
   },
   {
    "duration": 19,
    "start_time": "2022-04-24T14:52:25.658Z"
   },
   {
    "duration": 16,
    "start_time": "2022-04-24T14:52:25.678Z"
   },
   {
    "duration": 15,
    "start_time": "2022-04-24T14:52:25.696Z"
   },
   {
    "duration": 28,
    "start_time": "2022-04-24T14:52:25.713Z"
   },
   {
    "duration": 26,
    "start_time": "2022-04-24T14:52:25.743Z"
   },
   {
    "duration": 6,
    "start_time": "2022-04-24T14:52:25.770Z"
   },
   {
    "duration": 9,
    "start_time": "2022-04-24T14:52:25.778Z"
   },
   {
    "duration": 18,
    "start_time": "2022-04-24T14:52:25.803Z"
   },
   {
    "duration": 85,
    "start_time": "2022-04-24T15:00:24.671Z"
   },
   {
    "duration": 405,
    "start_time": "2022-04-24T15:00:33.497Z"
   },
   {
    "duration": 50,
    "start_time": "2022-04-24T15:00:33.905Z"
   },
   {
    "duration": 18,
    "start_time": "2022-04-24T15:00:33.956Z"
   },
   {
    "duration": 13,
    "start_time": "2022-04-24T15:00:33.975Z"
   },
   {
    "duration": 23,
    "start_time": "2022-04-24T15:00:33.990Z"
   },
   {
    "duration": 32,
    "start_time": "2022-04-24T15:00:34.015Z"
   },
   {
    "duration": 34,
    "start_time": "2022-04-24T15:00:34.048Z"
   },
   {
    "duration": 6,
    "start_time": "2022-04-24T15:00:34.084Z"
   },
   {
    "duration": 11,
    "start_time": "2022-04-24T15:00:34.092Z"
   },
   {
    "duration": 48,
    "start_time": "2022-04-24T15:00:34.104Z"
   },
   {
    "duration": 81,
    "start_time": "2022-04-24T15:00:34.154Z"
   },
   {
    "duration": 19,
    "start_time": "2022-04-24T15:02:26.778Z"
   },
   {
    "duration": 18,
    "start_time": "2022-04-24T15:07:17.393Z"
   },
   {
    "duration": 13,
    "start_time": "2022-04-24T15:07:46.255Z"
   },
   {
    "duration": 17,
    "start_time": "2022-04-24T15:10:16.984Z"
   },
   {
    "duration": 11,
    "start_time": "2022-04-24T15:10:33.491Z"
   },
   {
    "duration": 380,
    "start_time": "2022-04-24T15:10:46.577Z"
   },
   {
    "duration": 40,
    "start_time": "2022-04-24T15:10:46.959Z"
   },
   {
    "duration": 22,
    "start_time": "2022-04-24T15:10:47.004Z"
   },
   {
    "duration": 19,
    "start_time": "2022-04-24T15:10:47.028Z"
   },
   {
    "duration": 8,
    "start_time": "2022-04-24T15:10:47.048Z"
   },
   {
    "duration": 14,
    "start_time": "2022-04-24T15:10:47.058Z"
   },
   {
    "duration": 47,
    "start_time": "2022-04-24T15:10:47.074Z"
   },
   {
    "duration": 10,
    "start_time": "2022-04-24T15:10:47.123Z"
   },
   {
    "duration": 6,
    "start_time": "2022-04-24T15:10:47.134Z"
   },
   {
    "duration": 12,
    "start_time": "2022-04-24T15:10:47.143Z"
   },
   {
    "duration": 13,
    "start_time": "2022-04-24T15:10:47.157Z"
   },
   {
    "duration": 36,
    "start_time": "2022-04-24T15:10:47.172Z"
   },
   {
    "duration": 82,
    "start_time": "2022-04-24T15:10:47.210Z"
   },
   {
    "duration": 442,
    "start_time": "2022-04-24T15:11:49.598Z"
   },
   {
    "duration": 49,
    "start_time": "2022-04-24T15:11:50.046Z"
   },
   {
    "duration": 261,
    "start_time": "2022-04-24T15:11:50.097Z"
   },
   {
    "duration": 2235,
    "start_time": "2022-04-24T15:11:50.363Z"
   },
   {
    "duration": 705,
    "start_time": "2022-04-24T15:11:52.600Z"
   },
   {
    "duration": 727,
    "start_time": "2022-04-24T15:11:53.307Z"
   },
   {
    "duration": 2107,
    "start_time": "2022-04-24T15:11:54.036Z"
   },
   {
    "duration": 594,
    "start_time": "2022-04-24T15:11:56.145Z"
   },
   {
    "duration": 23,
    "start_time": "2022-04-24T15:11:56.742Z"
   },
   {
    "duration": 26,
    "start_time": "2022-04-24T15:11:56.767Z"
   },
   {
    "duration": 4,
    "start_time": "2022-04-24T15:11:56.795Z"
   },
   {
    "duration": 141,
    "start_time": "2022-04-24T15:11:56.803Z"
   },
   {
    "duration": 1,
    "start_time": "2022-04-24T15:11:56.949Z"
   },
   {
    "duration": 17,
    "start_time": "2022-04-24T15:12:32.921Z"
   },
   {
    "duration": 35,
    "start_time": "2022-04-24T15:12:52.419Z"
   },
   {
    "duration": 13,
    "start_time": "2022-04-24T15:13:09.617Z"
   },
   {
    "duration": 399,
    "start_time": "2022-04-24T15:13:23.374Z"
   },
   {
    "duration": 53,
    "start_time": "2022-04-24T15:13:23.775Z"
   },
   {
    "duration": 19,
    "start_time": "2022-04-24T15:13:23.829Z"
   },
   {
    "duration": 13,
    "start_time": "2022-04-24T15:13:23.850Z"
   },
   {
    "duration": 9,
    "start_time": "2022-04-24T15:13:23.865Z"
   },
   {
    "duration": 44,
    "start_time": "2022-04-24T15:13:23.875Z"
   },
   {
    "duration": 33,
    "start_time": "2022-04-24T15:13:23.920Z"
   },
   {
    "duration": 8,
    "start_time": "2022-04-24T15:13:23.954Z"
   },
   {
    "duration": 13,
    "start_time": "2022-04-24T15:13:23.964Z"
   },
   {
    "duration": 33,
    "start_time": "2022-04-24T15:13:23.979Z"
   },
   {
    "duration": 68,
    "start_time": "2022-04-24T15:13:24.013Z"
   },
   {
    "duration": 0,
    "start_time": "2022-04-24T15:13:24.083Z"
   },
   {
    "duration": 4,
    "start_time": "2022-04-24T15:13:39.258Z"
   },
   {
    "duration": 405,
    "start_time": "2022-04-24T15:14:00.186Z"
   },
   {
    "duration": 39,
    "start_time": "2022-04-24T15:14:00.593Z"
   },
   {
    "duration": 18,
    "start_time": "2022-04-24T15:14:00.633Z"
   },
   {
    "duration": 37,
    "start_time": "2022-04-24T15:14:00.653Z"
   },
   {
    "duration": 29,
    "start_time": "2022-04-24T15:14:00.691Z"
   },
   {
    "duration": 35,
    "start_time": "2022-04-24T15:14:00.721Z"
   },
   {
    "duration": 42,
    "start_time": "2022-04-24T15:14:00.758Z"
   },
   {
    "duration": 8,
    "start_time": "2022-04-24T15:14:00.802Z"
   },
   {
    "duration": 40,
    "start_time": "2022-04-24T15:14:00.811Z"
   },
   {
    "duration": 40,
    "start_time": "2022-04-24T15:14:00.853Z"
   },
   {
    "duration": 35,
    "start_time": "2022-04-24T15:14:00.895Z"
   },
   {
    "duration": 91,
    "start_time": "2022-04-24T15:14:00.931Z"
   },
   {
    "duration": 0,
    "start_time": "2022-04-24T15:14:01.024Z"
   },
   {
    "duration": 402,
    "start_time": "2022-04-24T15:14:45.888Z"
   },
   {
    "duration": 40,
    "start_time": "2022-04-24T15:14:46.292Z"
   },
   {
    "duration": 445,
    "start_time": "2022-04-24T15:14:46.334Z"
   },
   {
    "duration": 12,
    "start_time": "2022-04-24T15:14:46.782Z"
   },
   {
    "duration": 8,
    "start_time": "2022-04-24T15:14:46.796Z"
   },
   {
    "duration": 16,
    "start_time": "2022-04-24T15:14:46.805Z"
   },
   {
    "duration": 27,
    "start_time": "2022-04-24T15:14:46.822Z"
   },
   {
    "duration": 7,
    "start_time": "2022-04-24T15:14:46.850Z"
   },
   {
    "duration": 8,
    "start_time": "2022-04-24T15:14:46.858Z"
   },
   {
    "duration": 39,
    "start_time": "2022-04-24T15:14:46.868Z"
   },
   {
    "duration": 4,
    "start_time": "2022-04-24T15:14:46.909Z"
   },
   {
    "duration": 432,
    "start_time": "2022-04-24T15:15:36.971Z"
   },
   {
    "duration": 51,
    "start_time": "2022-04-24T15:15:37.405Z"
   },
   {
    "duration": 19,
    "start_time": "2022-04-24T15:15:37.457Z"
   },
   {
    "duration": 12,
    "start_time": "2022-04-24T15:15:37.478Z"
   },
   {
    "duration": 9,
    "start_time": "2022-04-24T15:15:37.492Z"
   },
   {
    "duration": 14,
    "start_time": "2022-04-24T15:15:37.502Z"
   },
   {
    "duration": 24,
    "start_time": "2022-04-24T15:15:37.517Z"
   },
   {
    "duration": 6,
    "start_time": "2022-04-24T15:15:37.542Z"
   },
   {
    "duration": 8,
    "start_time": "2022-04-24T15:15:37.550Z"
   },
   {
    "duration": 40,
    "start_time": "2022-04-24T15:15:37.560Z"
   },
   {
    "duration": 17,
    "start_time": "2022-04-24T15:15:37.602Z"
   },
   {
    "duration": 4,
    "start_time": "2022-04-24T15:15:37.620Z"
   },
   {
    "duration": 3,
    "start_time": "2022-04-24T15:41:53.128Z"
   },
   {
    "duration": 3,
    "start_time": "2022-04-24T15:42:27.286Z"
   },
   {
    "duration": 4,
    "start_time": "2022-04-24T16:19:08.016Z"
   },
   {
    "duration": 5,
    "start_time": "2022-04-24T16:20:00.895Z"
   },
   {
    "duration": 70,
    "start_time": "2022-04-24T16:20:52.107Z"
   },
   {
    "duration": 330,
    "start_time": "2022-04-24T16:20:59.357Z"
   },
   {
    "duration": 45,
    "start_time": "2022-04-24T16:20:59.689Z"
   },
   {
    "duration": 18,
    "start_time": "2022-04-24T16:20:59.736Z"
   },
   {
    "duration": 13,
    "start_time": "2022-04-24T16:20:59.756Z"
   },
   {
    "duration": 12,
    "start_time": "2022-04-24T16:20:59.770Z"
   },
   {
    "duration": 34,
    "start_time": "2022-04-24T16:20:59.783Z"
   },
   {
    "duration": 25,
    "start_time": "2022-04-24T16:20:59.818Z"
   },
   {
    "duration": 6,
    "start_time": "2022-04-24T16:20:59.844Z"
   },
   {
    "duration": 7,
    "start_time": "2022-04-24T16:20:59.852Z"
   },
   {
    "duration": 10,
    "start_time": "2022-04-24T16:20:59.861Z"
   },
   {
    "duration": 29,
    "start_time": "2022-04-24T16:20:59.873Z"
   },
   {
    "duration": 12,
    "start_time": "2022-04-24T16:20:59.909Z"
   },
   {
    "duration": 65,
    "start_time": "2022-04-24T16:20:59.922Z"
   },
   {
    "duration": 20,
    "start_time": "2022-04-24T16:29:56.152Z"
   },
   {
    "duration": 15,
    "start_time": "2022-04-24T16:30:15.828Z"
   },
   {
    "duration": 14,
    "start_time": "2022-04-24T16:31:24.591Z"
   },
   {
    "duration": 8,
    "start_time": "2022-04-24T16:37:59.797Z"
   },
   {
    "duration": 11,
    "start_time": "2022-04-24T16:38:16.428Z"
   },
   {
    "duration": 12,
    "start_time": "2022-04-24T17:02:31.516Z"
   },
   {
    "duration": 13,
    "start_time": "2022-04-24T17:03:14.753Z"
   },
   {
    "duration": 34,
    "start_time": "2022-04-24T17:18:31.842Z"
   },
   {
    "duration": 18,
    "start_time": "2022-04-24T17:18:43.224Z"
   },
   {
    "duration": 12,
    "start_time": "2022-04-24T17:19:03.056Z"
   },
   {
    "duration": 417,
    "start_time": "2022-04-24T17:20:22.167Z"
   },
   {
    "duration": 41,
    "start_time": "2022-04-24T17:20:22.586Z"
   },
   {
    "duration": 18,
    "start_time": "2022-04-24T17:20:22.628Z"
   },
   {
    "duration": 15,
    "start_time": "2022-04-24T17:20:22.647Z"
   },
   {
    "duration": 8,
    "start_time": "2022-04-24T17:20:22.665Z"
   },
   {
    "duration": 36,
    "start_time": "2022-04-24T17:20:22.675Z"
   },
   {
    "duration": 26,
    "start_time": "2022-04-24T17:20:22.713Z"
   },
   {
    "duration": 6,
    "start_time": "2022-04-24T17:20:22.740Z"
   },
   {
    "duration": 16,
    "start_time": "2022-04-24T17:20:22.747Z"
   },
   {
    "duration": 12,
    "start_time": "2022-04-24T17:20:22.765Z"
   },
   {
    "duration": 3,
    "start_time": "2022-04-24T17:20:22.778Z"
   },
   {
    "duration": 20,
    "start_time": "2022-04-24T17:20:22.782Z"
   },
   {
    "duration": 14,
    "start_time": "2022-04-24T17:20:22.803Z"
   },
   {
    "duration": 16,
    "start_time": "2022-04-24T17:20:22.819Z"
   },
   {
    "duration": 25,
    "start_time": "2022-04-24T17:20:22.836Z"
   },
   {
    "duration": 8,
    "start_time": "2022-04-24T17:20:22.862Z"
   },
   {
    "duration": 412,
    "start_time": "2022-04-24T17:20:46.977Z"
   },
   {
    "duration": 40,
    "start_time": "2022-04-24T17:20:47.391Z"
   },
   {
    "duration": 21,
    "start_time": "2022-04-24T17:20:47.432Z"
   },
   {
    "duration": 14,
    "start_time": "2022-04-24T17:20:47.456Z"
   },
   {
    "duration": 11,
    "start_time": "2022-04-24T17:20:47.471Z"
   },
   {
    "duration": 29,
    "start_time": "2022-04-24T17:20:47.483Z"
   },
   {
    "duration": 25,
    "start_time": "2022-04-24T17:20:47.514Z"
   },
   {
    "duration": 8,
    "start_time": "2022-04-24T17:20:47.541Z"
   },
   {
    "duration": 8,
    "start_time": "2022-04-24T17:20:47.551Z"
   },
   {
    "duration": 14,
    "start_time": "2022-04-24T17:20:47.562Z"
   },
   {
    "duration": 25,
    "start_time": "2022-04-24T17:20:47.577Z"
   },
   {
    "duration": 7,
    "start_time": "2022-04-24T17:20:47.603Z"
   },
   {
    "duration": 14,
    "start_time": "2022-04-24T17:20:47.612Z"
   },
   {
    "duration": 82,
    "start_time": "2022-04-24T17:20:47.628Z"
   },
   {
    "duration": 0,
    "start_time": "2022-04-24T17:20:47.712Z"
   },
   {
    "duration": 0,
    "start_time": "2022-04-24T17:20:47.713Z"
   },
   {
    "duration": 466,
    "start_time": "2022-04-24T17:21:06.585Z"
   },
   {
    "duration": 55,
    "start_time": "2022-04-24T17:21:07.054Z"
   },
   {
    "duration": 19,
    "start_time": "2022-04-24T17:21:07.112Z"
   },
   {
    "duration": 16,
    "start_time": "2022-04-24T17:21:07.133Z"
   },
   {
    "duration": 12,
    "start_time": "2022-04-24T17:21:07.150Z"
   },
   {
    "duration": 39,
    "start_time": "2022-04-24T17:21:07.164Z"
   },
   {
    "duration": 33,
    "start_time": "2022-04-24T17:21:07.205Z"
   },
   {
    "duration": 6,
    "start_time": "2022-04-24T17:21:07.241Z"
   },
   {
    "duration": 12,
    "start_time": "2022-04-24T17:21:07.249Z"
   },
   {
    "duration": 14,
    "start_time": "2022-04-24T17:21:07.264Z"
   },
   {
    "duration": 24,
    "start_time": "2022-04-24T17:21:07.280Z"
   },
   {
    "duration": 6,
    "start_time": "2022-04-24T17:21:07.306Z"
   },
   {
    "duration": 20,
    "start_time": "2022-04-24T17:21:07.314Z"
   },
   {
    "duration": 110,
    "start_time": "2022-04-24T17:21:07.335Z"
   },
   {
    "duration": 0,
    "start_time": "2022-04-24T17:21:07.446Z"
   },
   {
    "duration": 1,
    "start_time": "2022-04-24T17:21:07.447Z"
   },
   {
    "duration": 482,
    "start_time": "2022-04-24T17:21:25.426Z"
   },
   {
    "duration": 52,
    "start_time": "2022-04-24T17:21:25.911Z"
   },
   {
    "duration": 27,
    "start_time": "2022-04-24T17:21:25.965Z"
   },
   {
    "duration": 20,
    "start_time": "2022-04-24T17:21:25.999Z"
   },
   {
    "duration": 21,
    "start_time": "2022-04-24T17:21:26.021Z"
   },
   {
    "duration": 22,
    "start_time": "2022-04-24T17:21:26.044Z"
   },
   {
    "duration": 45,
    "start_time": "2022-04-24T17:21:26.068Z"
   },
   {
    "duration": 8,
    "start_time": "2022-04-24T17:21:26.115Z"
   },
   {
    "duration": 12,
    "start_time": "2022-04-24T17:21:26.124Z"
   },
   {
    "duration": 19,
    "start_time": "2022-04-24T17:21:26.139Z"
   },
   {
    "duration": 3,
    "start_time": "2022-04-24T17:21:26.161Z"
   },
   {
    "duration": 9,
    "start_time": "2022-04-24T17:21:26.166Z"
   },
   {
    "duration": 39,
    "start_time": "2022-04-24T17:21:26.177Z"
   },
   {
    "duration": 23,
    "start_time": "2022-04-24T17:21:26.218Z"
   },
   {
    "duration": 19,
    "start_time": "2022-04-24T17:21:26.242Z"
   },
   {
    "duration": 11,
    "start_time": "2022-04-24T17:21:26.263Z"
   },
   {
    "duration": 385,
    "start_time": "2022-04-24T17:22:32.300Z"
   },
   {
    "duration": 40,
    "start_time": "2022-04-24T17:22:32.687Z"
   },
   {
    "duration": 24,
    "start_time": "2022-04-24T17:22:32.729Z"
   },
   {
    "duration": 18,
    "start_time": "2022-04-24T17:22:32.755Z"
   },
   {
    "duration": 27,
    "start_time": "2022-04-24T17:22:32.775Z"
   },
   {
    "duration": 16,
    "start_time": "2022-04-24T17:22:32.804Z"
   },
   {
    "duration": 26,
    "start_time": "2022-04-24T17:22:32.821Z"
   },
   {
    "duration": 6,
    "start_time": "2022-04-24T17:22:32.849Z"
   },
   {
    "duration": 7,
    "start_time": "2022-04-24T17:22:32.857Z"
   },
   {
    "duration": 37,
    "start_time": "2022-04-24T17:22:32.866Z"
   },
   {
    "duration": 2,
    "start_time": "2022-04-24T17:22:32.905Z"
   },
   {
    "duration": 7,
    "start_time": "2022-04-24T17:22:32.909Z"
   },
   {
    "duration": 15,
    "start_time": "2022-04-24T17:22:32.917Z"
   },
   {
    "duration": 23,
    "start_time": "2022-04-24T17:22:32.934Z"
   },
   {
    "duration": 42,
    "start_time": "2022-04-24T17:22:32.959Z"
   },
   {
    "duration": 9,
    "start_time": "2022-04-24T17:22:33.003Z"
   },
   {
    "duration": 232,
    "start_time": "2022-04-24T17:37:07.543Z"
   },
   {
    "duration": 9,
    "start_time": "2022-04-24T17:37:20.053Z"
   },
   {
    "duration": 15,
    "start_time": "2022-04-24T17:37:29.727Z"
   },
   {
    "duration": 357,
    "start_time": "2022-04-24T17:41:48.742Z"
   },
   {
    "duration": 41,
    "start_time": "2022-04-24T17:41:49.101Z"
   },
   {
    "duration": 18,
    "start_time": "2022-04-24T17:41:49.143Z"
   },
   {
    "duration": 13,
    "start_time": "2022-04-24T17:41:49.164Z"
   },
   {
    "duration": 25,
    "start_time": "2022-04-24T17:41:49.179Z"
   },
   {
    "duration": 19,
    "start_time": "2022-04-24T17:41:49.205Z"
   },
   {
    "duration": 32,
    "start_time": "2022-04-24T17:41:49.226Z"
   },
   {
    "duration": 8,
    "start_time": "2022-04-24T17:41:49.260Z"
   },
   {
    "duration": 34,
    "start_time": "2022-04-24T17:41:49.270Z"
   },
   {
    "duration": 13,
    "start_time": "2022-04-24T17:41:49.307Z"
   },
   {
    "duration": 3,
    "start_time": "2022-04-24T17:41:49.322Z"
   },
   {
    "duration": 7,
    "start_time": "2022-04-24T17:41:49.327Z"
   },
   {
    "duration": 25,
    "start_time": "2022-04-24T17:41:49.336Z"
   },
   {
    "duration": 41,
    "start_time": "2022-04-24T17:41:49.363Z"
   },
   {
    "duration": 19,
    "start_time": "2022-04-24T17:41:49.406Z"
   },
   {
    "duration": 12,
    "start_time": "2022-04-24T17:41:49.427Z"
   },
   {
    "duration": 20,
    "start_time": "2022-04-24T17:41:49.440Z"
   },
   {
    "duration": 31,
    "start_time": "2022-04-24T17:42:12.091Z"
   },
   {
    "duration": 24,
    "start_time": "2022-04-24T17:42:42.546Z"
   },
   {
    "duration": 449,
    "start_time": "2022-04-24T17:42:55.700Z"
   },
   {
    "duration": 61,
    "start_time": "2022-04-24T17:42:56.151Z"
   },
   {
    "duration": 26,
    "start_time": "2022-04-24T17:42:56.214Z"
   },
   {
    "duration": 19,
    "start_time": "2022-04-24T17:42:56.242Z"
   },
   {
    "duration": 13,
    "start_time": "2022-04-24T17:42:56.263Z"
   },
   {
    "duration": 19,
    "start_time": "2022-04-24T17:42:56.300Z"
   },
   {
    "duration": 31,
    "start_time": "2022-04-24T17:42:56.321Z"
   },
   {
    "duration": 7,
    "start_time": "2022-04-24T17:42:56.354Z"
   },
   {
    "duration": 11,
    "start_time": "2022-04-24T17:42:56.366Z"
   },
   {
    "duration": 18,
    "start_time": "2022-04-24T17:42:56.399Z"
   },
   {
    "duration": 6,
    "start_time": "2022-04-24T17:42:56.419Z"
   },
   {
    "duration": 9,
    "start_time": "2022-04-24T17:42:56.426Z"
   },
   {
    "duration": 23,
    "start_time": "2022-04-24T17:42:56.436Z"
   },
   {
    "duration": 29,
    "start_time": "2022-04-24T17:42:56.460Z"
   },
   {
    "duration": 21,
    "start_time": "2022-04-24T17:42:56.499Z"
   },
   {
    "duration": 15,
    "start_time": "2022-04-24T17:42:56.524Z"
   },
   {
    "duration": 18,
    "start_time": "2022-04-24T17:42:56.542Z"
   },
   {
    "duration": 21,
    "start_time": "2022-04-24T17:42:56.562Z"
   },
   {
    "duration": 21,
    "start_time": "2022-04-24T17:45:45.592Z"
   },
   {
    "duration": 4,
    "start_time": "2022-04-24T17:54:33.045Z"
   },
   {
    "duration": 7,
    "start_time": "2022-04-24T17:59:27.531Z"
   },
   {
    "duration": 31,
    "start_time": "2022-04-24T17:59:41.701Z"
   },
   {
    "duration": 38,
    "start_time": "2022-04-24T18:00:12.789Z"
   },
   {
    "duration": 21,
    "start_time": "2022-04-24T18:00:28.470Z"
   },
   {
    "duration": 16,
    "start_time": "2022-04-24T18:01:48.812Z"
   },
   {
    "duration": 14,
    "start_time": "2022-04-24T18:05:10.180Z"
   },
   {
    "duration": 409,
    "start_time": "2022-04-25T05:40:13.937Z"
   },
   {
    "duration": 57,
    "start_time": "2022-04-25T05:40:14.348Z"
   },
   {
    "duration": 21,
    "start_time": "2022-04-25T05:40:14.407Z"
   },
   {
    "duration": 16,
    "start_time": "2022-04-25T05:40:14.430Z"
   },
   {
    "duration": 11,
    "start_time": "2022-04-25T05:40:14.448Z"
   },
   {
    "duration": 19,
    "start_time": "2022-04-25T05:40:14.460Z"
   },
   {
    "duration": 61,
    "start_time": "2022-04-25T05:40:14.481Z"
   },
   {
    "duration": 7,
    "start_time": "2022-04-25T05:40:14.545Z"
   },
   {
    "duration": 8,
    "start_time": "2022-04-25T05:40:14.554Z"
   },
   {
    "duration": 14,
    "start_time": "2022-04-25T05:40:14.564Z"
   },
   {
    "duration": 3,
    "start_time": "2022-04-25T05:40:14.580Z"
   },
   {
    "duration": 7,
    "start_time": "2022-04-25T05:40:14.585Z"
   },
   {
    "duration": 40,
    "start_time": "2022-04-25T05:40:14.593Z"
   },
   {
    "duration": 23,
    "start_time": "2022-04-25T05:40:14.637Z"
   },
   {
    "duration": 16,
    "start_time": "2022-04-25T05:40:14.662Z"
   },
   {
    "duration": 9,
    "start_time": "2022-04-25T05:40:14.680Z"
   },
   {
    "duration": 46,
    "start_time": "2022-04-25T05:40:14.691Z"
   },
   {
    "duration": 18,
    "start_time": "2022-04-25T05:40:14.739Z"
   },
   {
    "duration": 7,
    "start_time": "2022-04-25T05:40:52.291Z"
   },
   {
    "duration": 23,
    "start_time": "2022-04-25T05:43:07.483Z"
   },
   {
    "duration": 9,
    "start_time": "2022-04-25T05:54:12.027Z"
   },
   {
    "duration": 371,
    "start_time": "2022-04-25T05:54:18.646Z"
   },
   {
    "duration": 54,
    "start_time": "2022-04-25T05:54:19.018Z"
   },
   {
    "duration": 20,
    "start_time": "2022-04-25T05:54:19.074Z"
   },
   {
    "duration": 33,
    "start_time": "2022-04-25T05:54:19.096Z"
   },
   {
    "duration": 36,
    "start_time": "2022-04-25T05:54:19.131Z"
   },
   {
    "duration": 30,
    "start_time": "2022-04-25T05:54:19.168Z"
   },
   {
    "duration": 27,
    "start_time": "2022-04-25T05:54:19.200Z"
   },
   {
    "duration": 7,
    "start_time": "2022-04-25T05:54:19.228Z"
   },
   {
    "duration": 19,
    "start_time": "2022-04-25T05:54:19.236Z"
   },
   {
    "duration": 22,
    "start_time": "2022-04-25T05:54:19.258Z"
   },
   {
    "duration": 37,
    "start_time": "2022-04-25T05:54:19.282Z"
   },
   {
    "duration": 44,
    "start_time": "2022-04-25T05:54:19.320Z"
   },
   {
    "duration": 30,
    "start_time": "2022-04-25T05:54:19.366Z"
   },
   {
    "duration": 44,
    "start_time": "2022-04-25T05:54:19.398Z"
   },
   {
    "duration": 34,
    "start_time": "2022-04-25T05:54:19.444Z"
   },
   {
    "duration": 11,
    "start_time": "2022-04-25T05:54:19.480Z"
   },
   {
    "duration": 34,
    "start_time": "2022-04-25T05:54:19.493Z"
   },
   {
    "duration": 15,
    "start_time": "2022-04-25T05:54:19.529Z"
   },
   {
    "duration": 15,
    "start_time": "2022-04-25T05:55:01.372Z"
   },
   {
    "duration": 22,
    "start_time": "2022-04-25T05:55:13.904Z"
   },
   {
    "duration": 386,
    "start_time": "2022-04-25T05:57:18.975Z"
   },
   {
    "duration": 44,
    "start_time": "2022-04-25T05:57:19.363Z"
   },
   {
    "duration": 20,
    "start_time": "2022-04-25T05:57:19.409Z"
   },
   {
    "duration": 14,
    "start_time": "2022-04-25T05:57:19.431Z"
   },
   {
    "duration": 8,
    "start_time": "2022-04-25T05:57:19.447Z"
   },
   {
    "duration": 17,
    "start_time": "2022-04-25T05:57:19.457Z"
   },
   {
    "duration": 52,
    "start_time": "2022-04-25T05:57:19.476Z"
   },
   {
    "duration": 6,
    "start_time": "2022-04-25T05:57:19.530Z"
   },
   {
    "duration": 7,
    "start_time": "2022-04-25T05:57:19.538Z"
   },
   {
    "duration": 11,
    "start_time": "2022-04-25T05:57:19.547Z"
   },
   {
    "duration": 4,
    "start_time": "2022-04-25T05:57:19.559Z"
   },
   {
    "duration": 6,
    "start_time": "2022-04-25T05:57:19.564Z"
   },
   {
    "duration": 16,
    "start_time": "2022-04-25T05:57:19.572Z"
   },
   {
    "duration": 50,
    "start_time": "2022-04-25T05:57:19.589Z"
   },
   {
    "duration": 15,
    "start_time": "2022-04-25T05:57:19.640Z"
   },
   {
    "duration": 10,
    "start_time": "2022-04-25T05:57:19.657Z"
   },
   {
    "duration": 21,
    "start_time": "2022-04-25T05:57:19.669Z"
   },
   {
    "duration": 36,
    "start_time": "2022-04-25T05:57:19.691Z"
   },
   {
    "duration": 16,
    "start_time": "2022-04-25T05:57:19.728Z"
   },
   {
    "duration": 61,
    "start_time": "2022-04-25T06:17:38.871Z"
   },
   {
    "duration": 15,
    "start_time": "2022-04-25T06:18:29.143Z"
   },
   {
    "duration": 480,
    "start_time": "2022-04-25T06:19:07.101Z"
   },
   {
    "duration": 30,
    "start_time": "2022-04-25T06:19:15.772Z"
   },
   {
    "duration": 492,
    "start_time": "2022-04-25T06:19:57.841Z"
   },
   {
    "duration": 295,
    "start_time": "2022-04-25T06:20:26.491Z"
   },
   {
    "duration": 3424,
    "start_time": "2022-04-25T06:21:11.338Z"
   },
   {
    "duration": 3308,
    "start_time": "2022-04-25T06:21:14.951Z"
   },
   {
    "duration": 31,
    "start_time": "2022-04-25T06:22:05.192Z"
   },
   {
    "duration": 1192,
    "start_time": "2022-04-25T06:22:43.531Z"
   },
   {
    "duration": 55,
    "start_time": "2022-04-25T06:22:44.725Z"
   },
   {
    "duration": 17,
    "start_time": "2022-04-25T06:22:44.782Z"
   },
   {
    "duration": 14,
    "start_time": "2022-04-25T06:22:44.800Z"
   },
   {
    "duration": 9,
    "start_time": "2022-04-25T06:22:44.817Z"
   },
   {
    "duration": 16,
    "start_time": "2022-04-25T06:22:44.827Z"
   },
   {
    "duration": 27,
    "start_time": "2022-04-25T06:22:44.844Z"
   },
   {
    "duration": 7,
    "start_time": "2022-04-25T06:22:44.873Z"
   },
   {
    "duration": 9,
    "start_time": "2022-04-25T06:22:44.881Z"
   },
   {
    "duration": 41,
    "start_time": "2022-04-25T06:22:44.891Z"
   },
   {
    "duration": 5,
    "start_time": "2022-04-25T06:22:44.934Z"
   },
   {
    "duration": 7,
    "start_time": "2022-04-25T06:22:44.941Z"
   },
   {
    "duration": 15,
    "start_time": "2022-04-25T06:22:44.949Z"
   },
   {
    "duration": 22,
    "start_time": "2022-04-25T06:22:44.966Z"
   },
   {
    "duration": 39,
    "start_time": "2022-04-25T06:22:44.990Z"
   },
   {
    "duration": 7,
    "start_time": "2022-04-25T06:22:45.031Z"
   },
   {
    "duration": 18,
    "start_time": "2022-04-25T06:22:45.040Z"
   },
   {
    "duration": 14,
    "start_time": "2022-04-25T06:22:45.059Z"
   },
   {
    "duration": 15,
    "start_time": "2022-04-25T06:22:45.074Z"
   },
   {
    "duration": 1135,
    "start_time": "2022-04-25T06:24:02.676Z"
   },
   {
    "duration": 54,
    "start_time": "2022-04-25T06:24:03.814Z"
   },
   {
    "duration": 18,
    "start_time": "2022-04-25T06:24:03.870Z"
   },
   {
    "duration": 14,
    "start_time": "2022-04-25T06:24:03.891Z"
   },
   {
    "duration": 10,
    "start_time": "2022-04-25T06:24:03.907Z"
   },
   {
    "duration": 17,
    "start_time": "2022-04-25T06:24:03.922Z"
   },
   {
    "duration": 28,
    "start_time": "2022-04-25T06:24:03.941Z"
   },
   {
    "duration": 7,
    "start_time": "2022-04-25T06:24:03.971Z"
   },
   {
    "duration": 8,
    "start_time": "2022-04-25T06:24:03.980Z"
   },
   {
    "duration": 12,
    "start_time": "2022-04-25T06:24:04.024Z"
   },
   {
    "duration": 3,
    "start_time": "2022-04-25T06:24:04.038Z"
   },
   {
    "duration": 6,
    "start_time": "2022-04-25T06:24:04.043Z"
   },
   {
    "duration": 13,
    "start_time": "2022-04-25T06:24:04.050Z"
   },
   {
    "duration": 19,
    "start_time": "2022-04-25T06:24:04.065Z"
   },
   {
    "duration": 49,
    "start_time": "2022-04-25T06:24:04.086Z"
   },
   {
    "duration": 7,
    "start_time": "2022-04-25T06:24:04.137Z"
   },
   {
    "duration": 21,
    "start_time": "2022-04-25T06:24:04.145Z"
   },
   {
    "duration": 15,
    "start_time": "2022-04-25T06:24:04.167Z"
   },
   {
    "duration": 40,
    "start_time": "2022-04-25T06:24:04.184Z"
   },
   {
    "duration": 102,
    "start_time": "2022-04-25T06:24:04.226Z"
   },
   {
    "duration": 225,
    "start_time": "2022-04-25T06:25:15.349Z"
   },
   {
    "duration": 912,
    "start_time": "2022-04-25T12:43:42.133Z"
   },
   {
    "duration": 54,
    "start_time": "2022-04-25T12:43:43.048Z"
   },
   {
    "duration": 26,
    "start_time": "2022-04-25T12:43:43.105Z"
   },
   {
    "duration": 47,
    "start_time": "2022-04-25T12:43:43.134Z"
   },
   {
    "duration": 12,
    "start_time": "2022-04-25T12:43:43.184Z"
   },
   {
    "duration": 26,
    "start_time": "2022-04-25T12:43:43.198Z"
   },
   {
    "duration": 74,
    "start_time": "2022-04-25T12:43:43.226Z"
   },
   {
    "duration": 11,
    "start_time": "2022-04-25T12:43:43.302Z"
   },
   {
    "duration": 11,
    "start_time": "2022-04-25T12:43:43.315Z"
   },
   {
    "duration": 20,
    "start_time": "2022-04-25T12:43:43.351Z"
   },
   {
    "duration": 8,
    "start_time": "2022-04-25T12:43:43.373Z"
   },
   {
    "duration": 7,
    "start_time": "2022-04-25T12:43:43.384Z"
   },
   {
    "duration": 23,
    "start_time": "2022-04-25T12:43:43.393Z"
   },
   {
    "duration": 65,
    "start_time": "2022-04-25T12:43:43.417Z"
   },
   {
    "duration": 24,
    "start_time": "2022-04-25T12:43:43.484Z"
   },
   {
    "duration": 12,
    "start_time": "2022-04-25T12:43:43.510Z"
   },
   {
    "duration": 58,
    "start_time": "2022-04-25T12:43:43.524Z"
   },
   {
    "duration": 23,
    "start_time": "2022-04-25T12:43:43.585Z"
   },
   {
    "duration": 50,
    "start_time": "2022-04-25T12:43:43.611Z"
   },
   {
    "duration": 301,
    "start_time": "2022-04-25T12:43:43.668Z"
   },
   {
    "duration": 955,
    "start_time": "2022-04-25T12:45:22.654Z"
   },
   {
    "duration": 352,
    "start_time": "2022-04-25T12:47:59.966Z"
   },
   {
    "duration": 263,
    "start_time": "2022-04-25T12:49:03.199Z"
   },
   {
    "duration": 349,
    "start_time": "2022-04-25T12:49:25.432Z"
   },
   {
    "duration": 261,
    "start_time": "2022-04-25T12:49:47.793Z"
   },
   {
    "duration": 266,
    "start_time": "2022-04-25T12:50:15.800Z"
   },
   {
    "duration": 264,
    "start_time": "2022-04-25T12:51:28.893Z"
   },
   {
    "duration": 323,
    "start_time": "2022-04-25T12:51:49.533Z"
   },
   {
    "duration": 281,
    "start_time": "2022-04-25T12:52:24.448Z"
   },
   {
    "duration": 290,
    "start_time": "2022-04-25T12:59:35.919Z"
   },
   {
    "duration": 295,
    "start_time": "2022-04-25T13:00:14.300Z"
   },
   {
    "duration": 25,
    "start_time": "2022-04-25T13:01:10.165Z"
   },
   {
    "duration": 287,
    "start_time": "2022-04-25T13:01:23.395Z"
   },
   {
    "duration": 548,
    "start_time": "2022-04-25T13:01:57.446Z"
   },
   {
    "duration": 684,
    "start_time": "2022-04-25T13:02:21.749Z"
   },
   {
    "duration": 519,
    "start_time": "2022-04-25T13:02:38.666Z"
   },
   {
    "duration": 492,
    "start_time": "2022-04-25T13:06:36.909Z"
   },
   {
    "duration": 217,
    "start_time": "2022-04-25T13:07:35.535Z"
   },
   {
    "duration": 524,
    "start_time": "2022-04-25T13:08:03.273Z"
   },
   {
    "duration": 509,
    "start_time": "2022-04-25T13:08:12.964Z"
   },
   {
    "duration": 555,
    "start_time": "2022-04-25T13:08:21.067Z"
   },
   {
    "duration": 501,
    "start_time": "2022-04-25T13:08:32.551Z"
   },
   {
    "duration": 593,
    "start_time": "2022-04-25T13:17:59.168Z"
   },
   {
    "duration": 96,
    "start_time": "2022-04-25T13:18:05.614Z"
   },
   {
    "duration": 551,
    "start_time": "2022-04-25T13:18:19.669Z"
   },
   {
    "duration": 740,
    "start_time": "2022-04-25T13:18:41.030Z"
   },
   {
    "duration": 485,
    "start_time": "2022-04-25T13:19:22.142Z"
   },
   {
    "duration": 514,
    "start_time": "2022-04-25T13:19:32.591Z"
   },
   {
    "duration": 242,
    "start_time": "2022-04-25T13:20:24.802Z"
   },
   {
    "duration": 452,
    "start_time": "2022-04-25T13:20:37.810Z"
   },
   {
    "duration": 30,
    "start_time": "2022-04-25T13:21:01.717Z"
   },
   {
    "duration": 766,
    "start_time": "2022-04-25T13:21:24.188Z"
   },
   {
    "duration": 504,
    "start_time": "2022-04-25T13:21:31.609Z"
   },
   {
    "duration": 573,
    "start_time": "2022-04-25T13:55:06.691Z"
   },
   {
    "duration": 529,
    "start_time": "2022-04-25T13:58:56.789Z"
   },
   {
    "duration": 13,
    "start_time": "2022-04-25T14:08:02.376Z"
   },
   {
    "duration": 7,
    "start_time": "2022-04-25T14:08:23.167Z"
   },
   {
    "duration": 10,
    "start_time": "2022-04-25T14:08:31.391Z"
   },
   {
    "duration": 461,
    "start_time": "2022-04-25T14:17:11.058Z"
   },
   {
    "duration": 213,
    "start_time": "2022-04-25T14:18:00.932Z"
   },
   {
    "duration": 355,
    "start_time": "2022-04-25T14:18:31.470Z"
   },
   {
    "duration": 16,
    "start_time": "2022-04-25T14:19:42.418Z"
   },
   {
    "duration": 15,
    "start_time": "2022-04-25T14:19:57.908Z"
   },
   {
    "duration": 214,
    "start_time": "2022-04-25T14:20:07.202Z"
   },
   {
    "duration": 7,
    "start_time": "2022-04-25T14:24:43.816Z"
   },
   {
    "duration": 10,
    "start_time": "2022-04-25T14:24:57.967Z"
   },
   {
    "duration": 10,
    "start_time": "2022-04-25T14:25:37.149Z"
   },
   {
    "duration": 9,
    "start_time": "2022-04-25T14:25:51.168Z"
   },
   {
    "duration": 11,
    "start_time": "2022-04-25T14:26:03.367Z"
   },
   {
    "duration": 6,
    "start_time": "2022-04-25T14:29:00.814Z"
   },
   {
    "duration": 24,
    "start_time": "2022-04-25T14:30:23.882Z"
   },
   {
    "duration": 22,
    "start_time": "2022-04-25T14:30:43.866Z"
   },
   {
    "duration": 22,
    "start_time": "2022-04-25T14:31:42.173Z"
   },
   {
    "duration": 30,
    "start_time": "2022-04-25T14:31:52.881Z"
   },
   {
    "duration": 20,
    "start_time": "2022-04-25T14:32:23.697Z"
   },
   {
    "duration": 12,
    "start_time": "2022-04-25T14:36:04.580Z"
   },
   {
    "duration": 23,
    "start_time": "2022-04-25T14:36:24.397Z"
   },
   {
    "duration": 10,
    "start_time": "2022-04-25T14:36:32.765Z"
   },
   {
    "duration": 10,
    "start_time": "2022-04-25T14:37:13.418Z"
   },
   {
    "duration": 11,
    "start_time": "2022-04-25T14:37:47.444Z"
   },
   {
    "duration": 24,
    "start_time": "2022-04-25T14:37:59.400Z"
   },
   {
    "duration": 34,
    "start_time": "2022-04-25T14:38:37.546Z"
   },
   {
    "duration": 7,
    "start_time": "2022-04-25T14:53:52.415Z"
   },
   {
    "duration": 12,
    "start_time": "2022-04-25T14:54:20.449Z"
   },
   {
    "duration": 17,
    "start_time": "2022-04-25T14:54:33.697Z"
   },
   {
    "duration": 1431,
    "start_time": "2022-04-25T14:54:45.354Z"
   },
   {
    "duration": 54,
    "start_time": "2022-04-25T14:54:46.788Z"
   },
   {
    "duration": 27,
    "start_time": "2022-04-25T14:54:46.845Z"
   },
   {
    "duration": 21,
    "start_time": "2022-04-25T14:54:46.875Z"
   },
   {
    "duration": 15,
    "start_time": "2022-04-25T14:54:46.898Z"
   },
   {
    "duration": 56,
    "start_time": "2022-04-25T14:54:46.916Z"
   },
   {
    "duration": 42,
    "start_time": "2022-04-25T14:54:46.974Z"
   },
   {
    "duration": 35,
    "start_time": "2022-04-25T14:54:47.018Z"
   },
   {
    "duration": 10,
    "start_time": "2022-04-25T14:54:47.056Z"
   },
   {
    "duration": 16,
    "start_time": "2022-04-25T14:54:47.072Z"
   },
   {
    "duration": 4,
    "start_time": "2022-04-25T14:54:47.091Z"
   },
   {
    "duration": 54,
    "start_time": "2022-04-25T14:54:47.098Z"
   },
   {
    "duration": 20,
    "start_time": "2022-04-25T14:54:47.154Z"
   },
   {
    "duration": 33,
    "start_time": "2022-04-25T14:54:47.177Z"
   },
   {
    "duration": 49,
    "start_time": "2022-04-25T14:54:47.213Z"
   },
   {
    "duration": 13,
    "start_time": "2022-04-25T14:54:47.265Z"
   },
   {
    "duration": 29,
    "start_time": "2022-04-25T14:54:47.280Z"
   },
   {
    "duration": 56,
    "start_time": "2022-04-25T14:54:47.311Z"
   },
   {
    "duration": 26,
    "start_time": "2022-04-25T14:54:47.369Z"
   },
   {
    "duration": 561,
    "start_time": "2022-04-25T14:54:47.398Z"
   },
   {
    "duration": 29,
    "start_time": "2022-04-25T14:54:47.961Z"
   },
   {
    "duration": 15,
    "start_time": "2022-04-25T14:54:47.992Z"
   },
   {
    "duration": 21,
    "start_time": "2022-04-25T14:55:56.865Z"
   },
   {
    "duration": 28,
    "start_time": "2022-04-25T14:56:07.720Z"
   },
   {
    "duration": 20,
    "start_time": "2022-04-25T14:56:38.145Z"
   },
   {
    "duration": 16,
    "start_time": "2022-04-25T14:56:44.634Z"
   },
   {
    "duration": 33,
    "start_time": "2022-04-25T14:57:10.811Z"
   },
   {
    "duration": 38,
    "start_time": "2022-04-25T14:57:44.061Z"
   },
   {
    "duration": 41,
    "start_time": "2022-04-25T14:58:18.115Z"
   },
   {
    "duration": 175,
    "start_time": "2022-04-25T14:58:41.938Z"
   },
   {
    "duration": 37,
    "start_time": "2022-04-25T14:59:02.223Z"
   },
   {
    "duration": 12,
    "start_time": "2022-04-25T15:01:06.753Z"
   },
   {
    "duration": 23,
    "start_time": "2022-04-25T15:01:18.647Z"
   },
   {
    "duration": 29,
    "start_time": "2022-04-25T15:01:41.627Z"
   },
   {
    "duration": 19,
    "start_time": "2022-04-25T15:02:10.134Z"
   },
   {
    "duration": 42,
    "start_time": "2022-04-25T15:02:31.361Z"
   },
   {
    "duration": 18,
    "start_time": "2022-04-25T15:02:42.772Z"
   },
   {
    "duration": 38,
    "start_time": "2022-04-25T15:02:56.188Z"
   },
   {
    "duration": 9,
    "start_time": "2022-04-25T15:04:09.181Z"
   },
   {
    "duration": 31,
    "start_time": "2022-04-25T15:06:06.357Z"
   },
   {
    "duration": 12,
    "start_time": "2022-04-25T15:06:19.319Z"
   },
   {
    "duration": 3850,
    "start_time": "2022-04-25T15:09:36.498Z"
   },
   {
    "duration": 365,
    "start_time": "2022-04-25T15:10:21.545Z"
   },
   {
    "duration": 212,
    "start_time": "2022-04-25T15:10:51.191Z"
   },
   {
    "duration": 209,
    "start_time": "2022-04-25T15:11:00.287Z"
   },
   {
    "duration": 361,
    "start_time": "2022-04-25T15:11:25.747Z"
   },
   {
    "duration": 401,
    "start_time": "2022-04-25T15:12:09.997Z"
   },
   {
    "duration": 19,
    "start_time": "2022-04-25T15:18:16.264Z"
   },
   {
    "duration": 231,
    "start_time": "2022-04-25T15:19:25.714Z"
   },
   {
    "duration": 44,
    "start_time": "2022-04-25T15:52:50.576Z"
   },
   {
    "duration": 135,
    "start_time": "2022-04-25T15:53:07.573Z"
   },
   {
    "duration": 30,
    "start_time": "2022-04-25T15:53:20.998Z"
   },
   {
    "duration": 117,
    "start_time": "2022-04-25T15:53:45.889Z"
   },
   {
    "duration": 133,
    "start_time": "2022-04-25T15:53:53.335Z"
   },
   {
    "duration": 9,
    "start_time": "2022-04-25T15:56:48.022Z"
   },
   {
    "duration": 306,
    "start_time": "2022-04-25T15:57:12.902Z"
   },
   {
    "duration": 27,
    "start_time": "2022-04-25T16:00:33.448Z"
   },
   {
    "duration": 25,
    "start_time": "2022-04-25T16:01:05.995Z"
   },
   {
    "duration": 28,
    "start_time": "2022-04-25T16:01:11.568Z"
   },
   {
    "duration": 306,
    "start_time": "2022-04-25T16:01:23.962Z"
   },
   {
    "duration": 19,
    "start_time": "2022-04-25T16:02:15.767Z"
   },
   {
    "duration": 325,
    "start_time": "2022-04-25T16:02:27.305Z"
   },
   {
    "duration": 585,
    "start_time": "2022-04-25T16:03:50.829Z"
   },
   {
    "duration": 599,
    "start_time": "2022-04-25T16:07:54.764Z"
   },
   {
    "duration": 643,
    "start_time": "2022-04-25T16:08:16.335Z"
   },
   {
    "duration": 726,
    "start_time": "2022-04-25T16:08:25.666Z"
   },
   {
    "duration": 643,
    "start_time": "2022-04-25T16:08:34.693Z"
   },
   {
    "duration": 637,
    "start_time": "2022-04-25T16:09:47.924Z"
   },
   {
    "duration": 640,
    "start_time": "2022-04-25T16:09:55.322Z"
   },
   {
    "duration": 262,
    "start_time": "2022-04-25T16:10:38.314Z"
   },
   {
    "duration": 272,
    "start_time": "2022-04-25T16:10:59.114Z"
   },
   {
    "duration": 799,
    "start_time": "2022-04-25T16:11:19.202Z"
   },
   {
    "duration": 635,
    "start_time": "2022-04-25T16:11:28.080Z"
   },
   {
    "duration": 655,
    "start_time": "2022-04-25T16:11:40.102Z"
   },
   {
    "duration": 671,
    "start_time": "2022-04-25T16:11:45.506Z"
   },
   {
    "duration": 734,
    "start_time": "2022-04-25T16:13:15.966Z"
   },
   {
    "duration": 659,
    "start_time": "2022-04-25T16:13:39.276Z"
   },
   {
    "duration": 765,
    "start_time": "2022-04-25T16:16:18.023Z"
   },
   {
    "duration": 697,
    "start_time": "2022-04-25T16:16:27.154Z"
   },
   {
    "duration": 638,
    "start_time": "2022-04-25T16:16:47.091Z"
   },
   {
    "duration": 682,
    "start_time": "2022-04-25T16:16:58.510Z"
   },
   {
    "duration": 629,
    "start_time": "2022-04-25T16:17:14.370Z"
   },
   {
    "duration": 295,
    "start_time": "2022-04-25T16:17:52.676Z"
   },
   {
    "duration": 844,
    "start_time": "2022-04-25T16:18:05.065Z"
   },
   {
    "duration": 628,
    "start_time": "2022-04-25T16:18:38.341Z"
   },
   {
    "duration": 643,
    "start_time": "2022-04-25T16:21:42.812Z"
   },
   {
    "duration": 652,
    "start_time": "2022-04-25T16:22:12.615Z"
   },
   {
    "duration": 2215,
    "start_time": "2022-04-25T19:19:52.434Z"
   },
   {
    "duration": 61,
    "start_time": "2022-04-25T19:19:54.652Z"
   },
   {
    "duration": 27,
    "start_time": "2022-04-25T19:19:54.716Z"
   },
   {
    "duration": 57,
    "start_time": "2022-04-25T19:19:54.746Z"
   },
   {
    "duration": 16,
    "start_time": "2022-04-25T19:19:54.806Z"
   },
   {
    "duration": 27,
    "start_time": "2022-04-25T19:19:54.825Z"
   },
   {
    "duration": 97,
    "start_time": "2022-04-25T19:19:54.854Z"
   },
   {
    "duration": 10,
    "start_time": "2022-04-25T19:19:54.953Z"
   },
   {
    "duration": 13,
    "start_time": "2022-04-25T19:19:54.965Z"
   },
   {
    "duration": 27,
    "start_time": "2022-04-25T19:19:54.986Z"
   },
   {
    "duration": 4,
    "start_time": "2022-04-25T19:19:55.017Z"
   },
   {
    "duration": 13,
    "start_time": "2022-04-25T19:19:55.023Z"
   },
   {
    "duration": 52,
    "start_time": "2022-04-25T19:19:55.039Z"
   },
   {
    "duration": 40,
    "start_time": "2022-04-25T19:19:55.094Z"
   },
   {
    "duration": 24,
    "start_time": "2022-04-25T19:19:55.136Z"
   },
   {
    "duration": 25,
    "start_time": "2022-04-25T19:19:55.163Z"
   },
   {
    "duration": 31,
    "start_time": "2022-04-25T19:19:55.191Z"
   },
   {
    "duration": 24,
    "start_time": "2022-04-25T19:19:55.225Z"
   },
   {
    "duration": 69,
    "start_time": "2022-04-25T19:19:55.252Z"
   },
   {
    "duration": 597,
    "start_time": "2022-04-25T19:19:55.325Z"
   },
   {
    "duration": 22,
    "start_time": "2022-04-25T19:19:55.925Z"
   },
   {
    "duration": 751,
    "start_time": "2022-04-25T19:19:55.950Z"
   },
   {
    "duration": 731,
    "start_time": "2022-04-25T19:23:30.025Z"
   },
   {
    "duration": 1144,
    "start_time": "2022-04-25T19:23:37.552Z"
   },
   {
    "duration": 1009,
    "start_time": "2022-04-25T19:23:55.747Z"
   },
   {
    "duration": 882,
    "start_time": "2022-04-25T19:25:41.500Z"
   },
   {
    "duration": 887,
    "start_time": "2022-04-25T19:26:07.448Z"
   },
   {
    "duration": 816,
    "start_time": "2022-04-25T19:26:14.845Z"
   },
   {
    "duration": 824,
    "start_time": "2022-04-25T19:26:40.309Z"
   },
   {
    "duration": 945,
    "start_time": "2022-04-25T19:26:50.817Z"
   },
   {
    "duration": 795,
    "start_time": "2022-04-25T19:26:57.696Z"
   },
   {
    "duration": 700,
    "start_time": "2022-04-25T19:27:12.432Z"
   },
   {
    "duration": 45,
    "start_time": "2022-04-25T19:46:25.592Z"
   },
   {
    "duration": 37,
    "start_time": "2022-04-25T19:47:34.112Z"
   },
   {
    "duration": 1031,
    "start_time": "2022-04-25T19:47:56.757Z"
   },
   {
    "duration": 389,
    "start_time": "2022-04-25T19:50:20.945Z"
   },
   {
    "duration": 608,
    "start_time": "2022-04-25T19:50:33.938Z"
   },
   {
    "duration": 1262,
    "start_time": "2022-04-25T19:51:01.364Z"
   },
   {
    "duration": 974,
    "start_time": "2022-04-25T19:52:14.849Z"
   },
   {
    "duration": 987,
    "start_time": "2022-04-25T19:52:30.928Z"
   },
   {
    "duration": 1114,
    "start_time": "2022-04-25T19:52:38.830Z"
   },
   {
    "duration": 1636,
    "start_time": "2022-04-25T19:53:00.501Z"
   },
   {
    "duration": 1507,
    "start_time": "2022-04-25T19:53:09.623Z"
   },
   {
    "duration": 1145,
    "start_time": "2022-04-25T19:53:17.008Z"
   },
   {
    "duration": 1160,
    "start_time": "2022-04-25T19:53:23.986Z"
   },
   {
    "duration": 1015,
    "start_time": "2022-04-25T19:53:29.525Z"
   },
   {
    "duration": 629,
    "start_time": "2022-04-25T19:54:35.953Z"
   },
   {
    "duration": 1134,
    "start_time": "2022-04-25T19:55:05.313Z"
   },
   {
    "duration": 458,
    "start_time": "2022-04-25T19:58:42.097Z"
   },
   {
    "duration": 651,
    "start_time": "2022-04-25T20:01:46.268Z"
   },
   {
    "duration": 58,
    "start_time": "2022-04-26T16:06:28.389Z"
   },
   {
    "duration": 1623,
    "start_time": "2022-04-26T16:06:35.876Z"
   },
   {
    "duration": 54,
    "start_time": "2022-04-26T16:06:37.501Z"
   },
   {
    "duration": 35,
    "start_time": "2022-04-26T16:06:37.558Z"
   },
   {
    "duration": 20,
    "start_time": "2022-04-26T16:06:37.595Z"
   },
   {
    "duration": 63,
    "start_time": "2022-04-26T16:06:37.617Z"
   },
   {
    "duration": 30,
    "start_time": "2022-04-26T16:06:37.682Z"
   },
   {
    "duration": 54,
    "start_time": "2022-04-26T16:06:37.714Z"
   },
   {
    "duration": 24,
    "start_time": "2022-04-26T16:06:37.769Z"
   },
   {
    "duration": 21,
    "start_time": "2022-04-26T16:06:37.795Z"
   },
   {
    "duration": 76,
    "start_time": "2022-04-26T16:06:37.819Z"
   },
   {
    "duration": 49,
    "start_time": "2022-04-26T16:06:37.898Z"
   },
   {
    "duration": 45,
    "start_time": "2022-04-26T16:06:37.949Z"
   },
   {
    "duration": 7,
    "start_time": "2022-04-26T16:06:37.996Z"
   },
   {
    "duration": 23,
    "start_time": "2022-04-26T16:06:38.005Z"
   },
   {
    "duration": 60,
    "start_time": "2022-04-26T16:06:38.029Z"
   },
   {
    "duration": 15,
    "start_time": "2022-04-26T16:06:38.091Z"
   },
   {
    "duration": 566,
    "start_time": "2022-04-26T16:06:38.108Z"
   },
   {
    "duration": 15,
    "start_time": "2022-04-26T16:06:38.676Z"
   },
   {
    "duration": 589,
    "start_time": "2022-04-26T16:06:38.692Z"
   },
   {
    "duration": 474,
    "start_time": "2022-04-26T16:06:39.284Z"
   },
   {
    "duration": 374,
    "start_time": "2022-04-26T16:06:39.762Z"
   },
   {
    "duration": 361,
    "start_time": "2022-04-26T16:07:08.278Z"
   },
   {
    "duration": 165,
    "start_time": "2022-04-26T16:08:31.319Z"
   },
   {
    "duration": 240,
    "start_time": "2022-04-26T16:11:22.396Z"
   },
   {
    "duration": 595,
    "start_time": "2022-04-26T16:12:53.400Z"
   },
   {
    "duration": 17,
    "start_time": "2022-04-26T16:13:39.744Z"
   },
   {
    "duration": 32,
    "start_time": "2022-04-26T16:15:13.750Z"
   },
   {
    "duration": 5,
    "start_time": "2022-04-26T16:15:49.119Z"
   },
   {
    "duration": 827,
    "start_time": "2022-04-26T16:18:44.275Z"
   },
   {
    "duration": 30,
    "start_time": "2022-04-26T16:21:22.051Z"
   },
   {
    "duration": 19,
    "start_time": "2022-04-26T16:22:01.920Z"
   },
   {
    "duration": 680,
    "start_time": "2022-04-26T16:22:13.857Z"
   },
   {
    "duration": 6,
    "start_time": "2022-04-26T16:23:23.085Z"
   },
   {
    "duration": 442,
    "start_time": "2022-04-26T16:23:30.999Z"
   },
   {
    "duration": 293,
    "start_time": "2022-04-26T16:24:09.216Z"
   },
   {
    "duration": 318,
    "start_time": "2022-04-26T16:25:02.085Z"
   },
   {
    "duration": 553,
    "start_time": "2022-04-26T16:26:04.816Z"
   },
   {
    "duration": 366,
    "start_time": "2022-04-26T16:26:24.609Z"
   },
   {
    "duration": 430,
    "start_time": "2022-04-26T16:26:31.313Z"
   },
   {
    "duration": 421,
    "start_time": "2022-04-26T16:26:40.275Z"
   },
   {
    "duration": 322,
    "start_time": "2022-04-26T16:26:52.568Z"
   },
   {
    "duration": 425,
    "start_time": "2022-04-26T16:27:06.891Z"
   },
   {
    "duration": 506,
    "start_time": "2022-04-26T16:28:20.319Z"
   },
   {
    "duration": 411,
    "start_time": "2022-04-26T16:28:55.886Z"
   },
   {
    "duration": 383,
    "start_time": "2022-04-26T16:29:08.326Z"
   },
   {
    "duration": 417,
    "start_time": "2022-04-26T16:29:13.961Z"
   },
   {
    "duration": 15,
    "start_time": "2022-04-26T16:30:20.198Z"
   },
   {
    "duration": 251,
    "start_time": "2022-04-26T16:30:42.126Z"
   },
   {
    "duration": 345,
    "start_time": "2022-04-26T16:30:52.403Z"
   },
   {
    "duration": 175,
    "start_time": "2022-04-26T16:32:02.326Z"
   },
   {
    "duration": 162,
    "start_time": "2022-04-26T16:32:14.193Z"
   },
   {
    "duration": 216,
    "start_time": "2022-04-26T16:32:26.365Z"
   },
   {
    "duration": 405,
    "start_time": "2022-04-26T16:32:32.765Z"
   },
   {
    "duration": 403,
    "start_time": "2022-04-26T16:36:52.444Z"
   },
   {
    "duration": 586,
    "start_time": "2022-04-26T16:36:58.764Z"
   },
   {
    "duration": 201,
    "start_time": "2022-04-26T16:42:49.773Z"
   },
   {
    "duration": 336,
    "start_time": "2022-04-26T16:42:58.160Z"
   },
   {
    "duration": 463,
    "start_time": "2022-04-26T16:44:08.644Z"
   },
   {
    "duration": 387,
    "start_time": "2022-04-26T16:44:21.364Z"
   },
   {
    "duration": 412,
    "start_time": "2022-04-26T16:46:35.561Z"
   },
   {
    "duration": 91,
    "start_time": "2022-04-26T18:10:35.671Z"
   },
   {
    "duration": 1427,
    "start_time": "2022-04-26T18:10:44.109Z"
   },
   {
    "duration": 40,
    "start_time": "2022-04-26T18:10:45.539Z"
   },
   {
    "duration": 36,
    "start_time": "2022-04-26T18:10:45.582Z"
   },
   {
    "duration": 16,
    "start_time": "2022-04-26T18:10:45.621Z"
   },
   {
    "duration": 14,
    "start_time": "2022-04-26T18:10:45.639Z"
   },
   {
    "duration": 22,
    "start_time": "2022-04-26T18:10:45.655Z"
   },
   {
    "duration": 67,
    "start_time": "2022-04-26T18:10:45.679Z"
   },
   {
    "duration": 4,
    "start_time": "2022-04-26T18:10:45.748Z"
   },
   {
    "duration": 8,
    "start_time": "2022-04-26T18:10:45.754Z"
   },
   {
    "duration": 58,
    "start_time": "2022-04-26T18:10:45.766Z"
   },
   {
    "duration": 20,
    "start_time": "2022-04-26T18:10:45.827Z"
   },
   {
    "duration": 17,
    "start_time": "2022-04-26T18:10:45.848Z"
   },
   {
    "duration": 8,
    "start_time": "2022-04-26T18:10:45.867Z"
   },
   {
    "duration": 24,
    "start_time": "2022-04-26T18:10:45.907Z"
   },
   {
    "duration": 16,
    "start_time": "2022-04-26T18:10:45.932Z"
   },
   {
    "duration": 17,
    "start_time": "2022-04-26T18:10:45.951Z"
   },
   {
    "duration": 424,
    "start_time": "2022-04-26T18:10:45.969Z"
   },
   {
    "duration": 30,
    "start_time": "2022-04-26T18:10:46.395Z"
   },
   {
    "duration": 479,
    "start_time": "2022-04-26T18:10:46.427Z"
   },
   {
    "duration": 474,
    "start_time": "2022-04-26T18:10:46.909Z"
   },
   {
    "duration": 98,
    "start_time": "2022-04-26T18:10:47.384Z"
   },
   {
    "duration": 335,
    "start_time": "2022-04-26T18:11:24.639Z"
   },
   {
    "duration": 463,
    "start_time": "2022-04-26T18:11:38.868Z"
   },
   {
    "duration": 379,
    "start_time": "2022-04-26T18:11:54.389Z"
   },
   {
    "duration": 351,
    "start_time": "2022-04-26T18:12:09.789Z"
   },
   {
    "duration": 390,
    "start_time": "2022-04-26T18:12:31.631Z"
   },
   {
    "duration": 344,
    "start_time": "2022-04-26T18:13:35.729Z"
   },
   {
    "duration": 414,
    "start_time": "2022-04-26T18:14:33.789Z"
   },
   {
    "duration": 366,
    "start_time": "2022-04-26T18:26:23.709Z"
   },
   {
    "duration": 359,
    "start_time": "2022-04-26T18:27:46.999Z"
   },
   {
    "duration": 453,
    "start_time": "2022-04-26T18:28:23.069Z"
   },
   {
    "duration": 428,
    "start_time": "2022-04-26T18:29:03.590Z"
   },
   {
    "duration": 327,
    "start_time": "2022-04-26T18:29:21.149Z"
   },
   {
    "duration": 460,
    "start_time": "2022-04-26T18:29:47.950Z"
   },
   {
    "duration": 339,
    "start_time": "2022-04-26T18:31:13.830Z"
   },
   {
    "duration": 328,
    "start_time": "2022-04-26T18:31:30.710Z"
   },
   {
    "duration": 310,
    "start_time": "2022-04-26T18:31:44.392Z"
   },
   {
    "duration": 371,
    "start_time": "2022-04-26T18:32:14.510Z"
   },
   {
    "duration": 339,
    "start_time": "2022-04-26T18:39:44.230Z"
   },
   {
    "duration": 358,
    "start_time": "2022-04-26T18:40:22.350Z"
   },
   {
    "duration": 25,
    "start_time": "2022-04-26T18:42:21.310Z"
   },
   {
    "duration": 1609,
    "start_time": "2022-04-26T18:43:05.232Z"
   },
   {
    "duration": 11,
    "start_time": "2022-04-26T18:47:04.190Z"
   },
   {
    "duration": 15,
    "start_time": "2022-04-26T18:51:40.758Z"
   },
   {
    "duration": 124,
    "start_time": "2022-04-26T18:53:10.750Z"
   },
   {
    "duration": 1505,
    "start_time": "2022-04-26T18:54:22.938Z"
   },
   {
    "duration": 1899,
    "start_time": "2022-04-26T18:54:48.478Z"
   },
   {
    "duration": 14,
    "start_time": "2022-04-26T18:56:51.038Z"
   },
   {
    "duration": 1767,
    "start_time": "2022-04-26T18:57:00.566Z"
   },
   {
    "duration": 1852,
    "start_time": "2022-04-27T18:20:21.819Z"
   },
   {
    "duration": 66,
    "start_time": "2022-04-27T18:20:23.674Z"
   },
   {
    "duration": 28,
    "start_time": "2022-04-27T18:20:23.742Z"
   },
   {
    "duration": 21,
    "start_time": "2022-04-27T18:20:23.783Z"
   },
   {
    "duration": 16,
    "start_time": "2022-04-27T18:20:23.808Z"
   },
   {
    "duration": 55,
    "start_time": "2022-04-27T18:20:23.828Z"
   },
   {
    "duration": 57,
    "start_time": "2022-04-27T18:20:23.886Z"
   },
   {
    "duration": 4,
    "start_time": "2022-04-27T18:20:23.946Z"
   },
   {
    "duration": 31,
    "start_time": "2022-04-27T18:20:23.953Z"
   },
   {
    "duration": 29,
    "start_time": "2022-04-27T18:20:23.987Z"
   },
   {
    "duration": 45,
    "start_time": "2022-04-27T18:20:24.019Z"
   },
   {
    "duration": 34,
    "start_time": "2022-04-27T18:20:24.091Z"
   },
   {
    "duration": 13,
    "start_time": "2022-04-27T18:20:24.128Z"
   },
   {
    "duration": 50,
    "start_time": "2022-04-27T18:20:24.147Z"
   },
   {
    "duration": 27,
    "start_time": "2022-04-27T18:20:24.200Z"
   },
   {
    "duration": 25,
    "start_time": "2022-04-27T18:20:24.230Z"
   },
   {
    "duration": 702,
    "start_time": "2022-04-27T18:20:24.282Z"
   },
   {
    "duration": 29,
    "start_time": "2022-04-27T18:20:24.987Z"
   },
   {
    "duration": 993,
    "start_time": "2022-04-27T18:20:25.019Z"
   },
   {
    "duration": 571,
    "start_time": "2022-04-27T18:20:26.016Z"
   },
   {
    "duration": 547,
    "start_time": "2022-04-27T18:20:26.591Z"
   },
   {
    "duration": 698,
    "start_time": "2022-04-27T18:20:27.141Z"
   },
   {
    "duration": 18,
    "start_time": "2022-04-27T18:20:27.841Z"
   },
   {
    "duration": 2862,
    "start_time": "2022-04-27T18:20:27.861Z"
   },
   {
    "duration": 7097,
    "start_time": "2022-04-27T18:20:47.857Z"
   },
   {
    "duration": 2548,
    "start_time": "2022-04-27T18:21:23.377Z"
   },
   {
    "duration": 22,
    "start_time": "2022-04-27T18:21:50.338Z"
   },
   {
    "duration": 19,
    "start_time": "2022-04-27T18:22:23.938Z"
   },
   {
    "duration": 4973,
    "start_time": "2022-04-27T18:23:28.018Z"
   },
   {
    "duration": 19,
    "start_time": "2022-04-27T18:24:51.138Z"
   },
   {
    "duration": 19,
    "start_time": "2022-04-27T18:25:01.298Z"
   },
   {
    "duration": 5149,
    "start_time": "2022-04-27T18:25:08.507Z"
   },
   {
    "duration": 176,
    "start_time": "2022-04-27T18:30:01.778Z"
   },
   {
    "duration": 125,
    "start_time": "2022-04-27T18:30:22.585Z"
   },
   {
    "duration": 12,
    "start_time": "2022-04-27T18:30:32.057Z"
   },
   {
    "duration": 24,
    "start_time": "2022-04-27T18:30:41.747Z"
   },
   {
    "duration": 22,
    "start_time": "2022-04-27T18:31:15.738Z"
   },
   {
    "duration": 10041,
    "start_time": "2022-04-27T18:31:22.298Z"
   },
   {
    "duration": 16,
    "start_time": "2022-04-27T18:35:14.418Z"
   },
   {
    "duration": 11,
    "start_time": "2022-04-27T18:35:34.778Z"
   },
   {
    "duration": 235,
    "start_time": "2022-04-27T18:35:46.657Z"
   },
   {
    "duration": 18,
    "start_time": "2022-04-27T18:36:13.618Z"
   },
   {
    "duration": 205,
    "start_time": "2022-04-27T18:36:21.417Z"
   },
   {
    "duration": 17,
    "start_time": "2022-04-27T18:36:38.019Z"
   },
   {
    "duration": 213,
    "start_time": "2022-04-27T18:36:45.139Z"
   },
   {
    "duration": 50,
    "start_time": "2022-04-27T18:37:54.347Z"
   },
   {
    "duration": 18,
    "start_time": "2022-04-27T18:38:53.258Z"
   },
   {
    "duration": 50,
    "start_time": "2022-04-27T18:38:56.898Z"
   },
   {
    "duration": 23,
    "start_time": "2022-04-27T18:39:36.138Z"
   },
   {
    "duration": 52,
    "start_time": "2022-04-27T18:39:43.297Z"
   },
   {
    "duration": 20,
    "start_time": "2022-04-27T18:41:55.337Z"
   },
   {
    "duration": 45,
    "start_time": "2022-04-27T18:41:58.417Z"
   },
   {
    "duration": 227,
    "start_time": "2022-04-27T18:42:15.776Z"
   },
   {
    "duration": 2435,
    "start_time": "2022-04-27T18:42:22.686Z"
   },
   {
    "duration": 18,
    "start_time": "2022-04-27T18:50:08.417Z"
   },
   {
    "duration": 5339,
    "start_time": "2022-04-27T18:51:19.785Z"
   },
   {
    "duration": 838,
    "start_time": "2022-04-27T19:09:57.426Z"
   },
   {
    "duration": 833,
    "start_time": "2022-04-27T19:10:37.197Z"
   },
   {
    "duration": 794,
    "start_time": "2022-04-27T19:11:18.877Z"
   },
   {
    "duration": 1200,
    "start_time": "2022-04-27T19:11:33.716Z"
   },
   {
    "duration": 820,
    "start_time": "2022-04-27T19:11:44.757Z"
   },
   {
    "duration": 1223,
    "start_time": "2022-04-27T19:11:55.676Z"
   },
   {
    "duration": 798,
    "start_time": "2022-04-27T19:12:10.396Z"
   },
   {
    "duration": 218,
    "start_time": "2022-04-27T19:21:10.397Z"
   },
   {
    "duration": 228,
    "start_time": "2022-04-27T19:21:47.516Z"
   },
   {
    "duration": 1411,
    "start_time": "2022-04-27T19:22:19.797Z"
   },
   {
    "duration": 1274,
    "start_time": "2022-04-27T19:24:35.316Z"
   },
   {
    "duration": 713,
    "start_time": "2022-04-27T19:26:51.146Z"
   },
   {
    "duration": 19,
    "start_time": "2022-04-27T19:27:32.077Z"
   },
   {
    "duration": 18,
    "start_time": "2022-04-27T19:27:52.436Z"
   },
   {
    "duration": 21,
    "start_time": "2022-04-27T19:28:26.717Z"
   },
   {
    "duration": 21,
    "start_time": "2022-04-27T19:28:38.596Z"
   },
   {
    "duration": 1002,
    "start_time": "2022-04-27T19:28:58.716Z"
   },
   {
    "duration": 32,
    "start_time": "2022-04-27T19:32:34.476Z"
   },
   {
    "duration": 21,
    "start_time": "2022-04-27T19:32:52.535Z"
   },
   {
    "duration": 21,
    "start_time": "2022-04-27T19:33:52.356Z"
   },
   {
    "duration": 21,
    "start_time": "2022-04-27T19:34:51.597Z"
   },
   {
    "duration": 280,
    "start_time": "2022-04-27T19:39:04.725Z"
   },
   {
    "duration": 524,
    "start_time": "2022-04-27T19:39:39.797Z"
   },
   {
    "duration": 13,
    "start_time": "2022-04-27T19:40:03.036Z"
   },
   {
    "duration": 275,
    "start_time": "2022-04-27T19:43:08.277Z"
   },
   {
    "duration": 277,
    "start_time": "2022-04-27T19:43:18.035Z"
   },
   {
    "duration": 49,
    "start_time": "2022-04-28T16:25:47.450Z"
   },
   {
    "duration": 1388,
    "start_time": "2022-04-28T16:25:55.616Z"
   },
   {
    "duration": 40,
    "start_time": "2022-04-28T16:25:57.007Z"
   },
   {
    "duration": 28,
    "start_time": "2022-04-28T16:25:57.048Z"
   },
   {
    "duration": 18,
    "start_time": "2022-04-28T16:25:57.078Z"
   },
   {
    "duration": 10,
    "start_time": "2022-04-28T16:25:57.098Z"
   },
   {
    "duration": 29,
    "start_time": "2022-04-28T16:25:57.110Z"
   },
   {
    "duration": 48,
    "start_time": "2022-04-28T16:25:57.141Z"
   },
   {
    "duration": 4,
    "start_time": "2022-04-28T16:25:57.190Z"
   },
   {
    "duration": 13,
    "start_time": "2022-04-28T16:25:57.195Z"
   },
   {
    "duration": 16,
    "start_time": "2022-04-28T16:25:57.210Z"
   },
   {
    "duration": 21,
    "start_time": "2022-04-28T16:25:57.228Z"
   },
   {
    "duration": 37,
    "start_time": "2022-04-28T16:25:57.250Z"
   },
   {
    "duration": 7,
    "start_time": "2022-04-28T16:25:57.289Z"
   },
   {
    "duration": 21,
    "start_time": "2022-04-28T16:25:57.299Z"
   },
   {
    "duration": 17,
    "start_time": "2022-04-28T16:25:57.321Z"
   },
   {
    "duration": 49,
    "start_time": "2022-04-28T16:25:57.339Z"
   },
   {
    "duration": 360,
    "start_time": "2022-04-28T16:25:57.389Z"
   },
   {
    "duration": 24,
    "start_time": "2022-04-28T16:25:57.750Z"
   },
   {
    "duration": 405,
    "start_time": "2022-04-28T16:25:57.776Z"
   },
   {
    "duration": 335,
    "start_time": "2022-04-28T16:25:58.183Z"
   },
   {
    "duration": 307,
    "start_time": "2022-04-28T16:25:58.519Z"
   },
   {
    "duration": 412,
    "start_time": "2022-04-28T16:25:58.827Z"
   },
   {
    "duration": 15,
    "start_time": "2022-04-28T16:25:59.240Z"
   },
   {
    "duration": 1653,
    "start_time": "2022-04-28T16:25:59.257Z"
   },
   {
    "duration": 14,
    "start_time": "2022-04-28T16:26:00.912Z"
   },
   {
    "duration": 3524,
    "start_time": "2022-04-28T16:26:00.928Z"
   },
   {
    "duration": 176,
    "start_time": "2022-04-28T16:26:04.454Z"
   },
   {
    "duration": 18,
    "start_time": "2022-04-28T16:26:04.632Z"
   },
   {
    "duration": 34,
    "start_time": "2022-04-28T16:26:04.652Z"
   },
   {
    "duration": 38,
    "start_time": "2022-04-28T16:26:04.688Z"
   },
   {
    "duration": 172,
    "start_time": "2022-04-28T16:26:43.361Z"
   },
   {
    "duration": 159,
    "start_time": "2022-04-28T16:27:00.121Z"
   },
   {
    "duration": 182,
    "start_time": "2022-04-28T16:32:03.361Z"
   },
   {
    "duration": 193,
    "start_time": "2022-04-28T16:33:50.360Z"
   },
   {
    "duration": 396,
    "start_time": "2022-04-28T16:35:05.800Z"
   },
   {
    "duration": 187,
    "start_time": "2022-04-28T16:35:41.711Z"
   },
   {
    "duration": 164,
    "start_time": "2022-04-28T16:35:51.880Z"
   },
   {
    "duration": 179,
    "start_time": "2022-04-28T16:37:31.041Z"
   },
   {
    "duration": 185,
    "start_time": "2022-04-28T16:37:40.041Z"
   },
   {
    "duration": 180,
    "start_time": "2022-04-28T16:37:49.842Z"
   },
   {
    "duration": 184,
    "start_time": "2022-04-28T16:38:00.641Z"
   },
   {
    "duration": 276,
    "start_time": "2022-04-28T16:39:44.241Z"
   },
   {
    "duration": 181,
    "start_time": "2022-04-28T16:39:48.921Z"
   },
   {
    "duration": 188,
    "start_time": "2022-04-28T16:40:01.601Z"
   },
   {
    "duration": 183,
    "start_time": "2022-04-28T16:40:11.471Z"
   },
   {
    "duration": 175,
    "start_time": "2022-04-28T16:40:21.241Z"
   },
   {
    "duration": 24,
    "start_time": "2022-04-28T16:44:29.280Z"
   },
   {
    "duration": 218,
    "start_time": "2022-04-28T16:44:52.871Z"
   },
   {
    "duration": 20,
    "start_time": "2022-04-28T16:47:15.682Z"
   },
   {
    "duration": 243,
    "start_time": "2022-04-28T16:47:26.482Z"
   },
   {
    "duration": 418,
    "start_time": "2022-04-28T16:47:41.921Z"
   },
   {
    "duration": 248,
    "start_time": "2022-04-28T16:48:14.443Z"
   },
   {
    "duration": 176,
    "start_time": "2022-04-28T16:50:12.521Z"
   },
   {
    "duration": 183,
    "start_time": "2022-04-28T16:53:43.311Z"
   },
   {
    "duration": 123,
    "start_time": "2022-04-28T16:54:25.166Z"
   },
   {
    "duration": 104,
    "start_time": "2022-04-28T16:55:59.121Z"
   },
   {
    "duration": 106,
    "start_time": "2022-04-28T16:56:06.642Z"
   },
   {
    "duration": 328,
    "start_time": "2022-04-28T16:56:39.161Z"
   },
   {
    "duration": 105,
    "start_time": "2022-04-28T16:56:52.921Z"
   },
   {
    "duration": 188,
    "start_time": "2022-04-28T16:57:52.401Z"
   },
   {
    "duration": 120,
    "start_time": "2022-04-28T16:58:04.601Z"
   },
   {
    "duration": 120,
    "start_time": "2022-04-28T16:58:12.801Z"
   },
   {
    "duration": 145,
    "start_time": "2022-04-28T16:58:18.163Z"
   },
   {
    "duration": 143,
    "start_time": "2022-04-28T16:58:39.921Z"
   },
   {
    "duration": 140,
    "start_time": "2022-04-28T16:58:47.122Z"
   },
   {
    "duration": 144,
    "start_time": "2022-04-28T17:00:18.602Z"
   },
   {
    "duration": 142,
    "start_time": "2022-04-28T17:00:49.984Z"
   },
   {
    "duration": 144,
    "start_time": "2022-04-28T17:00:55.112Z"
   },
   {
    "duration": 381,
    "start_time": "2022-04-28T17:01:37.202Z"
   },
   {
    "duration": 263,
    "start_time": "2022-04-28T17:01:49.062Z"
   },
   {
    "duration": 140,
    "start_time": "2022-04-28T17:03:31.081Z"
   },
   {
    "duration": 146,
    "start_time": "2022-04-28T17:04:01.521Z"
   },
   {
    "duration": 151,
    "start_time": "2022-04-28T17:04:19.002Z"
   },
   {
    "duration": 148,
    "start_time": "2022-04-28T17:04:32.161Z"
   },
   {
    "duration": 147,
    "start_time": "2022-04-28T17:05:06.362Z"
   },
   {
    "duration": 142,
    "start_time": "2022-04-28T17:05:47.482Z"
   },
   {
    "duration": 522,
    "start_time": "2022-04-28T17:07:24.921Z"
   },
   {
    "duration": 15,
    "start_time": "2022-04-28T17:11:44.282Z"
   },
   {
    "duration": 139,
    "start_time": "2022-04-28T17:12:45.122Z"
   },
   {
    "duration": 19,
    "start_time": "2022-04-28T17:17:13.842Z"
   },
   {
    "duration": 15,
    "start_time": "2022-04-28T17:17:46.001Z"
   },
   {
    "duration": 28,
    "start_time": "2022-04-28T17:18:43.001Z"
   },
   {
    "duration": 158,
    "start_time": "2022-04-28T17:19:40.402Z"
   },
   {
    "duration": 157,
    "start_time": "2022-04-28T17:20:11.001Z"
   },
   {
    "duration": 177,
    "start_time": "2022-04-28T17:20:36.442Z"
   },
   {
    "duration": 252,
    "start_time": "2022-04-28T17:24:55.121Z"
   },
   {
    "duration": 302,
    "start_time": "2022-04-28T17:26:23.640Z"
   },
   {
    "duration": 552,
    "start_time": "2022-04-28T17:26:51.710Z"
   },
   {
    "duration": 268,
    "start_time": "2022-04-28T17:27:07.080Z"
   },
   {
    "duration": 272,
    "start_time": "2022-04-28T17:27:18.320Z"
   },
   {
    "duration": 268,
    "start_time": "2022-04-28T17:29:03.480Z"
   },
   {
    "duration": 149,
    "start_time": "2022-04-28T17:31:28.840Z"
   },
   {
    "duration": 164,
    "start_time": "2022-04-28T17:31:44.240Z"
   },
   {
    "duration": 159,
    "start_time": "2022-04-28T17:31:57.330Z"
   },
   {
    "duration": 5,
    "start_time": "2022-04-28T17:35:44.281Z"
   },
   {
    "duration": 277,
    "start_time": "2022-04-28T17:36:18.960Z"
   },
   {
    "duration": 279,
    "start_time": "2022-04-28T17:36:42.240Z"
   },
   {
    "duration": 4,
    "start_time": "2022-04-28T17:37:03.241Z"
   },
   {
    "duration": 291,
    "start_time": "2022-04-28T17:37:06.880Z"
   },
   {
    "duration": 86,
    "start_time": "2022-04-28T17:50:23.360Z"
   },
   {
    "duration": 173,
    "start_time": "2022-04-28T17:50:31.400Z"
   },
   {
    "duration": 99,
    "start_time": "2022-04-28T18:02:44.023Z"
   },
   {
    "duration": 76,
    "start_time": "2022-04-28T18:02:54.804Z"
   },
   {
    "duration": 5,
    "start_time": "2022-04-28T18:03:20.204Z"
   },
   {
    "duration": 181,
    "start_time": "2022-04-28T18:03:25.973Z"
   },
   {
    "duration": 4,
    "start_time": "2022-04-28T18:05:06.004Z"
   },
   {
    "duration": 164,
    "start_time": "2022-04-28T18:05:09.284Z"
   },
   {
    "duration": 4,
    "start_time": "2022-04-28T18:06:25.764Z"
   },
   {
    "duration": 163,
    "start_time": "2022-04-28T18:06:29.683Z"
   },
   {
    "duration": 785,
    "start_time": "2022-04-28T18:08:00.763Z"
   },
   {
    "duration": 263,
    "start_time": "2022-04-28T18:08:56.083Z"
   },
   {
    "duration": 266,
    "start_time": "2022-04-28T18:09:22.803Z"
   },
   {
    "duration": 4,
    "start_time": "2022-04-28T18:11:19.652Z"
   },
   {
    "duration": 975,
    "start_time": "2022-04-28T18:11:22.364Z"
   },
   {
    "duration": 597,
    "start_time": "2022-04-28T18:13:40.498Z"
   },
   {
    "duration": 644,
    "start_time": "2022-04-28T18:16:23.617Z"
   },
   {
    "duration": 317,
    "start_time": "2022-04-28T18:16:41.048Z"
   },
   {
    "duration": 254,
    "start_time": "2022-04-28T18:17:15.169Z"
   },
   {
    "duration": 296,
    "start_time": "2022-04-28T18:17:24.968Z"
   },
   {
    "duration": 4,
    "start_time": "2022-04-28T18:20:45.968Z"
   },
   {
    "duration": 576,
    "start_time": "2022-04-28T18:20:55.277Z"
   },
   {
    "duration": 296,
    "start_time": "2022-04-28T18:21:12.329Z"
   },
   {
    "duration": 439,
    "start_time": "2022-04-28T18:22:02.496Z"
   },
   {
    "duration": 426,
    "start_time": "2022-04-28T18:22:21.688Z"
   },
   {
    "duration": 3,
    "start_time": "2022-04-28T18:22:31.169Z"
   },
   {
    "duration": 387,
    "start_time": "2022-04-28T18:22:34.767Z"
   },
   {
    "duration": 738,
    "start_time": "2022-04-28T18:23:48.928Z"
   },
   {
    "duration": 456,
    "start_time": "2022-04-28T18:24:18.209Z"
   },
   {
    "duration": 459,
    "start_time": "2022-04-28T18:24:24.348Z"
   },
   {
    "duration": 4,
    "start_time": "2022-04-28T18:24:53.855Z"
   },
   {
    "duration": 455,
    "start_time": "2022-04-28T18:24:57.337Z"
   },
   {
    "duration": 463,
    "start_time": "2022-04-28T18:25:05.217Z"
   },
   {
    "duration": 448,
    "start_time": "2022-04-28T18:25:14.025Z"
   },
   {
    "duration": 467,
    "start_time": "2022-04-28T18:25:24.426Z"
   },
   {
    "duration": 456,
    "start_time": "2022-04-28T18:25:53.127Z"
   },
   {
    "duration": 12,
    "start_time": "2022-04-28T18:28:57.848Z"
   },
   {
    "duration": 6,
    "start_time": "2022-04-28T18:33:11.372Z"
   },
   {
    "duration": 376,
    "start_time": "2022-04-28T18:33:26.930Z"
   },
   {
    "duration": 281,
    "start_time": "2022-04-28T18:33:42.817Z"
   },
   {
    "duration": 579,
    "start_time": "2022-04-28T18:33:51.769Z"
   },
   {
    "duration": 293,
    "start_time": "2022-04-28T18:34:05.888Z"
   },
   {
    "duration": 17,
    "start_time": "2022-04-28T18:38:47.771Z"
   },
   {
    "duration": 16,
    "start_time": "2022-04-28T18:39:17.688Z"
   },
   {
    "duration": 14,
    "start_time": "2022-04-28T18:40:38.729Z"
   },
   {
    "duration": 14,
    "start_time": "2022-04-28T18:42:03.684Z"
   },
   {
    "duration": 1147,
    "start_time": "2022-04-28T18:42:26.649Z"
   },
   {
    "duration": 83,
    "start_time": "2022-04-28T18:42:42.969Z"
   },
   {
    "duration": 12,
    "start_time": "2022-04-28T18:43:04.180Z"
   },
   {
    "duration": 13,
    "start_time": "2022-04-28T18:43:55.770Z"
   },
   {
    "duration": 1332,
    "start_time": "2022-04-28T18:44:02.570Z"
   },
   {
    "duration": 18,
    "start_time": "2022-04-28T18:47:31.610Z"
   },
   {
    "duration": 81,
    "start_time": "2022-04-28T18:49:39.330Z"
   },
   {
    "duration": 178,
    "start_time": "2022-04-28T18:49:57.931Z"
   },
   {
    "duration": 191,
    "start_time": "2022-04-28T18:50:20.609Z"
   },
   {
    "duration": 233,
    "start_time": "2022-04-28T18:50:36.170Z"
   },
   {
    "duration": 158,
    "start_time": "2022-04-28T18:50:56.130Z"
   },
   {
    "duration": 164,
    "start_time": "2022-04-28T18:51:53.339Z"
   },
   {
    "duration": 166,
    "start_time": "2022-04-28T18:52:02.330Z"
   },
   {
    "duration": 178,
    "start_time": "2022-04-28T18:52:54.117Z"
   },
   {
    "duration": 97,
    "start_time": "2022-04-28T18:54:24.569Z"
   },
   {
    "duration": 24,
    "start_time": "2022-04-28T18:54:31.010Z"
   },
   {
    "duration": 176,
    "start_time": "2022-04-28T18:54:59.250Z"
   },
   {
    "duration": 174,
    "start_time": "2022-04-28T18:55:34.490Z"
   },
   {
    "duration": 174,
    "start_time": "2022-04-28T18:55:52.490Z"
   },
   {
    "duration": 19,
    "start_time": "2022-04-28T18:56:39.557Z"
   },
   {
    "duration": 170,
    "start_time": "2022-04-28T18:57:53.089Z"
   },
   {
    "duration": 83,
    "start_time": "2022-04-28T18:59:24.210Z"
   },
   {
    "duration": 72,
    "start_time": "2022-04-28T18:59:34.929Z"
   },
   {
    "duration": 20,
    "start_time": "2022-04-28T18:59:51.490Z"
   },
   {
    "duration": 184,
    "start_time": "2022-04-28T19:00:14.226Z"
   },
   {
    "duration": 28,
    "start_time": "2022-04-28T19:05:55.449Z"
   },
   {
    "duration": 22,
    "start_time": "2022-04-28T19:06:19.090Z"
   },
   {
    "duration": 380,
    "start_time": "2022-04-28T19:06:50.250Z"
   },
   {
    "duration": 20,
    "start_time": "2022-04-28T19:09:56.650Z"
   },
   {
    "duration": 454,
    "start_time": "2022-04-28T19:10:12.410Z"
   },
   {
    "duration": 31,
    "start_time": "2022-04-28T19:11:09.490Z"
   },
   {
    "duration": 419,
    "start_time": "2022-04-28T19:11:23.369Z"
   },
   {
    "duration": 367,
    "start_time": "2022-04-28T19:13:51.492Z"
   },
   {
    "duration": 27,
    "start_time": "2022-04-28T19:14:01.970Z"
   },
   {
    "duration": 22,
    "start_time": "2022-04-28T19:15:05.610Z"
   },
   {
    "duration": 29,
    "start_time": "2022-04-28T19:15:33.129Z"
   },
   {
    "duration": 25,
    "start_time": "2022-04-28T19:15:58.809Z"
   },
   {
    "duration": 47,
    "start_time": "2022-04-30T16:02:01.697Z"
   },
   {
    "duration": 1332,
    "start_time": "2022-04-30T16:02:08.852Z"
   },
   {
    "duration": 36,
    "start_time": "2022-04-30T16:02:10.187Z"
   },
   {
    "duration": 16,
    "start_time": "2022-04-30T16:02:10.225Z"
   },
   {
    "duration": 13,
    "start_time": "2022-04-30T16:02:10.243Z"
   },
   {
    "duration": 8,
    "start_time": "2022-04-30T16:02:10.258Z"
   },
   {
    "duration": 14,
    "start_time": "2022-04-30T16:02:10.268Z"
   },
   {
    "duration": 55,
    "start_time": "2022-04-30T16:02:10.283Z"
   },
   {
    "duration": 3,
    "start_time": "2022-04-30T16:02:10.340Z"
   },
   {
    "duration": 8,
    "start_time": "2022-04-30T16:02:10.344Z"
   },
   {
    "duration": 12,
    "start_time": "2022-04-30T16:02:10.354Z"
   },
   {
    "duration": 19,
    "start_time": "2022-04-30T16:02:10.368Z"
   },
   {
    "duration": 40,
    "start_time": "2022-04-30T16:02:10.389Z"
   },
   {
    "duration": 8,
    "start_time": "2022-04-30T16:02:10.431Z"
   },
   {
    "duration": 24,
    "start_time": "2022-04-30T16:02:10.441Z"
   },
   {
    "duration": 14,
    "start_time": "2022-04-30T16:02:10.466Z"
   },
   {
    "duration": 15,
    "start_time": "2022-04-30T16:02:10.482Z"
   },
   {
    "duration": 340,
    "start_time": "2022-04-30T16:02:10.498Z"
   },
   {
    "duration": 14,
    "start_time": "2022-04-30T16:02:10.839Z"
   },
   {
    "duration": 361,
    "start_time": "2022-04-30T16:02:10.854Z"
   },
   {
    "duration": 10,
    "start_time": "2022-04-30T16:02:11.217Z"
   },
   {
    "duration": 12,
    "start_time": "2022-04-30T16:02:11.229Z"
   },
   {
    "duration": 300,
    "start_time": "2022-04-30T16:02:11.243Z"
   },
   {
    "duration": 267,
    "start_time": "2022-04-30T16:02:11.545Z"
   },
   {
    "duration": 349,
    "start_time": "2022-04-30T16:02:11.814Z"
   },
   {
    "duration": 14,
    "start_time": "2022-04-30T16:02:12.164Z"
   },
   {
    "duration": 1644,
    "start_time": "2022-04-30T16:02:12.180Z"
   },
   {
    "duration": 14,
    "start_time": "2022-04-30T16:02:13.826Z"
   },
   {
    "duration": 2395,
    "start_time": "2022-04-30T16:02:13.845Z"
   },
   {
    "duration": 109,
    "start_time": "2022-04-30T16:02:16.241Z"
   },
   {
    "duration": 0,
    "start_time": "2022-04-30T16:02:16.352Z"
   },
   {
    "duration": 0,
    "start_time": "2022-04-30T16:02:16.354Z"
   },
   {
    "duration": 0,
    "start_time": "2022-04-30T16:02:16.355Z"
   },
   {
    "duration": 0,
    "start_time": "2022-04-30T16:02:16.357Z"
   },
   {
    "duration": 0,
    "start_time": "2022-04-30T16:02:16.358Z"
   },
   {
    "duration": 0,
    "start_time": "2022-04-30T16:02:16.360Z"
   },
   {
    "duration": 0,
    "start_time": "2022-04-30T16:02:16.361Z"
   },
   {
    "duration": 0,
    "start_time": "2022-04-30T16:02:16.362Z"
   },
   {
    "duration": 6,
    "start_time": "2022-04-30T16:02:46.408Z"
   },
   {
    "duration": 1089,
    "start_time": "2022-04-30T16:02:53.411Z"
   },
   {
    "duration": 35,
    "start_time": "2022-04-30T16:02:54.502Z"
   },
   {
    "duration": 16,
    "start_time": "2022-04-30T16:02:54.539Z"
   },
   {
    "duration": 16,
    "start_time": "2022-04-30T16:02:54.557Z"
   },
   {
    "duration": 9,
    "start_time": "2022-04-30T16:02:54.574Z"
   },
   {
    "duration": 17,
    "start_time": "2022-04-30T16:02:54.584Z"
   },
   {
    "duration": 27,
    "start_time": "2022-04-30T16:02:54.624Z"
   },
   {
    "duration": 3,
    "start_time": "2022-04-30T16:02:54.652Z"
   },
   {
    "duration": 6,
    "start_time": "2022-04-30T16:02:54.657Z"
   },
   {
    "duration": 13,
    "start_time": "2022-04-30T16:02:54.665Z"
   },
   {
    "duration": 21,
    "start_time": "2022-04-30T16:02:54.679Z"
   },
   {
    "duration": 15,
    "start_time": "2022-04-30T16:02:54.724Z"
   },
   {
    "duration": 12,
    "start_time": "2022-04-30T16:02:54.740Z"
   },
   {
    "duration": 17,
    "start_time": "2022-04-30T16:02:54.754Z"
   },
   {
    "duration": 15,
    "start_time": "2022-04-30T16:02:54.773Z"
   },
   {
    "duration": 40,
    "start_time": "2022-04-30T16:02:54.790Z"
   },
   {
    "duration": 327,
    "start_time": "2022-04-30T16:02:54.832Z"
   },
   {
    "duration": 14,
    "start_time": "2022-04-30T16:02:55.161Z"
   },
   {
    "duration": 372,
    "start_time": "2022-04-30T16:02:55.177Z"
   },
   {
    "duration": 6,
    "start_time": "2022-04-30T16:02:55.551Z"
   },
   {
    "duration": 19,
    "start_time": "2022-04-30T16:02:55.559Z"
   },
   {
    "duration": 291,
    "start_time": "2022-04-30T16:02:55.580Z"
   },
   {
    "duration": 273,
    "start_time": "2022-04-30T16:02:55.873Z"
   },
   {
    "duration": 358,
    "start_time": "2022-04-30T16:02:56.148Z"
   },
   {
    "duration": 21,
    "start_time": "2022-04-30T16:02:56.509Z"
   },
   {
    "duration": 2840,
    "start_time": "2022-04-30T16:02:56.532Z"
   },
   {
    "duration": 12,
    "start_time": "2022-04-30T16:02:59.374Z"
   },
   {
    "duration": 1539,
    "start_time": "2022-04-30T16:02:59.389Z"
   },
   {
    "duration": 113,
    "start_time": "2022-04-30T16:03:00.930Z"
   },
   {
    "duration": 0,
    "start_time": "2022-04-30T16:03:01.045Z"
   },
   {
    "duration": 0,
    "start_time": "2022-04-30T16:03:01.046Z"
   },
   {
    "duration": 0,
    "start_time": "2022-04-30T16:03:01.047Z"
   },
   {
    "duration": 0,
    "start_time": "2022-04-30T16:03:01.048Z"
   },
   {
    "duration": 0,
    "start_time": "2022-04-30T16:03:01.048Z"
   },
   {
    "duration": 0,
    "start_time": "2022-04-30T16:03:01.049Z"
   },
   {
    "duration": 0,
    "start_time": "2022-04-30T16:03:01.050Z"
   },
   {
    "duration": 0,
    "start_time": "2022-04-30T16:03:01.051Z"
   },
   {
    "duration": 1129,
    "start_time": "2022-04-30T16:20:55.817Z"
   },
   {
    "duration": 52,
    "start_time": "2022-04-30T16:20:56.949Z"
   },
   {
    "duration": 22,
    "start_time": "2022-04-30T16:20:57.004Z"
   },
   {
    "duration": 13,
    "start_time": "2022-04-30T16:20:57.027Z"
   },
   {
    "duration": 8,
    "start_time": "2022-04-30T16:20:57.041Z"
   },
   {
    "duration": 14,
    "start_time": "2022-04-30T16:20:57.050Z"
   },
   {
    "duration": 25,
    "start_time": "2022-04-30T16:20:57.066Z"
   },
   {
    "duration": 3,
    "start_time": "2022-04-30T16:20:57.124Z"
   },
   {
    "duration": 6,
    "start_time": "2022-04-30T16:20:57.129Z"
   },
   {
    "duration": 13,
    "start_time": "2022-04-30T16:20:57.137Z"
   },
   {
    "duration": 20,
    "start_time": "2022-04-30T16:20:57.151Z"
   },
   {
    "duration": 15,
    "start_time": "2022-04-30T16:20:57.172Z"
   },
   {
    "duration": 41,
    "start_time": "2022-04-30T16:20:57.188Z"
   },
   {
    "duration": 16,
    "start_time": "2022-04-30T16:20:57.231Z"
   },
   {
    "duration": 21,
    "start_time": "2022-04-30T16:20:57.249Z"
   },
   {
    "duration": 22,
    "start_time": "2022-04-30T16:20:57.272Z"
   },
   {
    "duration": 530,
    "start_time": "2022-04-30T16:20:57.296Z"
   },
   {
    "duration": 19,
    "start_time": "2022-04-30T16:20:57.828Z"
   },
   {
    "duration": 608,
    "start_time": "2022-04-30T16:20:57.849Z"
   },
   {
    "duration": 8,
    "start_time": "2022-04-30T16:20:58.459Z"
   },
   {
    "duration": 20,
    "start_time": "2022-04-30T16:20:58.468Z"
   },
   {
    "duration": 357,
    "start_time": "2022-04-30T16:20:58.490Z"
   },
   {
    "duration": 309,
    "start_time": "2022-04-30T16:20:58.848Z"
   },
   {
    "duration": 380,
    "start_time": "2022-04-30T16:20:59.158Z"
   },
   {
    "duration": 14,
    "start_time": "2022-04-30T16:20:59.540Z"
   },
   {
    "duration": 1601,
    "start_time": "2022-04-30T16:20:59.555Z"
   },
   {
    "duration": 12,
    "start_time": "2022-04-30T16:21:01.158Z"
   },
   {
    "duration": 2719,
    "start_time": "2022-04-30T16:21:01.174Z"
   },
   {
    "duration": 116,
    "start_time": "2022-04-30T16:21:03.895Z"
   },
   {
    "duration": 0,
    "start_time": "2022-04-30T16:21:04.013Z"
   },
   {
    "duration": 0,
    "start_time": "2022-04-30T16:21:04.015Z"
   },
   {
    "duration": 0,
    "start_time": "2022-04-30T16:21:04.023Z"
   },
   {
    "duration": 0,
    "start_time": "2022-04-30T16:21:04.024Z"
   },
   {
    "duration": 0,
    "start_time": "2022-04-30T16:21:04.025Z"
   },
   {
    "duration": 0,
    "start_time": "2022-04-30T16:21:04.026Z"
   },
   {
    "duration": 0,
    "start_time": "2022-04-30T16:21:04.027Z"
   },
   {
    "duration": 0,
    "start_time": "2022-04-30T16:21:04.028Z"
   },
   {
    "duration": 13,
    "start_time": "2022-04-30T17:07:15.083Z"
   },
   {
    "duration": 13,
    "start_time": "2022-04-30T17:07:50.888Z"
   },
   {
    "duration": 1281,
    "start_time": "2022-04-30T17:08:01.915Z"
   },
   {
    "duration": 12,
    "start_time": "2022-04-30T17:08:47.356Z"
   },
   {
    "duration": 1595,
    "start_time": "2022-04-30T17:08:52.037Z"
   },
   {
    "duration": 18,
    "start_time": "2022-04-30T17:14:47.379Z"
   },
   {
    "duration": 18,
    "start_time": "2022-04-30T17:15:06.631Z"
   },
   {
    "duration": 295,
    "start_time": "2022-04-30T17:15:16.169Z"
   },
   {
    "duration": 196,
    "start_time": "2022-04-30T17:18:03.311Z"
   },
   {
    "duration": 120,
    "start_time": "2022-04-30T17:21:19.834Z"
   },
   {
    "duration": 19,
    "start_time": "2022-04-30T17:21:25.257Z"
   },
   {
    "duration": 136,
    "start_time": "2022-04-30T17:22:52.816Z"
   },
   {
    "duration": 174,
    "start_time": "2022-04-30T17:23:58.066Z"
   },
   {
    "duration": 165,
    "start_time": "2022-04-30T17:29:29.366Z"
   },
   {
    "duration": 171,
    "start_time": "2022-04-30T17:31:17.419Z"
   },
   {
    "duration": 157,
    "start_time": "2022-04-30T17:32:27.205Z"
   },
   {
    "duration": 165,
    "start_time": "2022-04-30T17:32:48.330Z"
   },
   {
    "duration": 1693,
    "start_time": "2022-05-01T10:14:31.317Z"
   },
   {
    "duration": 65,
    "start_time": "2022-05-01T10:14:33.013Z"
   },
   {
    "duration": 27,
    "start_time": "2022-05-01T10:14:33.081Z"
   },
   {
    "duration": 21,
    "start_time": "2022-05-01T10:14:33.113Z"
   },
   {
    "duration": 13,
    "start_time": "2022-05-01T10:14:33.137Z"
   },
   {
    "duration": 63,
    "start_time": "2022-05-01T10:14:33.153Z"
   },
   {
    "duration": 50,
    "start_time": "2022-05-01T10:14:33.219Z"
   },
   {
    "duration": 23,
    "start_time": "2022-05-01T10:14:33.271Z"
   },
   {
    "duration": 8,
    "start_time": "2022-05-01T10:14:33.297Z"
   },
   {
    "duration": 20,
    "start_time": "2022-05-01T10:14:33.307Z"
   },
   {
    "duration": 30,
    "start_time": "2022-05-01T10:14:33.331Z"
   },
   {
    "duration": 22,
    "start_time": "2022-05-01T10:14:33.392Z"
   },
   {
    "duration": 11,
    "start_time": "2022-05-01T10:14:33.417Z"
   },
   {
    "duration": 27,
    "start_time": "2022-05-01T10:14:33.430Z"
   },
   {
    "duration": 52,
    "start_time": "2022-05-01T10:14:33.459Z"
   },
   {
    "duration": 25,
    "start_time": "2022-05-01T10:14:33.513Z"
   },
   {
    "duration": 540,
    "start_time": "2022-05-01T10:14:33.540Z"
   },
   {
    "duration": 27,
    "start_time": "2022-05-01T10:14:34.083Z"
   },
   {
    "duration": 836,
    "start_time": "2022-05-01T10:14:34.112Z"
   },
   {
    "duration": 8,
    "start_time": "2022-05-01T10:14:34.951Z"
   },
   {
    "duration": 41,
    "start_time": "2022-05-01T10:14:34.961Z"
   },
   {
    "duration": 589,
    "start_time": "2022-05-01T10:14:35.004Z"
   },
   {
    "duration": 510,
    "start_time": "2022-05-01T10:14:35.595Z"
   },
   {
    "duration": 589,
    "start_time": "2022-05-01T10:14:36.107Z"
   },
   {
    "duration": 20,
    "start_time": "2022-05-01T10:14:36.699Z"
   },
   {
    "duration": 2135,
    "start_time": "2022-05-01T10:14:36.722Z"
   },
   {
    "duration": 34,
    "start_time": "2022-05-01T10:14:38.860Z"
   },
   {
    "duration": 2642,
    "start_time": "2022-05-01T10:14:38.896Z"
   },
   {
    "duration": 406,
    "start_time": "2022-05-01T10:14:41.540Z"
   },
   {
    "duration": 320,
    "start_time": "2022-05-01T10:14:41.948Z"
   },
   {
    "duration": 279,
    "start_time": "2022-05-01T10:14:42.270Z"
   },
   {
    "duration": 230,
    "start_time": "2022-05-01T10:14:42.554Z"
   },
   {
    "duration": 215,
    "start_time": "2022-05-01T10:14:42.786Z"
   },
   {
    "duration": 5,
    "start_time": "2022-05-01T10:14:43.004Z"
   },
   {
    "duration": 981,
    "start_time": "2022-05-01T10:14:43.012Z"
   },
   {
    "duration": 298,
    "start_time": "2022-05-01T10:14:43.995Z"
   },
   {
    "duration": 0,
    "start_time": "2022-05-01T10:14:44.296Z"
   },
   {
    "duration": 0,
    "start_time": "2022-05-01T10:14:44.298Z"
   },
   {
    "duration": 300,
    "start_time": "2022-05-01T10:18:18.823Z"
   },
   {
    "duration": 6,
    "start_time": "2022-05-01T10:21:45.303Z"
   },
   {
    "duration": 1173,
    "start_time": "2022-05-01T10:22:30.397Z"
   },
   {
    "duration": 7,
    "start_time": "2022-05-01T10:23:57.931Z"
   },
   {
    "duration": 750,
    "start_time": "2022-05-01T10:24:00.617Z"
   },
   {
    "duration": 6,
    "start_time": "2022-05-01T10:24:17.672Z"
   },
   {
    "duration": 693,
    "start_time": "2022-05-01T10:24:19.916Z"
   },
   {
    "duration": 6,
    "start_time": "2022-05-01T10:24:44.770Z"
   },
   {
    "duration": 5,
    "start_time": "2022-05-01T10:24:48.437Z"
   },
   {
    "duration": 469,
    "start_time": "2022-05-01T10:24:51.019Z"
   },
   {
    "duration": 6,
    "start_time": "2022-05-01T10:25:07.124Z"
   },
   {
    "duration": 711,
    "start_time": "2022-05-01T10:25:10.060Z"
   },
   {
    "duration": 5,
    "start_time": "2022-05-01T10:26:11.738Z"
   },
   {
    "duration": 916,
    "start_time": "2022-05-01T10:26:14.010Z"
   },
   {
    "duration": 929,
    "start_time": "2022-05-01T10:27:01.611Z"
   },
   {
    "duration": 6,
    "start_time": "2022-05-01T10:27:33.047Z"
   },
   {
    "duration": 1192,
    "start_time": "2022-05-01T10:27:35.285Z"
   },
   {
    "duration": 5,
    "start_time": "2022-05-01T10:28:23.611Z"
   },
   {
    "duration": 671,
    "start_time": "2022-05-01T10:28:26.468Z"
   },
   {
    "duration": 700,
    "start_time": "2022-05-01T10:29:14.940Z"
   },
   {
    "duration": 704,
    "start_time": "2022-05-01T10:29:23.991Z"
   },
   {
    "duration": 863,
    "start_time": "2022-05-01T10:30:50.869Z"
   },
   {
    "duration": 7,
    "start_time": "2022-05-01T10:31:27.424Z"
   },
   {
    "duration": 601,
    "start_time": "2022-05-01T10:31:30.182Z"
   },
   {
    "duration": 4,
    "start_time": "2022-05-01T10:35:21.517Z"
   },
   {
    "duration": 703,
    "start_time": "2022-05-01T10:35:23.684Z"
   },
   {
    "duration": 5,
    "start_time": "2022-05-01T10:35:39.895Z"
   },
   {
    "duration": 698,
    "start_time": "2022-05-01T10:35:42.048Z"
   },
   {
    "duration": 5,
    "start_time": "2022-05-01T10:36:23.196Z"
   },
   {
    "duration": 896,
    "start_time": "2022-05-01T10:36:25.560Z"
   },
   {
    "duration": 5,
    "start_time": "2022-05-01T10:37:55.033Z"
   },
   {
    "duration": 216,
    "start_time": "2022-05-01T10:37:57.270Z"
   },
   {
    "duration": 682,
    "start_time": "2022-05-01T10:38:14.895Z"
   },
   {
    "duration": 428,
    "start_time": "2022-05-01T10:40:41.054Z"
   },
   {
    "duration": 5,
    "start_time": "2022-05-01T10:40:43.128Z"
   },
   {
    "duration": 670,
    "start_time": "2022-05-01T10:40:45.633Z"
   },
   {
    "duration": 460,
    "start_time": "2022-05-01T10:45:00.382Z"
   },
   {
    "duration": 5,
    "start_time": "2022-05-01T10:45:03.212Z"
   },
   {
    "duration": 843,
    "start_time": "2022-05-01T10:45:06.325Z"
   },
   {
    "duration": 838,
    "start_time": "2022-05-01T10:46:51.124Z"
   },
   {
    "duration": 766,
    "start_time": "2022-05-01T10:47:11.124Z"
   },
   {
    "duration": 841,
    "start_time": "2022-05-01T10:47:26.576Z"
   },
   {
    "duration": 171,
    "start_time": "2022-05-01T10:50:03.275Z"
   },
   {
    "duration": 177,
    "start_time": "2022-05-01T10:50:09.861Z"
   },
   {
    "duration": 193,
    "start_time": "2022-05-01T10:50:27.932Z"
   },
   {
    "duration": 206,
    "start_time": "2022-05-01T10:50:32.328Z"
   },
   {
    "duration": 179,
    "start_time": "2022-05-01T10:50:37.009Z"
   },
   {
    "duration": 6,
    "start_time": "2022-05-01T10:50:42.294Z"
   },
   {
    "duration": 5,
    "start_time": "2022-05-01T10:51:27.676Z"
   },
   {
    "duration": 768,
    "start_time": "2022-05-01T10:51:30.607Z"
   },
   {
    "duration": 5,
    "start_time": "2022-05-01T10:56:46.861Z"
   },
   {
    "duration": 808,
    "start_time": "2022-05-01T10:56:49.361Z"
   },
   {
    "duration": 830,
    "start_time": "2022-05-01T10:57:52.087Z"
   },
   {
    "duration": 675,
    "start_time": "2022-05-01T11:00:08.402Z"
   },
   {
    "duration": 950,
    "start_time": "2022-05-01T11:00:21.457Z"
   },
   {
    "duration": 659,
    "start_time": "2022-05-01T11:00:35.023Z"
   },
   {
    "duration": 745,
    "start_time": "2022-05-01T11:00:46.160Z"
   },
   {
    "duration": 779,
    "start_time": "2022-05-01T11:01:00.200Z"
   },
   {
    "duration": 725,
    "start_time": "2022-05-01T11:01:11.558Z"
   },
   {
    "duration": 894,
    "start_time": "2022-05-01T11:01:21.729Z"
   },
   {
    "duration": 669,
    "start_time": "2022-05-01T11:01:36.771Z"
   },
   {
    "duration": 730,
    "start_time": "2022-05-01T11:02:46.078Z"
   },
   {
    "duration": 846,
    "start_time": "2022-05-01T11:03:07.597Z"
   },
   {
    "duration": 1020,
    "start_time": "2022-05-01T11:03:16.179Z"
   },
   {
    "duration": 1727,
    "start_time": "2022-05-01T16:19:58.758Z"
   },
   {
    "duration": 54,
    "start_time": "2022-05-01T16:20:00.487Z"
   },
   {
    "duration": 26,
    "start_time": "2022-05-01T16:20:00.547Z"
   },
   {
    "duration": 20,
    "start_time": "2022-05-01T16:20:00.575Z"
   },
   {
    "duration": 27,
    "start_time": "2022-05-01T16:20:00.597Z"
   },
   {
    "duration": 44,
    "start_time": "2022-05-01T16:20:00.627Z"
   },
   {
    "duration": 40,
    "start_time": "2022-05-01T16:20:00.673Z"
   },
   {
    "duration": 4,
    "start_time": "2022-05-01T16:20:00.715Z"
   },
   {
    "duration": 33,
    "start_time": "2022-05-01T16:20:00.723Z"
   },
   {
    "duration": 31,
    "start_time": "2022-05-01T16:20:00.758Z"
   },
   {
    "duration": 41,
    "start_time": "2022-05-01T16:20:00.791Z"
   },
   {
    "duration": 32,
    "start_time": "2022-05-01T16:20:00.834Z"
   },
   {
    "duration": 11,
    "start_time": "2022-05-01T16:20:00.868Z"
   },
   {
    "duration": 41,
    "start_time": "2022-05-01T16:20:00.882Z"
   },
   {
    "duration": 36,
    "start_time": "2022-05-01T16:20:00.926Z"
   },
   {
    "duration": 25,
    "start_time": "2022-05-01T16:20:00.964Z"
   },
   {
    "duration": 555,
    "start_time": "2022-05-01T16:20:00.991Z"
   },
   {
    "duration": 21,
    "start_time": "2022-05-01T16:20:01.551Z"
   },
   {
    "duration": 653,
    "start_time": "2022-05-01T16:20:01.574Z"
   },
   {
    "duration": 8,
    "start_time": "2022-05-01T16:20:02.230Z"
   },
   {
    "duration": 21,
    "start_time": "2022-05-01T16:20:02.252Z"
   },
   {
    "duration": 626,
    "start_time": "2022-05-01T16:20:02.275Z"
   },
   {
    "duration": 531,
    "start_time": "2022-05-01T16:20:02.903Z"
   },
   {
    "duration": 633,
    "start_time": "2022-05-01T16:20:03.436Z"
   },
   {
    "duration": 20,
    "start_time": "2022-05-01T16:20:04.071Z"
   },
   {
    "duration": 2216,
    "start_time": "2022-05-01T16:20:04.093Z"
   },
   {
    "duration": 16,
    "start_time": "2022-05-01T16:20:06.314Z"
   },
   {
    "duration": 2559,
    "start_time": "2022-05-01T16:20:06.332Z"
   },
   {
    "duration": 312,
    "start_time": "2022-05-01T16:20:08.894Z"
   },
   {
    "duration": 315,
    "start_time": "2022-05-01T16:20:09.208Z"
   },
   {
    "duration": 6,
    "start_time": "2022-05-01T16:20:09.525Z"
   },
   {
    "duration": 714,
    "start_time": "2022-05-01T16:20:09.533Z"
   },
   {
    "duration": 702,
    "start_time": "2022-05-01T16:20:10.252Z"
   },
   {
    "duration": 5,
    "start_time": "2022-05-01T16:20:10.956Z"
   },
   {
    "duration": 729,
    "start_time": "2022-05-01T16:20:10.964Z"
   },
   {
    "duration": 439,
    "start_time": "2022-05-01T16:20:11.695Z"
   },
   {
    "duration": 693,
    "start_time": "2022-05-01T16:22:02.735Z"
   },
   {
    "duration": 154,
    "start_time": "2022-05-01T18:16:42.804Z"
   },
   {
    "duration": 11,
    "start_time": "2022-05-01T18:16:50.584Z"
   },
   {
    "duration": 5,
    "start_time": "2022-05-01T18:24:09.168Z"
   },
   {
    "duration": 7,
    "start_time": "2022-05-01T18:24:15.871Z"
   },
   {
    "duration": 12,
    "start_time": "2022-05-01T18:24:23.954Z"
   },
   {
    "duration": 12,
    "start_time": "2022-05-01T18:26:21.368Z"
   },
   {
    "duration": 22,
    "start_time": "2022-05-01T18:28:00.559Z"
   },
   {
    "duration": 5,
    "start_time": "2022-05-01T18:29:14.521Z"
   },
   {
    "duration": 15,
    "start_time": "2022-05-01T18:29:21.105Z"
   },
   {
    "duration": 15,
    "start_time": "2022-05-01T18:30:59.497Z"
   },
   {
    "duration": 17,
    "start_time": "2022-05-01T18:32:27.914Z"
   },
   {
    "duration": 1497,
    "start_time": "2022-05-01T18:35:39.980Z"
   },
   {
    "duration": 48,
    "start_time": "2022-05-01T18:35:41.480Z"
   },
   {
    "duration": 42,
    "start_time": "2022-05-01T18:35:41.535Z"
   },
   {
    "duration": 30,
    "start_time": "2022-05-01T18:35:41.579Z"
   },
   {
    "duration": 43,
    "start_time": "2022-05-01T18:35:41.612Z"
   },
   {
    "duration": 32,
    "start_time": "2022-05-01T18:35:41.658Z"
   },
   {
    "duration": 79,
    "start_time": "2022-05-01T18:35:41.693Z"
   },
   {
    "duration": 5,
    "start_time": "2022-05-01T18:35:41.775Z"
   },
   {
    "duration": 14,
    "start_time": "2022-05-01T18:35:41.784Z"
   },
   {
    "duration": 30,
    "start_time": "2022-05-01T18:35:41.800Z"
   },
   {
    "duration": 43,
    "start_time": "2022-05-01T18:35:41.832Z"
   },
   {
    "duration": 24,
    "start_time": "2022-05-01T18:35:41.877Z"
   },
   {
    "duration": 14,
    "start_time": "2022-05-01T18:35:41.904Z"
   },
   {
    "duration": 51,
    "start_time": "2022-05-01T18:35:41.921Z"
   },
   {
    "duration": 22,
    "start_time": "2022-05-01T18:35:41.974Z"
   },
   {
    "duration": 54,
    "start_time": "2022-05-01T18:35:41.999Z"
   },
   {
    "duration": 561,
    "start_time": "2022-05-01T18:35:42.055Z"
   },
   {
    "duration": 35,
    "start_time": "2022-05-01T18:35:42.618Z"
   },
   {
    "duration": 653,
    "start_time": "2022-05-01T18:35:42.656Z"
   },
   {
    "duration": 9,
    "start_time": "2022-05-01T18:35:43.311Z"
   },
   {
    "duration": 38,
    "start_time": "2022-05-01T18:35:43.322Z"
   },
   {
    "duration": 623,
    "start_time": "2022-05-01T18:35:43.362Z"
   },
   {
    "duration": 533,
    "start_time": "2022-05-01T18:35:43.988Z"
   },
   {
    "duration": 665,
    "start_time": "2022-05-01T18:35:44.523Z"
   },
   {
    "duration": 20,
    "start_time": "2022-05-01T18:35:45.190Z"
   },
   {
    "duration": 2319,
    "start_time": "2022-05-01T18:35:45.213Z"
   },
   {
    "duration": 18,
    "start_time": "2022-05-01T18:35:47.539Z"
   },
   {
    "duration": 2676,
    "start_time": "2022-05-01T18:35:47.560Z"
   },
   {
    "duration": 314,
    "start_time": "2022-05-01T18:35:50.238Z"
   },
   {
    "duration": 322,
    "start_time": "2022-05-01T18:35:50.554Z"
   },
   {
    "duration": 6,
    "start_time": "2022-05-01T18:35:50.878Z"
   },
   {
    "duration": 1027,
    "start_time": "2022-05-01T18:35:50.886Z"
   },
   {
    "duration": 1003,
    "start_time": "2022-05-01T18:35:51.916Z"
   },
   {
    "duration": 7,
    "start_time": "2022-05-01T18:35:52.922Z"
   },
   {
    "duration": 1096,
    "start_time": "2022-05-01T18:35:52.932Z"
   },
   {
    "duration": 30,
    "start_time": "2022-05-01T18:35:54.030Z"
   },
   {
    "duration": 16,
    "start_time": "2022-05-01T18:37:33.675Z"
   },
   {
    "duration": 1313,
    "start_time": "2022-05-02T05:03:47.479Z"
   },
   {
    "duration": 41,
    "start_time": "2022-05-02T05:03:48.794Z"
   },
   {
    "duration": 16,
    "start_time": "2022-05-02T05:03:48.837Z"
   },
   {
    "duration": 14,
    "start_time": "2022-05-02T05:03:48.855Z"
   },
   {
    "duration": 8,
    "start_time": "2022-05-02T05:03:48.870Z"
   },
   {
    "duration": 15,
    "start_time": "2022-05-02T05:03:48.893Z"
   },
   {
    "duration": 26,
    "start_time": "2022-05-02T05:03:48.910Z"
   },
   {
    "duration": 3,
    "start_time": "2022-05-02T05:03:48.937Z"
   },
   {
    "duration": 9,
    "start_time": "2022-05-02T05:03:48.941Z"
   },
   {
    "duration": 14,
    "start_time": "2022-05-02T05:03:48.953Z"
   },
   {
    "duration": 41,
    "start_time": "2022-05-02T05:03:48.969Z"
   },
   {
    "duration": 15,
    "start_time": "2022-05-02T05:03:49.011Z"
   },
   {
    "duration": 8,
    "start_time": "2022-05-02T05:03:49.028Z"
   },
   {
    "duration": 16,
    "start_time": "2022-05-02T05:03:49.037Z"
   },
   {
    "duration": 44,
    "start_time": "2022-05-02T05:03:49.055Z"
   },
   {
    "duration": 15,
    "start_time": "2022-05-02T05:03:49.100Z"
   },
   {
    "duration": 322,
    "start_time": "2022-05-02T05:03:49.117Z"
   },
   {
    "duration": 14,
    "start_time": "2022-05-02T05:03:49.440Z"
   },
   {
    "duration": 370,
    "start_time": "2022-05-02T05:03:49.456Z"
   },
   {
    "duration": 6,
    "start_time": "2022-05-02T05:03:49.827Z"
   },
   {
    "duration": 15,
    "start_time": "2022-05-02T05:03:49.834Z"
   },
   {
    "duration": 349,
    "start_time": "2022-05-02T05:03:49.851Z"
   },
   {
    "duration": 297,
    "start_time": "2022-05-02T05:03:50.202Z"
   },
   {
    "duration": 377,
    "start_time": "2022-05-02T05:03:50.501Z"
   },
   {
    "duration": 19,
    "start_time": "2022-05-02T05:03:50.879Z"
   },
   {
    "duration": 1281,
    "start_time": "2022-05-02T05:03:50.900Z"
   },
   {
    "duration": 13,
    "start_time": "2022-05-02T05:03:52.183Z"
   },
   {
    "duration": 1517,
    "start_time": "2022-05-02T05:03:52.199Z"
   },
   {
    "duration": 177,
    "start_time": "2022-05-02T05:03:53.718Z"
   },
   {
    "duration": 182,
    "start_time": "2022-05-02T05:03:53.897Z"
   },
   {
    "duration": 4,
    "start_time": "2022-05-02T05:03:54.081Z"
   },
   {
    "duration": 431,
    "start_time": "2022-05-02T05:03:54.092Z"
   },
   {
    "duration": 391,
    "start_time": "2022-05-02T05:03:54.525Z"
   },
   {
    "duration": 3,
    "start_time": "2022-05-02T05:03:54.918Z"
   },
   {
    "duration": 411,
    "start_time": "2022-05-02T05:03:54.923Z"
   },
   {
    "duration": 10,
    "start_time": "2022-05-02T05:03:55.335Z"
   },
   {
    "duration": 15,
    "start_time": "2022-05-02T05:03:55.347Z"
   },
   {
    "duration": 95,
    "start_time": "2022-05-02T05:13:40.211Z"
   },
   {
    "duration": 3,
    "start_time": "2022-05-02T05:14:34.756Z"
   },
   {
    "duration": 5,
    "start_time": "2022-05-02T05:14:45.985Z"
   },
   {
    "duration": 4,
    "start_time": "2022-05-02T05:15:10.946Z"
   },
   {
    "duration": 5,
    "start_time": "2022-05-02T05:15:27.690Z"
   },
   {
    "duration": 47,
    "start_time": "2022-05-05T15:13:28.456Z"
   },
   {
    "duration": 1282,
    "start_time": "2022-05-05T17:20:00.909Z"
   },
   {
    "duration": 41,
    "start_time": "2022-05-05T17:20:02.193Z"
   },
   {
    "duration": 15,
    "start_time": "2022-05-05T17:20:02.236Z"
   },
   {
    "duration": 16,
    "start_time": "2022-05-05T17:20:02.253Z"
   },
   {
    "duration": 8,
    "start_time": "2022-05-05T17:20:02.271Z"
   },
   {
    "duration": 22,
    "start_time": "2022-05-05T17:20:02.280Z"
   },
   {
    "duration": 24,
    "start_time": "2022-05-05T17:20:02.303Z"
   },
   {
    "duration": 3,
    "start_time": "2022-05-05T17:20:02.328Z"
   },
   {
    "duration": 19,
    "start_time": "2022-05-05T17:20:02.332Z"
   },
   {
    "duration": 19,
    "start_time": "2022-05-05T17:20:02.353Z"
   },
   {
    "duration": 23,
    "start_time": "2022-05-05T17:20:02.373Z"
   },
   {
    "duration": 13,
    "start_time": "2022-05-05T17:20:02.400Z"
   },
   {
    "duration": 11,
    "start_time": "2022-05-05T17:20:02.414Z"
   },
   {
    "duration": 16,
    "start_time": "2022-05-05T17:20:02.428Z"
   },
   {
    "duration": 26,
    "start_time": "2022-05-05T17:20:02.446Z"
   },
   {
    "duration": 26,
    "start_time": "2022-05-05T17:20:02.474Z"
   },
   {
    "duration": 293,
    "start_time": "2022-05-05T17:20:02.502Z"
   },
   {
    "duration": 12,
    "start_time": "2022-05-05T17:20:02.797Z"
   },
   {
    "duration": 351,
    "start_time": "2022-05-05T17:20:02.811Z"
   },
   {
    "duration": 6,
    "start_time": "2022-05-05T17:20:03.164Z"
   },
   {
    "duration": 29,
    "start_time": "2022-05-05T17:20:03.171Z"
   },
   {
    "duration": 316,
    "start_time": "2022-05-05T17:20:03.202Z"
   },
   {
    "duration": 261,
    "start_time": "2022-05-05T17:20:03.520Z"
   },
   {
    "duration": 344,
    "start_time": "2022-05-05T17:20:03.783Z"
   },
   {
    "duration": 11,
    "start_time": "2022-05-05T17:20:04.128Z"
   },
   {
    "duration": 1404,
    "start_time": "2022-05-05T17:20:04.141Z"
   },
   {
    "duration": 11,
    "start_time": "2022-05-05T17:20:05.546Z"
   },
   {
    "duration": 1476,
    "start_time": "2022-05-05T17:20:05.559Z"
   },
   {
    "duration": 168,
    "start_time": "2022-05-05T17:20:07.037Z"
   },
   {
    "duration": 168,
    "start_time": "2022-05-05T17:20:07.207Z"
   },
   {
    "duration": 3,
    "start_time": "2022-05-05T17:20:07.377Z"
   },
   {
    "duration": 394,
    "start_time": "2022-05-05T17:20:07.382Z"
   },
   {
    "duration": 407,
    "start_time": "2022-05-05T17:20:07.778Z"
   },
   {
    "duration": 4,
    "start_time": "2022-05-05T17:20:08.186Z"
   },
   {
    "duration": 411,
    "start_time": "2022-05-05T17:20:08.191Z"
   },
   {
    "duration": 9,
    "start_time": "2022-05-05T17:20:08.604Z"
   },
   {
    "duration": 12,
    "start_time": "2022-05-05T17:20:08.614Z"
   },
   {
    "duration": 281,
    "start_time": "2022-05-05T17:20:55.228Z"
   },
   {
    "duration": 161,
    "start_time": "2022-05-05T17:21:33.310Z"
   },
   {
    "duration": 253,
    "start_time": "2022-05-05T17:23:56.028Z"
   },
   {
    "duration": 184,
    "start_time": "2022-05-05T17:32:52.146Z"
   },
   {
    "duration": 168,
    "start_time": "2022-05-05T17:35:13.468Z"
   },
   {
    "duration": 95,
    "start_time": "2022-05-05T17:36:15.952Z"
   },
   {
    "duration": 166,
    "start_time": "2022-05-05T17:36:26.036Z"
   },
   {
    "duration": 1146,
    "start_time": "2022-05-05T17:50:00.766Z"
   },
   {
    "duration": 41,
    "start_time": "2022-05-05T17:50:01.914Z"
   },
   {
    "duration": 15,
    "start_time": "2022-05-05T17:50:01.957Z"
   },
   {
    "duration": 19,
    "start_time": "2022-05-05T17:50:01.973Z"
   },
   {
    "duration": 41,
    "start_time": "2022-05-05T17:50:01.994Z"
   },
   {
    "duration": 60,
    "start_time": "2022-05-05T17:50:02.036Z"
   },
   {
    "duration": 39,
    "start_time": "2022-05-05T17:50:02.098Z"
   },
   {
    "duration": 3,
    "start_time": "2022-05-05T17:50:02.138Z"
   },
   {
    "duration": 29,
    "start_time": "2022-05-05T17:50:02.143Z"
   },
   {
    "duration": 20,
    "start_time": "2022-05-05T17:50:02.174Z"
   },
   {
    "duration": 44,
    "start_time": "2022-05-05T17:50:02.196Z"
   },
   {
    "duration": 29,
    "start_time": "2022-05-05T17:50:02.242Z"
   },
   {
    "duration": 7,
    "start_time": "2022-05-05T17:50:02.273Z"
   },
   {
    "duration": 33,
    "start_time": "2022-05-05T17:50:02.283Z"
   },
   {
    "duration": 33,
    "start_time": "2022-05-05T17:50:02.318Z"
   },
   {
    "duration": 83,
    "start_time": "2022-05-05T17:50:02.353Z"
   },
   {
    "duration": 304,
    "start_time": "2022-05-05T17:50:02.438Z"
   },
   {
    "duration": 13,
    "start_time": "2022-05-05T17:50:02.743Z"
   },
   {
    "duration": 342,
    "start_time": "2022-05-05T17:50:02.758Z"
   },
   {
    "duration": 5,
    "start_time": "2022-05-05T17:50:03.102Z"
   },
   {
    "duration": 15,
    "start_time": "2022-05-05T17:50:03.108Z"
   },
   {
    "duration": 329,
    "start_time": "2022-05-05T17:50:03.125Z"
   },
   {
    "duration": 267,
    "start_time": "2022-05-05T17:50:03.456Z"
   },
   {
    "duration": 349,
    "start_time": "2022-05-05T17:50:03.725Z"
   },
   {
    "duration": 12,
    "start_time": "2022-05-05T17:50:04.075Z"
   },
   {
    "duration": 1761,
    "start_time": "2022-05-05T17:50:04.088Z"
   },
   {
    "duration": 79,
    "start_time": "2022-05-05T17:50:05.850Z"
   },
   {
    "duration": 2498,
    "start_time": "2022-05-05T17:50:05.931Z"
   },
   {
    "duration": 257,
    "start_time": "2022-05-05T17:50:08.431Z"
   },
   {
    "duration": 280,
    "start_time": "2022-05-05T17:50:08.690Z"
   },
   {
    "duration": 5,
    "start_time": "2022-05-05T17:50:08.972Z"
   },
   {
    "duration": 372,
    "start_time": "2022-05-05T17:50:08.979Z"
   },
   {
    "duration": 371,
    "start_time": "2022-05-05T17:50:09.353Z"
   },
   {
    "duration": 4,
    "start_time": "2022-05-05T17:50:09.726Z"
   },
   {
    "duration": 397,
    "start_time": "2022-05-05T17:50:09.732Z"
   },
   {
    "duration": 10,
    "start_time": "2022-05-05T17:50:10.130Z"
   },
   {
    "duration": 13,
    "start_time": "2022-05-05T17:50:10.141Z"
   },
   {
    "duration": 6,
    "start_time": "2022-05-05T17:52:14.398Z"
   },
   {
    "duration": 12,
    "start_time": "2022-05-05T17:52:26.706Z"
   },
   {
    "duration": 6,
    "start_time": "2022-05-05T17:52:36.354Z"
   },
   {
    "duration": 18,
    "start_time": "2022-05-05T17:52:47.693Z"
   },
   {
    "duration": 6,
    "start_time": "2022-05-05T17:53:55.095Z"
   },
   {
    "duration": 14,
    "start_time": "2022-05-05T17:53:57.630Z"
   },
   {
    "duration": 7,
    "start_time": "2022-05-05T17:57:30.051Z"
   },
   {
    "duration": 16,
    "start_time": "2022-05-05T17:57:41.705Z"
   },
   {
    "duration": 337,
    "start_time": "2022-05-05T17:58:44.231Z"
   },
   {
    "duration": 257,
    "start_time": "2022-05-05T18:00:09.464Z"
   },
   {
    "duration": 256,
    "start_time": "2022-05-05T18:00:58.305Z"
   },
   {
    "duration": 12,
    "start_time": "2022-05-05T18:02:26.185Z"
   },
   {
    "duration": 1372,
    "start_time": "2022-05-05T18:02:44.721Z"
   },
   {
    "duration": 15,
    "start_time": "2022-05-05T18:03:25.790Z"
   },
   {
    "duration": 1709,
    "start_time": "2022-05-05T18:03:40.914Z"
   },
   {
    "duration": 169,
    "start_time": "2022-05-05T18:04:20.513Z"
   },
   {
    "duration": 178,
    "start_time": "2022-05-05T18:04:41.673Z"
   },
   {
    "duration": 414,
    "start_time": "2022-05-05T18:05:24.682Z"
   },
   {
    "duration": 453,
    "start_time": "2022-05-05T18:06:50.592Z"
   },
   {
    "duration": 292,
    "start_time": "2022-05-05T18:12:55.752Z"
   },
   {
    "duration": 265,
    "start_time": "2022-05-05T18:17:21.592Z"
   },
   {
    "duration": 12,
    "start_time": "2022-05-05T18:18:28.128Z"
   },
   {
    "duration": 15,
    "start_time": "2022-05-05T18:19:11.631Z"
   },
   {
    "duration": 1399,
    "start_time": "2022-05-05T18:19:19.916Z"
   },
   {
    "duration": 1389,
    "start_time": "2022-05-05T18:24:14.689Z"
   },
   {
    "duration": 61,
    "start_time": "2022-05-05T18:24:16.080Z"
   },
   {
    "duration": 16,
    "start_time": "2022-05-05T18:24:16.143Z"
   },
   {
    "duration": 14,
    "start_time": "2022-05-05T18:24:16.161Z"
   },
   {
    "duration": 25,
    "start_time": "2022-05-05T18:24:16.177Z"
   },
   {
    "duration": 27,
    "start_time": "2022-05-05T18:24:16.204Z"
   },
   {
    "duration": 30,
    "start_time": "2022-05-05T18:24:16.233Z"
   },
   {
    "duration": 3,
    "start_time": "2022-05-05T18:24:16.264Z"
   },
   {
    "duration": 6,
    "start_time": "2022-05-05T18:24:16.269Z"
   },
   {
    "duration": 39,
    "start_time": "2022-05-05T18:24:16.276Z"
   },
   {
    "duration": 28,
    "start_time": "2022-05-05T18:24:16.318Z"
   },
   {
    "duration": 14,
    "start_time": "2022-05-05T18:24:16.348Z"
   },
   {
    "duration": 7,
    "start_time": "2022-05-05T18:24:16.364Z"
   },
   {
    "duration": 53,
    "start_time": "2022-05-05T18:24:16.374Z"
   },
   {
    "duration": 20,
    "start_time": "2022-05-05T18:24:16.429Z"
   },
   {
    "duration": 15,
    "start_time": "2022-05-05T18:24:16.450Z"
   },
   {
    "duration": 381,
    "start_time": "2022-05-05T18:24:16.466Z"
   },
   {
    "duration": 22,
    "start_time": "2022-05-05T18:24:16.849Z"
   },
   {
    "duration": 416,
    "start_time": "2022-05-05T18:24:16.873Z"
   },
   {
    "duration": 16,
    "start_time": "2022-05-05T18:24:17.291Z"
   },
   {
    "duration": 41,
    "start_time": "2022-05-05T18:24:17.308Z"
   },
   {
    "duration": 428,
    "start_time": "2022-05-05T18:24:17.351Z"
   },
   {
    "duration": 310,
    "start_time": "2022-05-05T18:24:17.781Z"
   },
   {
    "duration": 367,
    "start_time": "2022-05-05T18:24:18.092Z"
   },
   {
    "duration": 12,
    "start_time": "2022-05-05T18:24:18.461Z"
   },
   {
    "duration": 1852,
    "start_time": "2022-05-05T18:24:18.475Z"
   },
   {
    "duration": 17,
    "start_time": "2022-05-05T18:24:20.329Z"
   },
   {
    "duration": 2029,
    "start_time": "2022-05-05T18:24:20.348Z"
   },
   {
    "duration": 261,
    "start_time": "2022-05-05T18:24:22.379Z"
   },
   {
    "duration": 308,
    "start_time": "2022-05-05T18:24:22.642Z"
   },
   {
    "duration": 4,
    "start_time": "2022-05-05T18:24:22.952Z"
   },
   {
    "duration": 424,
    "start_time": "2022-05-05T18:24:22.957Z"
   },
   {
    "duration": 408,
    "start_time": "2022-05-05T18:24:23.382Z"
   },
   {
    "duration": 5,
    "start_time": "2022-05-05T18:24:23.799Z"
   },
   {
    "duration": 431,
    "start_time": "2022-05-05T18:24:23.807Z"
   },
   {
    "duration": 11,
    "start_time": "2022-05-05T18:24:24.240Z"
   },
   {
    "duration": 11,
    "start_time": "2022-05-05T18:24:24.252Z"
   },
   {
    "duration": 1171,
    "start_time": "2022-05-05T18:31:52.527Z"
   },
   {
    "duration": 56,
    "start_time": "2022-05-05T18:31:53.700Z"
   },
   {
    "duration": 15,
    "start_time": "2022-05-05T18:31:53.758Z"
   },
   {
    "duration": 13,
    "start_time": "2022-05-05T18:31:53.775Z"
   },
   {
    "duration": 7,
    "start_time": "2022-05-05T18:31:53.790Z"
   },
   {
    "duration": 57,
    "start_time": "2022-05-05T18:31:53.799Z"
   },
   {
    "duration": 24,
    "start_time": "2022-05-05T18:31:53.857Z"
   },
   {
    "duration": 3,
    "start_time": "2022-05-05T18:31:53.882Z"
   },
   {
    "duration": 6,
    "start_time": "2022-05-05T18:31:53.886Z"
   },
   {
    "duration": 25,
    "start_time": "2022-05-05T18:31:53.895Z"
   },
   {
    "duration": 30,
    "start_time": "2022-05-05T18:31:53.923Z"
   },
   {
    "duration": 15,
    "start_time": "2022-05-05T18:31:53.955Z"
   },
   {
    "duration": 7,
    "start_time": "2022-05-05T18:31:53.971Z"
   },
   {
    "duration": 25,
    "start_time": "2022-05-05T18:31:53.980Z"
   },
   {
    "duration": 29,
    "start_time": "2022-05-05T18:31:54.007Z"
   },
   {
    "duration": 17,
    "start_time": "2022-05-05T18:31:54.038Z"
   },
   {
    "duration": 357,
    "start_time": "2022-05-05T18:31:54.057Z"
   },
   {
    "duration": 18,
    "start_time": "2022-05-05T18:31:54.416Z"
   },
   {
    "duration": 385,
    "start_time": "2022-05-05T18:31:54.436Z"
   },
   {
    "duration": 8,
    "start_time": "2022-05-05T18:31:54.823Z"
   },
   {
    "duration": 15,
    "start_time": "2022-05-05T18:31:54.832Z"
   },
   {
    "duration": 301,
    "start_time": "2022-05-05T18:31:54.849Z"
   },
   {
    "duration": 313,
    "start_time": "2022-05-05T18:31:55.152Z"
   },
   {
    "duration": 372,
    "start_time": "2022-05-05T18:31:55.467Z"
   },
   {
    "duration": 12,
    "start_time": "2022-05-05T18:31:55.841Z"
   },
   {
    "duration": 1359,
    "start_time": "2022-05-05T18:31:55.854Z"
   },
   {
    "duration": 15,
    "start_time": "2022-05-05T18:31:57.216Z"
   },
   {
    "duration": 1609,
    "start_time": "2022-05-05T18:31:57.236Z"
   },
   {
    "duration": 184,
    "start_time": "2022-05-05T18:31:58.846Z"
   },
   {
    "duration": 175,
    "start_time": "2022-05-05T18:31:59.033Z"
   },
   {
    "duration": 4,
    "start_time": "2022-05-05T18:31:59.210Z"
   },
   {
    "duration": 445,
    "start_time": "2022-05-05T18:31:59.215Z"
   },
   {
    "duration": 430,
    "start_time": "2022-05-05T18:31:59.661Z"
   },
   {
    "duration": 4,
    "start_time": "2022-05-05T18:32:00.093Z"
   },
   {
    "duration": 480,
    "start_time": "2022-05-05T18:32:00.099Z"
   },
   {
    "duration": 23,
    "start_time": "2022-05-05T18:32:00.581Z"
   },
   {
    "duration": 19,
    "start_time": "2022-05-05T18:32:00.609Z"
   }
  ],
  "kernelspec": {
   "display_name": "Python 3 (ipykernel)",
   "language": "python",
   "name": "python3"
  },
  "language_info": {
   "codemirror_mode": {
    "name": "ipython",
    "version": 3
   },
   "file_extension": ".py",
   "mimetype": "text/x-python",
   "name": "python",
   "nbconvert_exporter": "python",
   "pygments_lexer": "ipython3",
   "version": "3.9.7"
  },
  "toc": {
   "base_numbering": 1,
   "nav_menu": {},
   "number_sections": true,
   "sideBar": true,
   "skip_h1_title": true,
   "title_cell": "Table of Contents",
   "title_sidebar": "Contents",
   "toc_cell": false,
   "toc_position": {
    "height": "calc(100% - 180px)",
    "left": "10px",
    "top": "150px",
    "width": "177px"
   },
   "toc_section_display": true,
   "toc_window_display": true
  }
 },
 "nbformat": 4,
 "nbformat_minor": 2
}
